{
  "cells": [
    {
      "cell_type": "markdown",
      "metadata": {},
      "source": [
        "# AB-тестирование\n",
        "## Задание AB.1\n",
        "\n",
        "\n",
        "**Правила:**\n",
        "\n",
        "* Дедлайны см. в боте. После дедлайна работы не принимаются кроме случаев наличия уважительной причины.\n",
        "* Выполненную работу нужно отправить телеграм-боту `@miptstats_ds24_bot`. Для начала работы с ботом каждый раз отправляйте `/start`. **Работы, присланные иным способом, не принимаются.**\n",
        "* Дедлайны см. в боте. После дедлайна работы не принимаются кроме случаев наличия уважительной причины.\n",
        "* Прислать нужно **ноутбук в формате `ipynb`**.\n",
        "* Следите за размером файлов. **Бот не может принимать файлы весом более 20 Мб.** Если файл получается больше, заранее разделите его на несколько.\n",
        "* Выполнять задание необходимо полностью самостоятельно. **При обнаружении списывания все участники списывания будут сдавать устный зачет.**\n",
        "* Решения, размещенные на каких-либо интернет-ресурсах, не принимаются. Кроме того, публикация решения в открытом доступе может быть приравнена к предоставлении возможности списать.\n",
        "* Для выполнения задания используйте этот ноутбук в качестве основы, ничего не удаляя из него. Можно добавлять необходимое количество ячеек.\n",
        "* Комментарии к решению пишите в markdown-ячейках.\n",
        "* Выполнение задания (ход решения, выводы и пр.) должно быть осуществлено на русском языке.\n",
        "* Если код будет не понятен проверяющему, оценка может быть снижена.\n",
        "* Никакой код из данного задания при проверке запускаться не будет. *Если код студента не выполнен, недописан и т.д., то он не оценивается.*\n",
        "* В каждой задаче не забывайте делать **пояснения и выводы**.\n",
        "* **Код из рассказанных на занятиях ноутбуков** можно использовать без ограничений.\n",
        "\n",
        "**Правила оформления теоретических задач:**\n",
        "\n",
        "* Решения необходимо прислать одним из следующих способов:\n",
        "  * фотографией в правильной ориентации, где все четко видно, а почерк разборчив,\n",
        "    * отправив ее как файл боту вместе с ноутбуком *или*\n",
        "    * вставив ее в ноутбук посредством `Edit -> Insert Image` (<font color=\"red\">фото, вставленные ссылкой, не принимаются</font>);\n",
        "  * в виде $LaTeX$ в markdown-ячейках.\n",
        "* Решения не проверяются, если какое-то требование не выполнено. Особенно внимательно все проверьте в случае выбора второго пункта (вставки фото в ноутбук). <font color=\"red\"><b>Неправильно вставленные фотографии могут не передаться при отправке.</b></font> Для проверки попробуйте переместить `ipynb` в другую папку и открыть его там.\n",
        "* В решениях поясняйте, чем вы пользуетесь, хотя бы кратко. Например, если пользуетесь независимостью, то достаточно подписи вида \"*X и Y незав.*\"\n",
        "* Решение, в котором есть только ответ, и отсутствуют вычисления, оценивается в 0 баллов.\n",
        "\n",
        "<b><font size=\"5\" color=\"red\">Важно!!! Правила заполнения ноутбука:</font></b>\n",
        "* Запрещается удалять имеющиеся в ноутбуке ячейки, менять местами положения задач.\n",
        "* Сохраняйте естественный линейный порядок повествования в ноутбуке сверху-вниз.\n",
        "* Отвечайте на вопросы, а также добавляйте новые ячейки в предложенных местах, которые обозначены `<...>`.\n",
        "* В markdown-ячейка, содержащих описание задачи находятся специальные отметки, которые <font color=\"red\"><b>запрещается модифицировать</b></font>.\n",
        "\n",
        "**Баллы за задание:**\n",
        "\n",
        "* Задача 1 — 10 баллов\n",
        "* Задача 2 — 10 баллов\n",
        "* Задача 3 — 30 баллов\n",
        "* Задача 4 — 40 баллов\n",
        "* Задача 5 — 60 баллов\n",
        "* Задача 6 — 60 баллов\n",
        "\n",
        "\n",
        "\n",
        "\n",
        "**Важность задач:**\n",
        "\n",
        "* *высокая:* задачи 1, 2, 3, 5, 6;\n",
        "* *средняя:* задача 4.\n",
        "\n",
        "\n",
        "----\n"
      ]
    },
    {
      "cell_type": "markdown",
      "metadata": {},
      "source": [
        "<b><font size=\"5\">Дорешка:</font></b>\n",
        "\n",
        "* <b><font size=\"4\">Задача 5</font></b>\n",
        "  * <b><font color=\"#00b565\" size=\"3\">Исправил код (надо было взять 300 юзеров)</font></b>\n",
        "\n",
        "*Примечание*\n",
        "* <b><font color=\"#00b565\">#00b565 &mdash; цвет для исправления замечаний</font></b>\n",
        "* <b><font color=\"#f09000\">#f09000 &mdash; цвет для решений с нуля</font></b>\n",
        "* проверяющий может иначе классифицировать эти два типа дорешек"
      ]
    },
    {
      "cell_type": "code",
      "execution_count": 1,
      "metadata": {},
      "outputs": [],
      "source": [
        "# Bot check\n",
        "\n",
        "# HW_ID: ds_ab1\n",
        "# Бот проверит этот ID и предупредит, если случайно сдать что-то не то.\n",
        "\n",
        "# Status: final\n",
        "# Перед отправкой в финальном решении удали \"not\" в строчке выше.\n",
        "# Так бот проверит, что ты отправляешь финальную версию, а не промежуточную.\n",
        "# Никакие значения в этой ячейке не влияют на факт сдачи работы."
      ]
    },
    {
      "cell_type": "code",
      "execution_count": 2,
      "metadata": {},
      "outputs": [],
      "source": [
        "import numpy as np\n",
        "import pandas as pd\n",
        "import scipy.stats as sps\n",
        "import warnings\n",
        "warnings.filterwarnings(\"ignore\")\n",
        "from tqdm import tqdm\n",
        "import matplotlib.pyplot as plt\n",
        "import seaborn as sns\n",
        "sns.set(style='whitegrid', palette='Set2')\n",
        "from statsmodels.stats.proportion import proportion_confint"
      ]
    },
    {
      "cell_type": "markdown",
      "metadata": {
        "ai_eval_tool": {
          "snippet_hash": "b3d4a8d1eb3329088705105755e44228",
          "snippet_label": "start"
        }
      },
      "source": [
        "<!-- Внимание! Здесь находится специальная отметка. Ее нельзя удалять! Ответы на вопросы / выводы для предыдущего пункта(ов) пиши в ячейках выше! -->\n",
        "<!-- b3d4a8d1eb3329088705105755e44228 -->\n",
        "---\n",
        "### Задача 1\n",
        "\n",
        "Проверьте, отличается ли средний балл студентов 3 курса DS-потока за задания SP.9 и SP.10 осенью 2024. Не забывайте статистическую значимость и про визуализацию"
      ]
    },
    {
      "cell_type": "markdown",
      "metadata": {},
      "source": [
        "*Скопируем два столбца из <a href=\"https://docs.google.com/spreadsheets/d/1ivKKoABO9EhpuYlP_73B_1w9I5dVv6dCOyJ5qWHbn78/edit?gid=539969719#gid=539969719\">таблицы оценок</a> в csv. Прочитаем файл и сначала просто сравним распределения баллов на глаз*  \n",
        "*Отметим, что максимальные баллы за два дз отличаются: max за SP9 = 210, max за SP10 = 240. На самый первый взгляд кажется, что средний балл за SP10 будет выше (т.к. выше и суммарное кол-во разыгрываемых за дз баллов)*"
      ]
    },
    {
      "cell_type": "code",
      "execution_count": 3,
      "metadata": {
        "ai_eval_tool": {
          "snippet_hash": "b3d4a8d1eb3329088705105755e44228",
          "snippet_label": "end"
        }
      },
      "outputs": [
        {
          "data": {
            "text/html": [
              "<div>\n",
              "<style scoped>\n",
              "    .dataframe tbody tr th:only-of-type {\n",
              "        vertical-align: middle;\n",
              "    }\n",
              "\n",
              "    .dataframe tbody tr th {\n",
              "        vertical-align: top;\n",
              "    }\n",
              "\n",
              "    .dataframe thead th {\n",
              "        text-align: right;\n",
              "    }\n",
              "</style>\n",
              "<table border=\"1\" class=\"dataframe\">\n",
              "  <thead>\n",
              "    <tr style=\"text-align: right;\">\n",
              "      <th></th>\n",
              "      <th>SP9</th>\n",
              "      <th>SP10</th>\n",
              "    </tr>\n",
              "  </thead>\n",
              "  <tbody>\n",
              "    <tr>\n",
              "      <th>0</th>\n",
              "      <td>149.5</td>\n",
              "      <td>150</td>\n",
              "    </tr>\n",
              "    <tr>\n",
              "      <th>1</th>\n",
              "      <td>197.5</td>\n",
              "      <td>206</td>\n",
              "    </tr>\n",
              "    <tr>\n",
              "      <th>2</th>\n",
              "      <td>170.5</td>\n",
              "      <td>170</td>\n",
              "    </tr>\n",
              "  </tbody>\n",
              "</table>\n",
              "</div>"
            ],
            "text/plain": [
              "     SP9  SP10\n",
              "0  149.5   150\n",
              "1  197.5   206\n",
              "2  170.5   170"
            ]
          },
          "execution_count": 3,
          "metadata": {},
          "output_type": "execute_result"
        }
      ],
      "source": [
        "df = pd.read_csv('sp9-10.csv')\n",
        "df.head(3)"
      ]
    },
    {
      "cell_type": "code",
      "execution_count": 4,
      "metadata": {},
      "outputs": [
        {
          "data": {
            "image/png": "[encoded data removed]",
            "text/plain": [
              "<Figure size 800x500 with 1 Axes>"
            ]
          },
          "metadata": {},
          "output_type": "display_data"
        }
      ],
      "source": [
        "def draw(df, title=''):\n",
        "    _, ax = plt.subplots(figsize=(8,5))\n",
        "    ax.hist(df, density=True, alpha=0.4)\n",
        "    sns.kdeplot(data=df)\n",
        "    plt.title(title)\n",
        "    plt.xlabel('Балл')\n",
        "    plt.ylabel('Кол-во')\n",
        "    plt.xlim((df.min().min(),df.max().max()))\n",
        "    plt.show()\n",
        "\n",
        "draw(df, 'Баллы за SP9-10')"
      ]
    },
    {
      "cell_type": "markdown",
      "metadata": {},
      "source": [
        "*На глаз кажется, что средний балл за SP9 повыше. Интересно, ведь за SP9 разыгрывалось меньше баллов*  \n",
        "  \n",
        "*Теперь проведем статистическое исследование. У нас есть 2 выборки одинакового размера, причем выборки связные (т.к. это оценки одного и того же набора студентов). Значит, нам нужен **двухвыборочный T-test для связных выборок**. Более того, гипотеза в том, что средний балл во второй выборке (SP10) пониже, а значит, нам нужен критерий c alternative='greater'*"
      ]
    },
    {
      "cell_type": "code",
      "execution_count": 5,
      "metadata": {},
      "outputs": [
        {
          "name": "stdout",
          "output_type": "stream",
          "text": [
            "Результаты проверки H_0 (что средние баллы равны)\n",
            "p-value: 0.032\n",
            "Итог: отвергаем H0\n"
          ]
        }
      ],
      "source": [
        "def test_H0(test, df, alpha=0.05, H0='', alt='greater'):\n",
        "    a,b = df.columns\n",
        "    _, pval = test(df[a].dropna(), df[b].dropna(), alternative=alt)\n",
        "    print(f'Результаты проверки H_0 ({H0})')\n",
        "    print(f'p-value: {np.round(pval, 3)}')\n",
        "    print('Итог:', 'отвергаем H0' if pval < alpha else 'НЕ отвергаем H0')\n",
        "\n",
        "test_H0(sps.ttest_rel, df, H0='что средние баллы равны', alt='greater')"
      ]
    },
    {
      "cell_type": "markdown",
      "metadata": {
        "ai_eval_tool": {
          "snippet_hash": "ff0cc37c6787849d70478b7517a990e5",
          "snippet_label": "start"
        }
      },
      "source": [
        "<!-- Внимание! Здесь находится специальная отметка. Ее нельзя удалять! Ответы на вопросы / выводы для предыдущего пункта(ов) пиши в ячейках выше! -->\n",
        "<!-- ff0cc37c6787849d70478b7517a990e5 -->\n",
        "\n",
        "Сделайте выводы."
      ]
    },
    {
      "cell_type": "markdown",
      "metadata": {
        "ai_eval_tool": {
          "snippet_hash": "ff0cc37c6787849d70478b7517a990e5",
          "snippet_label": "end"
        }
      },
      "source": [
        "*На глаз было ясно, что средний балл за SP9 повыше, благодаря чему мы выбрали наиболее мощный критерий. В итоге, действительно, существует статистическое доказательство, что средние баллы за дз SP9 и SP10 отличаются (т.е. **различие средних баллов стат. значимо**).*  \n",
        "  \n",
        "*Интересно подумать, чем такое явление объясняется. Возможно, задачи в SP10 показались студентам сложнее (например, тема была почему-то усвоена чуть хуже), либо, например, дз наложилось на зачеты по другим предметам (и студенты направили все силы на них). Что было на самом деле, уже не вспомню))*"
      ]
    },
    {
      "cell_type": "markdown",
      "metadata": {
        "ai_eval_tool": {
          "snippet_hash": "8b4ea08a662239177ff6f88e780d4f0e",
          "snippet_label": "start"
        }
      },
      "source": [
        "<!-- Внимание! Здесь находится специальная отметка. Ее нельзя удалять! Ответы на вопросы / выводы для предыдущего пункта(ов) пиши в ячейках выше! -->\n",
        "<!-- 8b4ea08a662239177ff6f88e780d4f0e -->\n",
        "---\n",
        "### Задача 2\n",
        "Рассмотрите таблицу с оценками по какому-либо курсу с несколькими семинарскими группами. Выберите свою группу и еще какую-нибудь. Проверьте гипотезу о том, что средний балл не отличается между семинарскими группами. Не забывайте про визуализацию."
      ]
    },
    {
      "cell_type": "markdown",
      "metadata": {},
      "source": [
        "*Возьмем суммарные баллы за семестровую кр по ТФКП с <a href=\"https://pyrkovaoa-fizteh.ru/gallery/%D0%A2%D0%A4%D0%9A%D0%9F%20%D0%A1%D0%9A%D0%A0%209.pdf\">сайта О.А.Пырковой</a> (для моей прошлой группы Б05-202 и еще одной - Б05-203). Сначала тоже просто сравним распределения баллов на глаз.*    \n",
        "*Отметим, что мы изучаем оценки для двух разных групп, причем кол-во студентов в этих группах отличается (19 vs 20).*"
      ]
    },
    {
      "cell_type": "code",
      "execution_count": 6,
      "metadata": {
        "ai_eval_tool": {
          "snippet_hash": "8b4ea08a662239177ff6f88e780d4f0e",
          "snippet_label": "end"
        }
      },
      "outputs": [
        {
          "data": {
            "text/html": [
              "<div>\n",
              "<style scoped>\n",
              "    .dataframe tbody tr th:only-of-type {\n",
              "        vertical-align: middle;\n",
              "    }\n",
              "\n",
              "    .dataframe tbody tr th {\n",
              "        vertical-align: top;\n",
              "    }\n",
              "\n",
              "    .dataframe thead th {\n",
              "        text-align: right;\n",
              "    }\n",
              "</style>\n",
              "<table border=\"1\" class=\"dataframe\">\n",
              "  <thead>\n",
              "    <tr style=\"text-align: right;\">\n",
              "      <th></th>\n",
              "      <th>Б05-202</th>\n",
              "      <th>Б05-203</th>\n",
              "    </tr>\n",
              "  </thead>\n",
              "  <tbody>\n",
              "    <tr>\n",
              "      <th>0</th>\n",
              "      <td>9.5</td>\n",
              "      <td>13.5</td>\n",
              "    </tr>\n",
              "    <tr>\n",
              "      <th>1</th>\n",
              "      <td>13.5</td>\n",
              "      <td>14.5</td>\n",
              "    </tr>\n",
              "    <tr>\n",
              "      <th>2</th>\n",
              "      <td>16.0</td>\n",
              "      <td>11.5</td>\n",
              "    </tr>\n",
              "  </tbody>\n",
              "</table>\n",
              "</div>"
            ],
            "text/plain": [
              "   Б05-202  Б05-203 \n",
              "0      9.5      13.5\n",
              "1     13.5      14.5\n",
              "2     16.0      11.5"
            ]
          },
          "execution_count": 6,
          "metadata": {},
          "output_type": "execute_result"
        }
      ],
      "source": [
        "df = pd.read_csv('скр_тфкп.csv')\n",
        "df.head(3)"
      ]
    },
    {
      "cell_type": "code",
      "execution_count": 7,
      "metadata": {},
      "outputs": [
        {
          "data": {
            "image/png": "[encoded data removed]",
            "text/plain": [
              "<Figure size 800x500 with 1 Axes>"
            ]
          },
          "metadata": {},
          "output_type": "display_data"
        }
      ],
      "source": [
        "draw(df, 'Баллы за кр по ТФКП')"
      ]
    },
    {
      "cell_type": "markdown",
      "metadata": {},
      "source": [
        "*На глаз кажется, что средний балл у группы Б05-202 повыше.*  \n",
        "  \n",
        "*Теперь проведем статистическое исследование. У нас есть 2 выборки разного размера, причем выборки независимы (т.к. это оценки разных групп). Значит, нам нужен **двухвыборочный T-test для независимых выборок**. Более того, гипотеза в том, что средний балл во второй выборке (группа Б05-203) пониже, а значит, нам нужен критерий c alternative='greater'*"
      ]
    },
    {
      "cell_type": "code",
      "execution_count": 8,
      "metadata": {},
      "outputs": [
        {
          "name": "stdout",
          "output_type": "stream",
          "text": [
            "Результаты проверки H_0 (что средние баллы равны)\n",
            "p-value: 0.094\n",
            "Итог: НЕ отвергаем H0\n"
          ]
        }
      ],
      "source": [
        "test_H0(sps.ttest_ind, df, H0='что средние баллы равны', alt='greater')"
      ]
    },
    {
      "cell_type": "markdown",
      "metadata": {
        "ai_eval_tool": {
          "snippet_hash": "732d6e08159252b09583684a5e1eab41",
          "snippet_label": "start"
        }
      },
      "source": [
        "<!-- Внимание! Здесь находится специальная отметка. Ее нельзя удалять! Ответы на вопросы / выводы для предыдущего пункта(ов) пиши в ячейках выше! -->\n",
        "<!-- 732d6e08159252b09583684a5e1eab41 -->\n",
        "Сделайте выводы."
      ]
    },
    {
      "cell_type": "markdown",
      "metadata": {
        "ai_eval_tool": {
          "snippet_hash": "732d6e08159252b09583684a5e1eab41",
          "snippet_label": "end"
        }
      },
      "source": [
        "*На глаз казалось, что средний балл в группе Б05-202 повыше, благодаря чему мы выбрали наиболее мощный критерий. Но в итоге оказалось, что НЕ существует статистического доказательства различия средних баллов за скр по тфкп в двух группах (т.е. **различие средних баллов НЕ стат. значимо**).*  \n",
        "  \n",
        "*Такое явление объясняется просто: у этих групп одинаковый семинарист по ТФКП (т.е. схожий уровень подготовки).*"
      ]
    },
    {
      "cell_type": "markdown",
      "metadata": {
        "ai_eval_tool": {
          "snippet_hash": "a09e6676ed4b3c7a3d9ea521aebef359",
          "snippet_label": "start"
        }
      },
      "source": [
        "<!-- Внимание! Здесь находится специальная отметка. Ее нельзя удалять! Ответы на вопросы / выводы для предыдущего пункта(ов) пиши в ячейках выше! -->\n",
        "<!-- a09e6676ed4b3c7a3d9ea521aebef359 -->\n",
        "---\n",
        "### Задача 3\n",
        "\n",
        "Пусть $X=(X_1, ..., X_n)$ и $Y=(Y_1, ..., Y_n)$ — независимые выборки *одинакового* размера. Выведите сходимость статистики *относительного* t-test'а с помощью дельта-метода."
      ]
    },
    {
      "cell_type": "markdown",
      "metadata": {
        "ai_eval_tool": {
          "snippet_hash": "a09e6676ed4b3c7a3d9ea521aebef359",
          "snippet_label": "end"
        }
      },
      "source": [
        "*Решение прикрепил отдельным файлом (AB1.pdf)*"
      ]
    },
    {
      "cell_type": "markdown",
      "metadata": {
        "ai_eval_tool": {
          "snippet_hash": "3ee9dd1ccd0ec0fbc179dc6ce39cc792",
          "snippet_label": "start"
        }
      },
      "source": [
        "<!-- Внимание! Здесь находится специальная отметка. Ее нельзя удалять! Ответы на вопросы / выводы для предыдущего пункта(ов) пиши в ячейках выше! -->\n",
        "<!-- 3ee9dd1ccd0ec0fbc179dc6ce39cc792 -->\n",
        "---\n",
        "### Задача 4\n",
        "\n",
        "Пусть $X=(X_1, ..., X_n)$ и $Y=(Y_1, ..., Y_m)$ — нормальные выборки с одинаковой неизвестной дисперсией, возможно, *разного* размера. Докажите что статистика *абсолютного* t-test'а имеет распределение Стьюдента с $n-m-2$ степенями свободы.\n",
        "\n",
        "*Указание.* Воспользуйтесь теоремой об ортогональном разложении гауссовского вектора."
      ]
    },
    {
      "cell_type": "markdown",
      "metadata": {
        "ai_eval_tool": {
          "snippet_hash": "3ee9dd1ccd0ec0fbc179dc6ce39cc792",
          "snippet_label": "end"
        }
      },
      "source": [
        "*Решение прикрепил отдельным файлом (AB1.pdf)*"
      ]
    },
    {
      "cell_type": "markdown",
      "metadata": {
        "ai_eval_tool": {
          "snippet_hash": "b46c1240cf4742b0568baaeb94cdc0eb",
          "snippet_label": "start"
        }
      },
      "source": [
        "<!-- Внимание! Здесь находится специальная отметка. Ее нельзя удалять! Ответы на вопросы / выводы для предыдущего пункта(ов) пиши в ячейках выше! -->\n",
        "<!-- b46c1240cf4742b0568baaeb94cdc0eb -->\n",
        "---\n",
        "### Задача 5\n",
        "\n",
        "Рассмотрим данные по транзакциям одного из интернет-магазинов: https://www.kaggle.com/datasets/jihyeseo/online-retail-data-set-from-uci-ml-repo\n",
        "\n",
        "Скачайте данные и оставьте колонки:\n",
        "* `Quantity` &mdash; количество данной единицы товара в чеке.\n",
        "* `InvoiceDate` &mdash; дата и время покупки.\n",
        "* `UnitPrice` &mdash; цена одной единицы товара.\n",
        "* `CustomerID` &mdash; уникальный идентификатор клиента."
      ]
    },
    {
      "cell_type": "code",
      "execution_count": 9,
      "metadata": {},
      "outputs": [
        {
          "data": {
            "text/html": [
              "<div>\n",
              "<style scoped>\n",
              "    .dataframe tbody tr th:only-of-type {\n",
              "        vertical-align: middle;\n",
              "    }\n",
              "\n",
              "    .dataframe tbody tr th {\n",
              "        vertical-align: top;\n",
              "    }\n",
              "\n",
              "    .dataframe thead th {\n",
              "        text-align: right;\n",
              "    }\n",
              "</style>\n",
              "<table border=\"1\" class=\"dataframe\">\n",
              "  <thead>\n",
              "    <tr style=\"text-align: right;\">\n",
              "      <th></th>\n",
              "      <th>Quantity</th>\n",
              "      <th>InvoiceDate</th>\n",
              "      <th>UnitPrice</th>\n",
              "      <th>CustomerID</th>\n",
              "    </tr>\n",
              "  </thead>\n",
              "  <tbody>\n",
              "    <tr>\n",
              "      <th>0</th>\n",
              "      <td>6</td>\n",
              "      <td>2010-12-01 08:26:00</td>\n",
              "      <td>2.55</td>\n",
              "      <td>17850</td>\n",
              "    </tr>\n",
              "    <tr>\n",
              "      <th>1</th>\n",
              "      <td>6</td>\n",
              "      <td>2010-12-01 08:26:00</td>\n",
              "      <td>3.39</td>\n",
              "      <td>17850</td>\n",
              "    </tr>\n",
              "    <tr>\n",
              "      <th>2</th>\n",
              "      <td>8</td>\n",
              "      <td>2010-12-01 08:26:00</td>\n",
              "      <td>2.75</td>\n",
              "      <td>17850</td>\n",
              "    </tr>\n",
              "  </tbody>\n",
              "</table>\n",
              "</div>"
            ],
            "text/plain": [
              "   Quantity         InvoiceDate  UnitPrice  CustomerID\n",
              "0         6 2010-12-01 08:26:00       2.55       17850\n",
              "1         6 2010-12-01 08:26:00       3.39       17850\n",
              "2         8 2010-12-01 08:26:00       2.75       17850"
            ]
          },
          "execution_count": 9,
          "metadata": {},
          "output_type": "execute_result"
        }
      ],
      "source": [
        "df = pd.read_excel('Online Retail.xlsx', usecols=['Quantity','InvoiceDate','UnitPrice','CustomerID'])\n",
        "df['InvoiceDate'] = pd.to_datetime(df['InvoiceDate'])\n",
        "df = df[~df['CustomerID'].isna()]\n",
        "df['CustomerID'] = df['CustomerID'].astype(int)\n",
        "df.head(3)"
      ]
    },
    {
      "cell_type": "markdown",
      "metadata": {},
      "source": [
        "Магазин хочет провести AB-тест в течение двух месяцев для оценки значимости эффекта от нового блока умных рекомендаций и использовать для этого *относительный* t-test. Ожидается, что новый блок рекомендаций увеличит общую выручку. На время тестирования решено выкатить блок рекомендаций на случайную группу из 300 пользователей.\n",
        "\n",
        "**1.**\n",
        "На искусственных данных мы уже проверили наш тест на занятии, теперь пора проверить на реальных. На данных за апрель и май проведите множество случайных AA-тестов для оценки вероятности ошибки I рода, выбирая случайных пользователей в каждую из групп. Использовать нужно группы одинакого размера, и, конечно же, они не должны пересекаться. Для каждого пользователя рассматриваем общую сумму его покупок за два месяца."
      ]
    },
    {
      "cell_type": "code",
      "execution_count": 10,
      "metadata": {},
      "outputs": [],
      "source": [
        "def visualization(prob_reject, left_bound, right_bound, show_pvals=False, pvals=None, alpha=0.05, figsize=(7, 2)):\n",
        "    \"\"\"Визуализация\"\"\"\n",
        "    if show_pvals:  # построение гистограммы p-value (опционально)\n",
        "        with sns.axes_style(\"darkgrid\"):\n",
        "            plt.figure(figsize=figsize)\n",
        "            plt.subplot(1, 2, 1)\n",
        "            plt.hist(pvals, bins=np.linspace(0, 1, 21), color='blue', alpha=0.4, weights=np.ones(len(pvals)) / len(pvals))\n",
        "            plt.title('Распределение p-value')\n",
        "    with sns.axes_style(\"whitegrid\"):  # отрисовка интервала для вероятности отвержения критерия\n",
        "        if show_pvals:\n",
        "            plt.subplot(1, 2, 2)\n",
        "        else:\n",
        "            plt.figure(figsize=figsize)\n",
        "        plt.hlines(0, 0, 1, color='black', lw=2, alpha=0.6)\n",
        "        plt.vlines(alpha, -1, 1, color='red', lw=5, linestyle='--', alpha=0.6)\n",
        "        plt.fill_between([left_bound, right_bound], [0.15]*2, [-0.15]*2, color='green', alpha=0.6)\n",
        "        plt.scatter(prob_reject, 0, s=300, marker='*', color='red')\n",
        "        plt.xlim((min(alpha, left_bound)-1e-3, max(alpha, right_bound)+1e-3))\n",
        "        plt.title(f'Доля отвержений = {100*prob_reject:.2f}%, интервал ({100*left_bound:.2f}%, {100*right_bound:.2f}%)')\n",
        "        plt.ylim((-0.5, 0.5))\n",
        "        plt.yticks([])\n",
        "        plt.tight_layout()\n",
        "        plt.show()\n",
        "\n",
        "def relative_ttest(x, y, alpha=0.05):\n",
        "    \"\"\"Относительный т-тест\"\"\"\n",
        "    n = len(x)\n",
        "    x_mean, y_mean = x.mean(), y.mean()\n",
        "    stat = x_mean/y_mean - 1\n",
        "    std = np.sqrt(x.var() / (y_mean**2) + y.var() * (x_mean**2) / (y_mean**4))\n",
        "    z_stat = np.sqrt(n) * stat / std\n",
        "    pvalue = 2*sps.norm.sf(np.abs(z_stat))\n",
        "    q = sps.norm.ppf(1 - alpha/2)\n",
        "    L, R = stat - q*std/np.sqrt(n), stat + q*std/np.sqrt(n)\n",
        "    return stat, pvalue, L, R\n",
        "\n",
        "def AA_test(generate_sample, test=relative_ttest, data=None, n_iter=200000, alpha=0.05, show_pvals=True):\n",
        "    '''\n",
        "    Проведение серии AA-тестов на исторических данных data или на искусственных данных\n",
        "    Аргументы:\n",
        "      generate_sample -- функция для семплирования/генерации выборок\n",
        "      test -- статистический критерий (relative_ttest)\n",
        "      data -- исторические данные, на которых запускаем АА-тест\n",
        "      n_iter -- количество итераций\n",
        "      alpha -- теоретический уровень значимости\n",
        "      show_pvals -- показывать ли распределение p-value\n",
        "    Возвращает:\n",
        "      type_1_prob_est -- оценка вероятности ошибки первого рода\n",
        "      left_bound, right_bound -- границы доверительного интервала\n",
        "    '''\n",
        "    n_rejects, pvals = 0, []\n",
        "    for _ in tqdm(range(n_iter)):  # проведение экспериментов\n",
        "        x, y = generate_sample(data)  # генерируем выборки\n",
        "        pvals.append(test(x, y)[1])  # применияем критерий\n",
        "        n_rejects += (pvals[-1] < alpha)\n",
        "    type_1_prob_est = n_rejects / n_iter\n",
        "    left_bound, right_bound = proportion_confint(n_rejects, n_iter, method='wilson')\n",
        "    figsize = (14,3) if show_pvals else (5,2)\n",
        "    visualization(type_1_prob_est, left_bound, right_bound, show_pvals, pvals, alpha, figsize)\n",
        "    return type_1_prob_est, (left_bound, right_bound)"
      ]
    },
    {
      "cell_type": "code",
      "execution_count": 11,
      "metadata": {},
      "outputs": [
        {
          "data": {
            "text/html": [
              "<div>\n",
              "<style scoped>\n",
              "    .dataframe tbody tr th:only-of-type {\n",
              "        vertical-align: middle;\n",
              "    }\n",
              "\n",
              "    .dataframe tbody tr th {\n",
              "        vertical-align: top;\n",
              "    }\n",
              "\n",
              "    .dataframe thead th {\n",
              "        text-align: right;\n",
              "    }\n",
              "</style>\n",
              "<table border=\"1\" class=\"dataframe\">\n",
              "  <thead>\n",
              "    <tr style=\"text-align: right;\">\n",
              "      <th></th>\n",
              "      <th>Revenue</th>\n",
              "    </tr>\n",
              "    <tr>\n",
              "      <th>CustomerID</th>\n",
              "      <th></th>\n",
              "    </tr>\n",
              "  </thead>\n",
              "  <tbody>\n",
              "    <tr>\n",
              "      <th>12347</th>\n",
              "      <td>636.25</td>\n",
              "    </tr>\n",
              "    <tr>\n",
              "      <th>12348</th>\n",
              "      <td>367.00</td>\n",
              "    </tr>\n",
              "    <tr>\n",
              "      <th>12353</th>\n",
              "      <td>89.00</td>\n",
              "    </tr>\n",
              "  </tbody>\n",
              "</table>\n",
              "</div>"
            ],
            "text/plain": [
              "            Revenue\n",
              "CustomerID         \n",
              "12347        636.25\n",
              "12348        367.00\n",
              "12353         89.00"
            ]
          },
          "metadata": {},
          "output_type": "display_data"
        }
      ],
      "source": [
        "apr_may = df[df.InvoiceDate.dt.month.isin([4,5])]\n",
        "apr_may['Revenue'] = apr_may['Quantity'] * apr_may['UnitPrice']\n",
        "apr_may = apr_may[['CustomerID','Revenue']].groupby('CustomerID').sum()\n",
        "display(apr_may.head(3))  # уникальный id -> доход с клиента"
      ]
    },
    {
      "cell_type": "code",
      "execution_count": 12,
      "metadata": {},
      "outputs": [
        {
          "name": "stderr",
          "output_type": "stream",
          "text": [
            "  0%|          | 0/200000 [00:00<?, ?it/s]"
          ]
        },
        {
          "name": "stderr",
          "output_type": "stream",
          "text": [
            "100%|██████████| 200000/200000 [02:24<00:00, 1382.58it/s]\n"
          ]
        },
        {
          "data": {
            "image/png": "[encoded data removed]",
            "text/plain": [
              "<Figure size 1400x300 with 2 Axes>"
            ]
          },
          "metadata": {},
          "output_type": "display_data"
        }
      ],
      "source": [
        "def gen(data):\n",
        "    unique_ids, n = np.array(data.index), len(data)\n",
        "    np.random.shuffle(unique_ids)\n",
        "    x_ids, y_ids = unique_ids[:n//2], unique_ids[n//2:]\n",
        "    return data.loc[x_ids]['Revenue'], data.loc[y_ids]['Revenue']\n",
        "\n",
        "AA_test(generate_sample=gen, data=apr_may);"
      ]
    },
    {
      "cell_type": "markdown",
      "metadata": {},
      "source": [
        "Корректно ли применять критерий на данных магазина? Постройте также гистограмму значений p-value."
      ]
    },
    {
      "cell_type": "markdown",
      "metadata": {
        "ai_eval_tool": {
          "snippet_hash": "b46c1240cf4742b0568baaeb94cdc0eb",
          "snippet_label": "end"
        }
      },
      "source": [
        "*Гистограмма р-value построена выше*  \n",
        "*Получилось, что критерий применять НЕ корректно, поскольку $\\alpha < \\widehat{\\alpha}_l$ (красный пунктир не пересек зеленый прямоугольник)*  "
      ]
    },
    {
      "cell_type": "markdown",
      "metadata": {
        "ai_eval_tool": {
          "snippet_hash": "5556fb0f609c015dfc23b008da0ed82f",
          "snippet_label": "start"
        }
      },
      "source": [
        "<!-- Внимание! Здесь находится специальная отметка. Ее нельзя удалять! Ответы на вопросы / выводы для предыдущего пункта(ов) пиши в ячейках выше! -->\n",
        "<!-- 5556fb0f609c015dfc23b008da0ed82f -->\n",
        "**2.** С помощью проведения AB-теста по историческим данным оцените мощность теста для разных значений эффекта. Схема проведения аналогична предыдущему пункту, но к тестовой группе нужно добавить положительное смещение.\n",
        "\n",
        "При добавлении искусственного смещения рекомендуется также добавлять небольшой шум для каждого пользователя. Поясните, для чего это может быть полезно."
      ]
    },
    {
      "cell_type": "markdown",
      "metadata": {},
      "source": [
        "*Предполагаю, что шум позволяет снизить реакцию на стат значимые, но крайне малые размеры эффекта*"
      ]
    },
    {
      "cell_type": "markdown",
      "metadata": {},
      "source": [
        "<b><font color=\"#00b565\" size=\"5\">Исправил код</font></b>\n",
        "\n",
        "<b><font color=\"#00b565\" size=\"3\">Замечание:</font></b> <i>  \n",
        "Задача 5: Валидация t-test для данных по продажам в интернет-магазине.  \n",
        "▫️ Наличие первой части. (30.0)  \n",
        "▫️ Для валидации взято иное количество пользователей. Комм. Реальный уровень значимости и мощность зависят от размера выборки, поэтому необходимо брать ровно столько, сколько требуется. Инд. комм. Необходимо было взять 300 пользователей (-30.0)  \n",
        "▫️ Наличие второй части. (30.0)  \n",
        "Баллы: 30.0 / 60.0</i>\n",
        "\n"
      ]
    },
    {
      "cell_type": "code",
      "execution_count": null,
      "metadata": {
        "ai_eval_tool": {
          "snippet_hash": "5556fb0f609c015dfc23b008da0ed82f",
          "snippet_label": "end"
        }
      },
      "outputs": [],
      "source": [
        "# куча дефолтных методов с сайта курса\n",
        "\n",
        "def generate_from_data(data, size_gen=None):\n",
        "    '''Генерация выборок 2-x групп фиксированного размера из данных'''\n",
        "    if size_gen is None:\n",
        "        size_gen = int(len(data) // 2)\n",
        "    test_inds = np.random.choice(len(data), size_gen, replace=False)\n",
        "    other_inds = list(set(np.arange(len(data))) - set(test_inds))\n",
        "    control_inds = np.random.choice(other_inds, size_gen, replace=False)\n",
        "    return data.iloc[test_inds], data.iloc[control_inds]\n",
        "\n",
        "def estimate_reject_prob(n_rejects, n_iter):\n",
        "    '''Оценка вероятности отвержения критерия и ее дов. интервала'''\n",
        "    left_bound, right_bound = proportion_confint(n_rejects, n_iter, method='wilson')\n",
        "    return n_rejects / n_iter, left_bound, right_bound\n",
        "\n",
        "def run_experiments(test, generate_sample, add_effect, data=None, effects=[0], n_iter=10000, alpha=0.05):    \n",
        "    '''Проведение серии AB-тестов'''\n",
        "    n_rejects = np.zeros(len(effects))\n",
        "    for num_effect, effect in tqdm(enumerate(effects)):\n",
        "        for _ in range(n_iter):\n",
        "            x, y = generate_sample() if data is None else generate_sample(data)\n",
        "            x = add_effect(x, effect)    \n",
        "            n_rejects[num_effect] += (test(x, y)[1] < alpha)\n",
        "    real_power, left_power, right_power = estimate_reject_prob(n_rejects, n_iter)\n",
        "    draw_power(effects, real_power, left_power, right_power)\n",
        "    return real_power, (left_power, right_power)\n",
        "\n",
        "def add_effect(x, effect):\n",
        "    '''Функция искусственного добавления эффекта в тестовую выборку'''\n",
        "    x += effect\n",
        "    return x\n",
        "\n",
        "def add_effect_with_noise(x, effect, target_column):\n",
        "    '''Функция искусственного добавления эффекта в тестовую выборку'''\n",
        "    x_copy = x.copy()\n",
        "    x_copy[target_column] = x_copy[target_column] * (1 + effect) + sps.norm(loc=0, scale=np.abs(x_copy[target_column]) / 100).rvs()\n",
        "    return x_copy\n",
        "\n",
        "def draw_power(effects, real_power, left_power, right_power, title='График мощности'):\n",
        "    '''Построение и отрисовка графика мощности критерия'''\n",
        "    plt.figure(figsize=(5, 2))\n",
        "    plt.plot(effects, real_power, label='Мощность', lw=3)\n",
        "    plt.fill_between(effects, left_power, right_power, alpha=0.3, label='Дов. интервал мощности')\n",
        "    plt.hlines(0.8, effects[0], effects[-1], color='black', alpha=0.5, label='Мощность 0.8 (пересечение - MDE)')\n",
        "    plt.legend()\n",
        "    plt.xlabel('Размер относительного эффекта')\n",
        "    plt.ylabel('Мощность')\n",
        "    plt.title(title)\n",
        "    plt.show()"
      ]
    },
    {
      "cell_type": "code",
      "execution_count": 16,
      "metadata": {},
      "outputs": [
        {
          "name": "stderr",
          "output_type": "stream",
          "text": [
            "21it [43:07, 123.21s/it]\n"
          ]
        },
        {
          "data": {
            "image/png": "[encoded data removed]",
            "text/plain": [
              "<Figure size 500x200 with 1 Axes>"
            ]
          },
          "metadata": {},
          "output_type": "display_data"
        },
        {
          "data": {
            "text/plain": [
              "(array([0.04198, 0.04552, 0.0563 , 0.07206, 0.09522, 0.12394, 0.15514,\n",
              "        0.19378, 0.23684, 0.2793 , 0.32284, 0.37506, 0.4174 , 0.47002,\n",
              "        0.51724, 0.5642 , 0.60808, 0.65074, 0.6908 , 0.72626, 0.7584 ]),\n",
              " (array([0.04025709, 0.04372761, 0.05431349, 0.06982615, 0.09267825,\n",
              "         0.1210806 , 0.15199316, 0.19033905, 0.23313383, 0.27538451,\n",
              "         0.31875546, 0.37082617, 0.41308411, 0.46564774, 0.51285884,\n",
              "         0.5598489 , 0.60379285, 0.64654986, 0.6867345 , 0.72233452,\n",
              "         0.75462826]),\n",
              "  array([0.04377328, 0.04738222, 0.05835468, 0.0743596 , 0.09782394,\n",
              "         0.12685718, 0.15833983, 0.197268  , 0.24058661, 0.2832494 ,\n",
              "         0.32695176, 0.37931303, 0.42172858, 0.47439686, 0.52161851,\n",
              "         0.56854124, 0.61235054, 0.65490698, 0.69483618, 0.73015072,\n",
              "         0.76213204])))"
            ]
          },
          "execution_count": 16,
          "metadata": {},
          "output_type": "execute_result"
        }
      ],
      "source": [
        "group_size = 300  # !!!\n",
        "\n",
        "run_experiments(test=lambda x, y: sps.ttest_ind(x['Revenue'], y['Revenue']), generate_sample=lambda data: generate_from_data(data, size_gen=group_size),\n",
        " data=apr_may, effects=np.linspace(0,0.6,21), add_effect=lambda x, e: add_effect_with_noise(x, e, target_column='Revenue'), n_iter=50_000, alpha=0.05)"
      ]
    },
    {
      "cell_type": "markdown",
      "metadata": {},
      "source": [
        "<b><font color=\"#00b565\" size=\"5\">===== Конец исправлений =====</font></b>"
      ]
    },
    {
      "cell_type": "markdown",
      "metadata": {
        "ai_eval_tool": {
          "snippet_hash": "90f00c77b37ae86263799b64f6fccb74",
          "snippet_label": "start"
        }
      },
      "source": [
        "<!-- Внимание! Здесь находится специальная отметка. Ее нельзя удалять! Ответы на вопросы / выводы для предыдущего пункта(ов) пиши в ячейках выше! -->\n",
        "<!-- 90f00c77b37ae86263799b64f6fccb74 -->\n",
        "Сделайте выводы."
      ]
    },
    {
      "cell_type": "markdown",
      "metadata": {
        "ai_eval_tool": {
          "snippet_hash": "90f00c77b37ae86263799b64f6fccb74",
          "snippet_label": "end"
        }
      },
      "source": [
        "*Видно, что чем больше эффект, тем больше мощность. MDE расположен около 250, что, по-моему, довольно много, т.е. соответствует серьезному приросту, который получилось бы заметить и на глаз (учитывая характерный порядок величин в датасете: ~1000)*"
      ]
    },
    {
      "cell_type": "markdown",
      "metadata": {},
      "source": [
        "*Глобальный вывод: в этой задаче удалось исследовать свойства относительного т-теста, связанные с ошибками I и II рода*"
      ]
    },
    {
      "cell_type": "markdown",
      "metadata": {
        "ai_eval_tool": {
          "snippet_hash": "4e95cc9146338b26732f892ba3d091bd",
          "snippet_label": "start"
        }
      },
      "source": [
        "<!-- Внимание! Здесь находится специальная отметка. Ее нельзя удалять! Ответы на вопросы / выводы для предыдущего пункта(ов) пиши в ячейках выше! -->\n",
        "<!-- 4e95cc9146338b26732f892ba3d091bd -->\n",
        "---\n",
        "### Задача 6.\n",
        "\n",
        "Рассмотрим t-test в абсолютной и относительной постановке. При использовании данных критериев предполагается, что статистика критерия (не сама выборка) приближенно имеет нормальное распределение. Но на практике ее распределение может значительно отличаться от нормального. В таком случае на помощь может прийти бутстреп. \n",
        "\n",
        "Опишите процедуру реализации с помощью бутстрепа критериев на основе статистик из t-test в абсолютной и относительной постановке. Необходимо посчитать статистику критерия, доверительный интервал и p-value. \n",
        "\n",
        "*Примечание.* Бутстрепом необходимо получить выборку статистик критерия, и затем посчитать необходимые характеристики, а не запускать много раз стандартный t-test."
      ]
    },
    {
      "cell_type": "markdown",
      "metadata": {
        "ai_eval_tool": {
          "snippet_hash": "4e95cc9146338b26732f892ba3d091bd",
          "snippet_label": "end"
        }
      },
      "source": [
        "**Описание:** *Пусть есть пара исходных выборок $X_1,...,X_n; Y_1,...,Y_m$. Мы хотим построить по ним $k$ бутстрепных выборок (вспомним, что это выборки тех же размеров $m,n$ соответственно, полученные из исходных равномерно с возвращением). Для каждой из $k$ бутстрепных выборок считаем статистику критерия (разную для абс. и отн. вариантов т-теста), а потом аггрегируем по всем $k$, чтобы получить оценку статистики, дов. интервал и p-value (методом подстановки).*"
      ]
    },
    {
      "cell_type": "markdown",
      "metadata": {
        "ai_eval_tool": {
          "snippet_hash": "efb009736981955ae3ebae7fbefdb42d",
          "snippet_label": "start"
        }
      },
      "source": [
        "<!-- Внимание! Здесь находится специальная отметка. Ее нельзя удалять! Ответы на вопросы / выводы для предыдущего пункта(ов) пиши в ячейках выше! -->\n",
        "<!-- efb009736981955ae3ebae7fbefdb42d -->\n",
        "Сколько бутстрепных выборок необходимо взять?"
      ]
    },
    {
      "cell_type": "markdown",
      "metadata": {
        "ai_eval_tool": {
          "snippet_hash": "efb009736981955ae3ebae7fbefdb42d",
          "snippet_label": "end"
        }
      },
      "source": [
        "**Ответ:** *Из лекции про бутстреп с прошлого семестра известно, что точность аппроксимации метода Монте-Карло составляет $\\frac{1}{\\sqrt{B}}$, где $B$ - число бутстрепных выборок. Грубая оценка: $0.05 = \\frac{1}{\\sqrt{B}} \\rightarrow B = 400$ (но лучше взять, например, 1000, чтобы было с запасом)*"
      ]
    },
    {
      "cell_type": "markdown",
      "metadata": {
        "ai_eval_tool": {
          "snippet_hash": "45a00cfc8caab19f1f2860993ee2450e",
          "snippet_label": "start"
        }
      },
      "source": [
        "<!-- Внимание! Здесь находится специальная отметка. Ее нельзя удалять! Ответы на вопросы / выводы для предыдущего пункта(ов) пиши в ячейках выше! -->\n",
        "<!-- 45a00cfc8caab19f1f2860993ee2450e -->\n",
        "Какие основные преимущества и недостатки использования бутстрепных критериев?"
      ]
    },
    {
      "cell_type": "markdown",
      "metadata": {
        "ai_eval_tool": {
          "snippet_hash": "45a00cfc8caab19f1f2860993ee2450e",
          "snippet_label": "end"
        }
      },
      "source": [
        "**Ответ:**  \n",
        "*Плюсы: минимум предположений о природе и свойствах данных*  \n",
        "*Минусы: метод становится вычислительно сложным, особенно если выборок много. Может страдать точность, особенно если исходная выборка мала*"
      ]
    },
    {
      "cell_type": "markdown",
      "metadata": {
        "ai_eval_tool": {
          "snippet_hash": "88f53128fa57481639acbacc9518da3a",
          "snippet_label": "start"
        }
      },
      "source": [
        "<!-- Внимание! Здесь находится специальная отметка. Ее нельзя удалять! Ответы на вопросы / выводы для предыдущего пункта(ов) пиши в ячейках выше! -->\n",
        "<!-- 88f53128fa57481639acbacc9518da3a -->\n",
        "Реализуйте эту процедуру."
      ]
    },
    {
      "cell_type": "code",
      "execution_count": null,
      "metadata": {
        "ai_eval_tool": {
          "snippet_hash": "88f53128fa57481639acbacc9518da3a",
          "snippet_label": "end"
        }
      },
      "outputs": [
        {
          "ename": "SyntaxError",
          "evalue": "invalid syntax (3000440494.py, line 1)",
          "output_type": "error",
          "traceback": [
            "\u001b[1;36m  Cell \u001b[1;32mIn[15], line 1\u001b[1;36m\u001b[0m\n\u001b[1;33m    <...>\u001b[0m\n\u001b[1;37m    ^\u001b[0m\n\u001b[1;31mSyntaxError\u001b[0m\u001b[1;31m:\u001b[0m invalid syntax\n"
          ]
        }
      ],
      "source": [
        "<...>"
      ]
    },
    {
      "cell_type": "markdown",
      "metadata": {
        "ai_eval_tool": {
          "snippet_hash": "5c08e643e274d6398d17c296ab213693",
          "snippet_label": "start"
        }
      },
      "source": [
        "<!-- Внимание! Здесь находится специальная отметка. Ее нельзя удалять! Ответы на вопросы / выводы для предыдущего пункта(ов) пиши в ячейках выше! -->\n",
        "<!-- 5c08e643e274d6398d17c296ab213693 -->\n",
        "Проведите исследование реализованных критериев  \n",
        "* аналогично исследованию относительного t-test'а с занятия, \n",
        "* для данных из предыдущей задачи. \n",
        "\n",
        "В каждом случае постройте также график бутстрепной оценки распределения статистики и сравните его с нормальным распределением."
      ]
    },
    {
      "cell_type": "code",
      "execution_count": null,
      "metadata": {
        "ai_eval_tool": {
          "snippet_hash": "5c08e643e274d6398d17c296ab213693",
          "snippet_label": "end"
        }
      },
      "outputs": [],
      "source": [
        "<...>"
      ]
    },
    {
      "cell_type": "markdown",
      "metadata": {
        "ai_eval_tool": {
          "snippet_hash": "9c487359bc003d9d84dcc4c99c6a588d",
          "snippet_label": "start"
        }
      },
      "source": [
        "<!-- Внимание! Здесь находится специальная отметка. Ее нельзя удалять! Ответы на вопросы / выводы для предыдущего пункта(ов) пиши в ячейках выше! -->\n",
        "<!-- 9c487359bc003d9d84dcc4c99c6a588d -->\n",
        "Не забывайте про выводы."
      ]
    },
    {
      "cell_type": "code",
      "execution_count": null,
      "metadata": {
        "ai_eval_tool": {
          "snippet_hash": "9c487359bc003d9d84dcc4c99c6a588d",
          "snippet_label": "end"
        }
      },
      "outputs": [],
      "source": [
        "<...>"
      ]
    }
  ],
  "metadata": {
    "hide_input": false,
    "kernelspec": {
      "display_name": "Python 3",
      "language": "python",
      "name": "python3"
    },
    "language_info": {
      "codemirror_mode": {
        "name": "ipython",
        "version": 3
      },
      "file_extension": ".py",
      "mimetype": "text/x-python",
      "name": "python",
      "nbconvert_exporter": "python",
      "pygments_lexer": "ipython3",
      "version": "3.9.13"
    }
  },
  "nbformat": 4,
  "nbformat_minor": 2
}
