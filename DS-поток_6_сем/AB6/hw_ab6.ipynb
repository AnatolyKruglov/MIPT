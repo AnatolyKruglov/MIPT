{
  "cells": [
    {
      "cell_type": "markdown",
      "metadata": {},
      "source": [
        "# AB-тестирование\n",
        "## Задание AB.6\n",
        "\n",
        "\n",
        "**Правила:**\n",
        "\n",
        "* Дедлайны см. в боте. После дедлайна работы не принимаются кроме случаев наличия уважительной причины.\n",
        "* Выполненную работу нужно отправить телеграм-боту `@miptstats_ds22_bot`. Для начала работы с ботом каждый раз отправляйте `/start`. **Работы, присланные иным способом, не принимаются.**\n",
        "* Дедлайны см. в боте. После дедлайна работы не принимаются кроме случаев наличия уважительной причины.\n",
        "* Прислать нужно **ноутбук в формате `ipynb`**.\n",
        "* Следите за размером файлов. **Бот не может принимать файлы весом более 20 Мб.** Если файл получается больше, заранее разделите его на несколько.\n",
        "* Выполнять задание необходимо полностью самостоятельно. **При обнаружении списывания все участники списывания будут сдавать устный зачет.**\n",
        "* Решения, размещенные на каких-либо интернет-ресурсах, не принимаются. Кроме того, публикация решения в открытом доступе может быть приравнена к предоставлении возможности списать.\n",
        "* Для выполнения задания используйте этот ноутбук в качестве основы, ничего не удаляя из него. Можно добавлять необходимое количество ячеек.\n",
        "* Комментарии к решению пишите в markdown-ячейках.\n",
        "* Выполнение задания (ход решения, выводы и пр.) должно быть осуществлено на русском языке.\n",
        "* Если код будет не понятен проверяющему, оценка может быть снижена.\n",
        "* Никакой код из данного задания при проверке запускаться не будет. *Если код студента не выполнен, недописан и т.д., то он не оценивается.*\n",
        "* В каждой задаче не забывайте делать **пояснения и выводы**.\n",
        "\n",
        "**Правила оформления теоретических задач:**\n",
        "\n",
        "* Решения необходимо прислать одним из следующих способов:\n",
        "  * фотографией в правильной ориентации, где все четко видно, а почерк разборчив,\n",
        "    * отправив ее как файл боту вместе с ноутбуком *или*\n",
        "    * вставив ее в ноутбук посредством `Edit -> Insert Image` (<font color=\"red\">фото, вставленные ссылкой, не принимаются</font>);\n",
        "  * в виде $LaTeX$ в markdown-ячейках.\n",
        "* Решения не проверяются, если какое-то требование не выполнено. Особенно внимательно все проверьте в случае выбора второго пункта (вставки фото в ноутбук). <font color=\"red\"><b>Неправильно вставленные фотографии могут не передаться при отправке.</b></font> Для проверки попробуйте переместить `ipynb` в другую папку и открыть его там.\n",
        "* В решениях поясняйте, чем вы пользуетесь, хотя бы кратко. Например, если пользуетесь независимостью, то достаточно подписи вида \"*X и Y незав.*\"\n",
        "* Решение, в котором есть только ответ, и отсутствуют вычисления, оценивается в 0 баллов.\n",
        "\n",
        "**Баллы за задание:**\n",
        "\n",
        "* Задача 1 &mdash; 10 баллов;\n",
        "* Задача 2 &mdash; 40 баллов;\n",
        "* Задача 3 &mdash; 70 баллов;\n",
        "* Задача 4 &mdash; 60 баллов.\n",
        "\n",
        "----\n"
      ]
    },
    {
      "cell_type": "code",
      "execution_count": 103,
      "metadata": {},
      "outputs": [],
      "source": [
        "# Bot check\n",
        "\n",
        "# HW_ID: ds_ab6\n",
        "# Бот проверит этот ID и предупредит, если случайно сдать что-то не то.\n",
        "\n",
        "# Status: final\n",
        "# Перед отправкой в финальном решении удали \"not\" в строчке выше.\n",
        "# Так бот проверит, что ты отправляешь финальную версию, а не промежуточную.\n",
        "# Никакие значения в этой ячейке не влияют на факт сдачи работы."
      ]
    },
    {
      "cell_type": "code",
      "execution_count": 104,
      "metadata": {},
      "outputs": [],
      "source": [
        "import pandas as pd\n",
        "import numpy as np\n",
        "import scipy.stats as sps\n",
        "from tqdm import tqdm\n",
        "from statsmodels.stats.proportion import proportion_confint\n",
        "from statsmodels.stats.multitest import multipletests\n",
        "import statsmodels.api as sm\n",
        "import matplotlib.pyplot as plt\n",
        "from statsmodels.formula.api import ols"
      ]
    },
    {
      "cell_type": "markdown",
      "metadata": {},
      "source": [
        "---\n",
        "### Задача 1.\n",
        "\n",
        "Выберите несколько человек (не менее 5) с DS-потока по состоянию на осенний семестр и сравните их успеваемость методами дисперсионного анализа, рассмотрев оценки по всем заданиям одного типа (ST/SP/ML). Обратите внимание, что в отличие от примера с презентации в данном случае исследуемым фактором является человек, а задание &mdash; мешающий фактор."
      ]
    },
    {
      "cell_type": "code",
      "execution_count": 105,
      "metadata": {},
      "outputs": [
        {
          "data": {
            "text/html": [
              "<div>\n",
              "<style scoped>\n",
              "    .dataframe tbody tr th:only-of-type {\n",
              "        vertical-align: middle;\n",
              "    }\n",
              "\n",
              "    .dataframe tbody tr th {\n",
              "        vertical-align: top;\n",
              "    }\n",
              "\n",
              "    .dataframe thead th {\n",
              "        text-align: right;\n",
              "    }\n",
              "</style>\n",
              "<table border=\"1\" class=\"dataframe\">\n",
              "  <thead>\n",
              "    <tr style=\"text-align: right;\">\n",
              "      <th></th>\n",
              "      <th>0</th>\n",
              "      <th>1</th>\n",
              "      <th>2</th>\n",
              "      <th>3</th>\n",
              "      <th>4</th>\n",
              "      <th>5</th>\n",
              "      <th>6</th>\n",
              "      <th>7</th>\n",
              "      <th>8</th>\n",
              "      <th>9</th>\n",
              "      <th>10</th>\n",
              "      <th>11</th>\n",
              "      <th>12</th>\n",
              "      <th>13</th>\n",
              "    </tr>\n",
              "  </thead>\n",
              "  <tbody>\n",
              "    <tr>\n",
              "      <th>0</th>\n",
              "      <td>166</td>\n",
              "      <td>168.5</td>\n",
              "      <td>100</td>\n",
              "      <td>145.5</td>\n",
              "      <td>86</td>\n",
              "      <td>160</td>\n",
              "      <td>0</td>\n",
              "      <td>270</td>\n",
              "      <td>158</td>\n",
              "      <td>160</td>\n",
              "      <td>155</td>\n",
              "      <td>108</td>\n",
              "      <td>165</td>\n",
              "      <td>78</td>\n",
              "    </tr>\n",
              "    <tr>\n",
              "      <th>1</th>\n",
              "      <td>136</td>\n",
              "      <td>210.5</td>\n",
              "      <td>174</td>\n",
              "      <td>98.5</td>\n",
              "      <td>104</td>\n",
              "      <td>205</td>\n",
              "      <td>45</td>\n",
              "      <td>270</td>\n",
              "      <td>176</td>\n",
              "      <td>160</td>\n",
              "      <td>155</td>\n",
              "      <td>175</td>\n",
              "      <td>125</td>\n",
              "      <td>105</td>\n",
              "    </tr>\n",
              "    <tr>\n",
              "      <th>2</th>\n",
              "      <td>77</td>\n",
              "      <td>53.0</td>\n",
              "      <td>45</td>\n",
              "      <td>140.5</td>\n",
              "      <td>80</td>\n",
              "      <td>174</td>\n",
              "      <td>45</td>\n",
              "      <td>265</td>\n",
              "      <td>177</td>\n",
              "      <td>170</td>\n",
              "      <td>155</td>\n",
              "      <td>145</td>\n",
              "      <td>95</td>\n",
              "      <td>0</td>\n",
              "    </tr>\n",
              "    <tr>\n",
              "      <th>3</th>\n",
              "      <td>142</td>\n",
              "      <td>93.5</td>\n",
              "      <td>80</td>\n",
              "      <td>79.5</td>\n",
              "      <td>79</td>\n",
              "      <td>132</td>\n",
              "      <td>45</td>\n",
              "      <td>265</td>\n",
              "      <td>232</td>\n",
              "      <td>195</td>\n",
              "      <td>145</td>\n",
              "      <td>154</td>\n",
              "      <td>76</td>\n",
              "      <td>1</td>\n",
              "    </tr>\n",
              "    <tr>\n",
              "      <th>4</th>\n",
              "      <td>53</td>\n",
              "      <td>152.5</td>\n",
              "      <td>0</td>\n",
              "      <td>141.5</td>\n",
              "      <td>63</td>\n",
              "      <td>224</td>\n",
              "      <td>137</td>\n",
              "      <td>270</td>\n",
              "      <td>216</td>\n",
              "      <td>0</td>\n",
              "      <td>10</td>\n",
              "      <td>40</td>\n",
              "      <td>95</td>\n",
              "      <td>73</td>\n",
              "    </tr>\n",
              "  </tbody>\n",
              "</table>\n",
              "</div>"
            ],
            "text/plain": [
              "    0      1    2      3    4    5    6    7    8    9    10   11   12   13\n",
              "0  166  168.5  100  145.5   86  160    0  270  158  160  155  108  165   78\n",
              "1  136  210.5  174   98.5  104  205   45  270  176  160  155  175  125  105\n",
              "2   77   53.0   45  140.5   80  174   45  265  177  170  155  145   95    0\n",
              "3  142   93.5   80   79.5   79  132   45  265  232  195  145  154   76    1\n",
              "4   53  152.5    0  141.5   63  224  137  270  216    0   10   40   95   73"
            ]
          },
          "execution_count": 105,
          "metadata": {},
          "output_type": "execute_result"
        }
      ],
      "source": [
        "df = pd.read_csv('grades.csv', header=None)  # дз ML1-14, первые 5 человек из таблицы\n",
        "people = [df.iloc[i].values for i in range(5)]   # строка = выборка = оценки одного человека\n",
        "df"
      ]
    },
    {
      "cell_type": "markdown",
      "metadata": {},
      "source": [
        "*H0: средние оценки всех студентов равны*  \n",
        "*H1: хотя бы одна средняя оценка отличается*  \n",
        "*Выборки независимы (это разные люди), фактор один (номер студента) => нужен sps.f_oneway*  "
      ]
    },
    {
      "cell_type": "code",
      "execution_count": 106,
      "metadata": {},
      "outputs": [
        {
          "name": "stdout",
          "output_type": "stream",
          "text": [
            "НЕ отвергаем H0 (pvalue=0.43)\n"
          ]
        }
      ],
      "source": [
        "_, p_val = sps.f_oneway(*people)\n",
        "print(f'{\"Отвергаем\" if p_val<0.05 else \"НЕ отвергаем\"} H0 (pvalue={p_val:.2f})')"
      ]
    },
    {
      "cell_type": "markdown",
      "metadata": {},
      "source": [
        "*Получилось, что нет стат значимых различий в средних баллах выбранных студентов. Кажется, это объясняется очень большим разбросом оценок (от 0 до 270) и небольшой выборкой (14 дз)*"
      ]
    },
    {
      "cell_type": "markdown",
      "metadata": {},
      "source": [
        "---\n",
        "\n",
        "### Задача 2.\n",
        "\n",
        "Используя теорему о разложении гауссовского вектора получите $F$-критерий однофакторного дисперсионного анализа для случая независимых выборок."
      ]
    },
    {
      "cell_type": "markdown",
      "metadata": {},
      "source": [
        "---\n",
        "\n",
        "### Задача 3.\n",
        "\n",
        "На занятии разобраны два способа проведения post-hoc анализа для сравнения средних нескольких независимых выборок &mdash; LSD Фишера и HSD Тьюки. \n",
        "\n",
        "Какое количество попарных сравнений они производят для $k$ выборок? В чем заявленное преимущество HSD Тьюки?"
      ]
    },
    {
      "cell_type": "markdown",
      "metadata": {},
      "source": [
        "*Попарных сравнений будет k(k-1). HSD работат без МПГ*"
      ]
    },
    {
      "cell_type": "markdown",
      "metadata": {},
      "source": [
        "Опишите процедуру валидации подобно АА-тесту метода HDS Тьюки для $k=4$ выборок одного размера $n$. Какую величину будете оценивать?"
      ]
    },
    {
      "cell_type": "markdown",
      "metadata": {},
      "source": [
        "*Генерим k=4 выборок размера n из одного распределения (т.е. H0 верна). Проверяем все попарные гипотезы, они не должны отвергаться. Так повторяем B раз. Находим FWER (долю ложных отвержений) - это вероятность ошибки первого рода*"
      ]
    },
    {
      "cell_type": "markdown",
      "metadata": {},
      "source": [
        "Реализуйте эту процедуру \n",
        "* для нескольких распределений,\n",
        "* для нескольких значений $n$."
      ]
    },
    {
      "cell_type": "code",
      "execution_count": 107,
      "metadata": {},
      "outputs": [
        {
          "name": "stderr",
          "output_type": "stream",
          "text": [
            "100%|██████████| 1000/1000 [02:39<00:00,  6.25it/s]\n"
          ]
        },
        {
          "name": "stdout",
          "output_type": "stream",
          "text": [
            "Norm, n=100: (0.038, [0.026, 0.05])\n"
          ]
        },
        {
          "name": "stderr",
          "output_type": "stream",
          "text": [
            "100%|██████████| 1000/1000 [02:41<00:00,  6.18it/s]\n"
          ]
        },
        {
          "name": "stdout",
          "output_type": "stream",
          "text": [
            "Cauchy, n=100: (0.013, [0.006, 0.02])\n"
          ]
        },
        {
          "name": "stderr",
          "output_type": "stream",
          "text": [
            "100%|██████████| 1000/1000 [02:40<00:00,  6.23it/s]\n"
          ]
        },
        {
          "name": "stdout",
          "output_type": "stream",
          "text": [
            "Laplace, n=100: (0.059, [0.044, 0.074])\n"
          ]
        },
        {
          "name": "stderr",
          "output_type": "stream",
          "text": [
            "100%|██████████| 1000/1000 [01:55<00:00,  8.64it/s]\n"
          ]
        },
        {
          "name": "stdout",
          "output_type": "stream",
          "text": [
            "Norm, n=10: (0.048, [0.035, 0.061])\n"
          ]
        },
        {
          "name": "stderr",
          "output_type": "stream",
          "text": [
            "100%|██████████| 1000/1000 [02:37<00:00,  6.34it/s]\n"
          ]
        },
        {
          "name": "stdout",
          "output_type": "stream",
          "text": [
            "Norm, n=100: (0.053, [0.039, 0.067])\n"
          ]
        },
        {
          "name": "stderr",
          "output_type": "stream",
          "text": [
            "100%|██████████| 1000/1000 [03:18<00:00,  5.04it/s]"
          ]
        },
        {
          "name": "stdout",
          "output_type": "stream",
          "text": [
            "Norm, n=1000: (0.05, [0.036, 0.064])\n"
          ]
        },
        {
          "name": "stderr",
          "output_type": "stream",
          "text": [
            "\n"
          ]
        }
      ],
      "source": [
        "def run_hsd(distr, sample_size=100, n_iter=1000):\n",
        "    n_rejects = 0\n",
        "    for _ in tqdm(range(n_iter)):\n",
        "        p = sps.tukey_hsd(*distr.rvs(size=(4, sample_size))).pvalue\n",
        "        p = p[np.triu_indices_from(p)]\n",
        "        n_rejects += (p<0.05).any()\n",
        "    return round(n_rejects/n_iter,3), [round(x,3) for x in proportion_confint(n_rejects, n_iter)]\n",
        "\n",
        "for name, distr in zip(['Norm','Cauchy','Laplace'], [sps.norm,sps.cauchy,sps.laplace]):\n",
        "    print(f'{name}, n=100: {run_hsd(distr, 100)}')\n",
        "\n",
        "for sample_size in [10,100,1000]:\n",
        "    print(f'Norm, n={sample_size}: {run_hsd(sps.norm, sample_size)}')"
      ]
    },
    {
      "cell_type": "markdown",
      "metadata": {},
      "source": [
        "*Ошибка 1 рода контролируется, валидацию прошли*"
      ]
    },
    {
      "cell_type": "markdown",
      "metadata": {},
      "source": [
        "Проведите сравнение LSD Фишера и HSD Тьюки по *средней доле правильно отвергаемых гипотез* при двух альтернативах:\n",
        "1. $\\mu_1 = \\mu_2 < \\mu_3 = \\mu_4$;\n",
        "2. $\\mu_1 < \\mu_2 < \\mu_2 < \\mu_4$,\n",
        "\n",
        "где $\\mu_j$ &mdash; среднее по выборке $j$.\n",
        "\n",
        "*Примечание.* В качестве реализации LSD Фишера можно использовать попарные t-test и последующее применение МПГ."
      ]
    },
    {
      "cell_type": "code",
      "execution_count": 108,
      "metadata": {},
      "outputs": [
        {
          "name": "stderr",
          "output_type": "stream",
          "text": [
            "100%|██████████| 1000/1000 [00:06<00:00, 153.26it/s]\n"
          ]
        },
        {
          "name": "stdout",
          "output_type": "stream",
          "text": [
            "Фишер, средние=[0, 0, 0.5, 0.5]: (0.553, [0.54, 0.566])\n"
          ]
        },
        {
          "name": "stderr",
          "output_type": "stream",
          "text": [
            "100%|██████████| 1000/1000 [03:15<00:00,  5.11it/s]\n"
          ]
        },
        {
          "name": "stdout",
          "output_type": "stream",
          "text": [
            "Тьюки, средние=[0, 0, 0.5, 0.5]: (0.556, [0.543, 0.568])\n"
          ]
        },
        {
          "name": "stderr",
          "output_type": "stream",
          "text": [
            "100%|██████████| 1000/1000 [00:06<00:00, 155.75it/s]\n"
          ]
        },
        {
          "name": "stdout",
          "output_type": "stream",
          "text": [
            "Фишер, средние=[0, 0.25, 0.5, 0.75]: (0.557, [0.544, 0.57])\n"
          ]
        },
        {
          "name": "stderr",
          "output_type": "stream",
          "text": [
            "100%|██████████| 1000/1000 [03:23<00:00,  4.90it/s]"
          ]
        },
        {
          "name": "stdout",
          "output_type": "stream",
          "text": [
            "Тьюки, средние=[0, 0.25, 0.5, 0.75]: (0.554, [0.541, 0.566])\n"
          ]
        },
        {
          "name": "stderr",
          "output_type": "stream",
          "text": [
            "\n"
          ]
        }
      ],
      "source": [
        "def run_lsd(mus, sample_size=100, n_iter=1000, test=\"tukey\", pvals=np.zeros((4,4))):\n",
        "    n_rejects, n = 0, 4*(4-1)//2\n",
        "    for _ in tqdm(range(n_iter)):\n",
        "        sample = [sps.norm(loc=mu).rvs(size=sample_size) for mu in mus]\n",
        "        if test == \"tukey\":\n",
        "            pvals = sps.tukey_hsd(*sample).pvalue\n",
        "        elif test == \"fisher\":\n",
        "            pvals[np.triu_indices(4, k=1)] = multipletests([sps.ttest_ind(sample[i], sample[j])[1] for i in range(4) for j in range(i+1,4)], method='fdr_by')[1]\n",
        "        n_rejects += sum(pvals[i][j] < 0.05 for i in range(4) for j in range(i+1,4) if mus[i] != mus[j])\n",
        "    return round(n_rejects / (n_iter * n), 3), [round(x, 3) for x in proportion_confint(n_rejects, n_iter * n)]\n",
        "\n",
        "for mus in [[0, 0, 0.5, 0.5], [0, 0.25, 0.5, 0.75]]:\n",
        "    print(f'Фишер, средние={mus}: {run_lsd(mus, test=\"fisher\")}')\n",
        "    print(f'Тьюки, средние={mus}: {run_lsd(mus, test=\"tukey\")}')"
      ]
    },
    {
      "cell_type": "markdown",
      "metadata": {},
      "source": [
        "*Тьюки мощнее*"
      ]
    },
    {
      "cell_type": "markdown",
      "metadata": {},
      "source": [
        "Сделайте выводы."
      ]
    },
    {
      "cell_type": "markdown",
      "metadata": {},
      "source": [
        "*В этой задаче удалось ближе познакомиться с 2 методами post-hoc анализа: Фишера и Тьюки*"
      ]
    },
    {
      "cell_type": "markdown",
      "metadata": {},
      "source": [
        "---\n",
        "\n",
        "### Задача 4.\n",
        "\n",
        "Рассмотрим данные о внебрачных отношениях в контексте распределения времени между работой, временем, проведенным с супругом/супругой, и временем, проведенным с любовником/любовницей. Данные встроены в библиотеку `statsmodels`, почитать про них можно по <a href=\"http://www.statsmodels.org/stable/datasets/generated/fair.html\">ссылке</a>.\n",
        "\n",
        "Всего в данных содержатся результаты опроса 6366 человек. Опрос проводился в 1970-х, его анализ приведен в статье\n",
        "\n",
        "    Fair, Ray. 1978. “A Theory of Extramarital Affairs,” Journal of Political Economy, February, 45-61.\n",
        "\n",
        "Данные содержат следующие признаки:\n",
        "* `rate_marriage` &mdash; оценка брака:\n",
        "  * 1 = очень плохой, \n",
        "  * 2 = плохой, \n",
        "  * 3 = средний,      \n",
        "  * 4 = хороший, \n",
        "  * 5 = очень хороший;\n",
        "* `age` &mdash; возраст опрашиваемого;\n",
        "* `yrs_married` &mdash; количество лет в браке;\n",
        "* `children` &mdash; количество детей;\n",
        "* `religious` &mdash; религиозность человека:\n",
        "  * 1 = атеист, \n",
        "  * 2 = немного религиозный, \n",
        "  * 3 = вполне регилиозный,\n",
        "  * 4 = строго религиозный;\n",
        "* `educ` &mdash; уровень образования:\n",
        "  * 9 = средняя школа, \n",
        "  * 12 = старшая школа, \n",
        "  * 14 = студент, \n",
        "  * 16 = выпускник вуза,\n",
        "  * 17 = аспирант, \n",
        "  * 20 = выпускник аспирантуры;\n",
        "* `occupation` &mdash; вид деятельности:\n",
        "  * 1 = студент, \n",
        "  * 2 = сельское хозяйство, сельское хозяйство; полуквалифицированный или неквалифицированный рабочий; \n",
        "  * 3 = белый воротничок; \n",
        "  * 4 = педагог-консультант социальный работник, медсестра; художник, писатель; техник, квалифицированный рабочий, \n",
        "  * 5 = управленческий, административный, деловой, \n",
        "  * 6 = профессионал с ученой степенью;\n",
        "* `occupation_husb` &mdash; вид деятельности супруга;\n",
        "* `affairs` &mdash; доля времени, проведенного во внебрачных отношениях."
      ]
    },
    {
      "cell_type": "markdown",
      "metadata": {},
      "source": [
        "Изучите целевой признак. Каково его распределение, сколько там нулей? \n",
        "\n",
        "Далее нас будут интересовать только те люди, которые изменяли. Отфильтруйте данные."
      ]
    },
    {
      "cell_type": "code",
      "execution_count": 110,
      "metadata": {},
      "outputs": [
        {
          "data": {
            "text/html": [
              "<div>\n",
              "<style scoped>\n",
              "    .dataframe tbody tr th:only-of-type {\n",
              "        vertical-align: middle;\n",
              "    }\n",
              "\n",
              "    .dataframe tbody tr th {\n",
              "        vertical-align: top;\n",
              "    }\n",
              "\n",
              "    .dataframe thead th {\n",
              "        text-align: right;\n",
              "    }\n",
              "</style>\n",
              "<table border=\"1\" class=\"dataframe\">\n",
              "  <thead>\n",
              "    <tr style=\"text-align: right;\">\n",
              "      <th></th>\n",
              "      <th>affairs</th>\n",
              "      <th>gender</th>\n",
              "      <th>age</th>\n",
              "      <th>yearsmarried</th>\n",
              "      <th>children</th>\n",
              "      <th>religiousness</th>\n",
              "      <th>education</th>\n",
              "      <th>occupation</th>\n",
              "      <th>rating</th>\n",
              "    </tr>\n",
              "    <tr>\n",
              "      <th>rownames</th>\n",
              "      <th></th>\n",
              "      <th></th>\n",
              "      <th></th>\n",
              "      <th></th>\n",
              "      <th></th>\n",
              "      <th></th>\n",
              "      <th></th>\n",
              "      <th></th>\n",
              "      <th></th>\n",
              "    </tr>\n",
              "  </thead>\n",
              "  <tbody>\n",
              "    <tr>\n",
              "      <th>4</th>\n",
              "      <td>0</td>\n",
              "      <td>male</td>\n",
              "      <td>37.0</td>\n",
              "      <td>10.0</td>\n",
              "      <td>no</td>\n",
              "      <td>3</td>\n",
              "      <td>18</td>\n",
              "      <td>7</td>\n",
              "      <td>4</td>\n",
              "    </tr>\n",
              "    <tr>\n",
              "      <th>5</th>\n",
              "      <td>0</td>\n",
              "      <td>female</td>\n",
              "      <td>27.0</td>\n",
              "      <td>4.0</td>\n",
              "      <td>no</td>\n",
              "      <td>4</td>\n",
              "      <td>14</td>\n",
              "      <td>6</td>\n",
              "      <td>4</td>\n",
              "    </tr>\n",
              "    <tr>\n",
              "      <th>11</th>\n",
              "      <td>0</td>\n",
              "      <td>female</td>\n",
              "      <td>32.0</td>\n",
              "      <td>15.0</td>\n",
              "      <td>yes</td>\n",
              "      <td>1</td>\n",
              "      <td>12</td>\n",
              "      <td>1</td>\n",
              "      <td>4</td>\n",
              "    </tr>\n",
              "  </tbody>\n",
              "</table>\n",
              "</div>"
            ],
            "text/plain": [
              "          affairs  gender   age  yearsmarried children  religiousness  \\\n",
              "rownames                                                                \n",
              "4               0    male  37.0          10.0       no              3   \n",
              "5               0  female  27.0           4.0       no              4   \n",
              "11              0  female  32.0          15.0      yes              1   \n",
              "\n",
              "          education  occupation  rating  \n",
              "rownames                                 \n",
              "4                18           7       4  \n",
              "5                14           6       4  \n",
              "11               12           1       4  "
            ]
          },
          "execution_count": 110,
          "metadata": {},
          "output_type": "execute_result"
        }
      ],
      "source": [
        "df = sm.datasets.get_rdataset(\"Affairs\",\"AER\").data\n",
        "target, features = 'affairs', ['gender','age','yearsmarried','children','religiousness','education','occupation','rating']\n",
        "df.head(3)"
      ]
    },
    {
      "cell_type": "code",
      "execution_count": 111,
      "metadata": {},
      "outputs": [
        {
          "data": {
            "image/png": "[encoded data removed]",
            "text/plain": [
              "<Figure size 700x300 with 1 Axes>"
            ]
          },
          "metadata": {},
          "output_type": "display_data"
        }
      ],
      "source": [
        "def plot_hist(feature='affairs', bins=16):\n",
        "    plt.figure(figsize=(7,3))\n",
        "    plt.hist(df[feature], bins=bins)\n",
        "    plt.title(f'Гистограмма {feature}')\n",
        "    plt.show()\n",
        "\n",
        "plot_hist('affairs')"
      ]
    },
    {
      "cell_type": "markdown",
      "metadata": {},
      "source": [
        "*Действительно нулей много. Впрочем, это хорошо)))*  \n",
        "*Оставим только изменщиков*  "
      ]
    },
    {
      "cell_type": "code",
      "execution_count": 112,
      "metadata": {},
      "outputs": [
        {
          "name": "stdout",
          "output_type": "stream",
          "text": [
            "601 -> 150\n"
          ]
        }
      ],
      "source": [
        "print(len(df), end=' -> ')\n",
        "df = df[df.affairs>0]\n",
        "print(len(df))"
      ]
    },
    {
      "cell_type": "markdown",
      "metadata": {},
      "source": [
        "**1.** С помощью F-критерия исследуйте, по каким факторам наблюдается различие по доли времени, проведенного во внебрачных отношениях."
      ]
    },
    {
      "cell_type": "code",
      "execution_count": 113,
      "metadata": {},
      "outputs": [
        {
          "data": {
            "text/html": [
              "<div>\n",
              "<style scoped>\n",
              "    .dataframe tbody tr th:only-of-type {\n",
              "        vertical-align: middle;\n",
              "    }\n",
              "\n",
              "    .dataframe tbody tr th {\n",
              "        vertical-align: top;\n",
              "    }\n",
              "\n",
              "    .dataframe thead th {\n",
              "        text-align: right;\n",
              "    }\n",
              "</style>\n",
              "<table border=\"1\" class=\"dataframe\">\n",
              "  <thead>\n",
              "    <tr style=\"text-align: right;\">\n",
              "      <th></th>\n",
              "      <th>df</th>\n",
              "      <th>sum_sq</th>\n",
              "      <th>mean_sq</th>\n",
              "      <th>F</th>\n",
              "      <th>PR(&gt;F)</th>\n",
              "    </tr>\n",
              "  </thead>\n",
              "  <tbody>\n",
              "    <tr>\n",
              "      <th>gender</th>\n",
              "      <td>1.0</td>\n",
              "      <td>19.471154</td>\n",
              "      <td>19.471154</td>\n",
              "      <td>1.227951</td>\n",
              "      <td>0.269693</td>\n",
              "    </tr>\n",
              "    <tr>\n",
              "      <th>children</th>\n",
              "      <td>1.0</td>\n",
              "      <td>0.029498</td>\n",
              "      <td>0.029498</td>\n",
              "      <td>0.001860</td>\n",
              "      <td>0.965658</td>\n",
              "    </tr>\n",
              "    <tr>\n",
              "      <th>age</th>\n",
              "      <td>1.0</td>\n",
              "      <td>97.057880</td>\n",
              "      <td>97.057880</td>\n",
              "      <td>6.120969</td>\n",
              "      <td>0.014546</td>\n",
              "    </tr>\n",
              "    <tr>\n",
              "      <th>yearsmarried</th>\n",
              "      <td>1.0</td>\n",
              "      <td>122.531627</td>\n",
              "      <td>122.531627</td>\n",
              "      <td>7.727474</td>\n",
              "      <td>0.006181</td>\n",
              "    </tr>\n",
              "    <tr>\n",
              "      <th>religiousness</th>\n",
              "      <td>1.0</td>\n",
              "      <td>102.114041</td>\n",
              "      <td>102.114041</td>\n",
              "      <td>6.439837</td>\n",
              "      <td>0.012246</td>\n",
              "    </tr>\n",
              "    <tr>\n",
              "      <th>education</th>\n",
              "      <td>1.0</td>\n",
              "      <td>14.814847</td>\n",
              "      <td>14.814847</td>\n",
              "      <td>0.934300</td>\n",
              "      <td>0.335403</td>\n",
              "    </tr>\n",
              "    <tr>\n",
              "      <th>occupation</th>\n",
              "      <td>1.0</td>\n",
              "      <td>29.605409</td>\n",
              "      <td>29.605409</td>\n",
              "      <td>1.867069</td>\n",
              "      <td>0.173986</td>\n",
              "    </tr>\n",
              "    <tr>\n",
              "      <th>rating</th>\n",
              "      <td>1.0</td>\n",
              "      <td>77.425446</td>\n",
              "      <td>77.425446</td>\n",
              "      <td>4.882847</td>\n",
              "      <td>0.028738</td>\n",
              "    </tr>\n",
              "    <tr>\n",
              "      <th>Residual</th>\n",
              "      <td>141.0</td>\n",
              "      <td>2235.783431</td>\n",
              "      <td>15.856620</td>\n",
              "      <td>NaN</td>\n",
              "      <td>NaN</td>\n",
              "    </tr>\n",
              "  </tbody>\n",
              "</table>\n",
              "</div>"
            ],
            "text/plain": [
              "                  df       sum_sq     mean_sq         F    PR(>F)\n",
              "gender           1.0    19.471154   19.471154  1.227951  0.269693\n",
              "children         1.0     0.029498    0.029498  0.001860  0.965658\n",
              "age              1.0    97.057880   97.057880  6.120969  0.014546\n",
              "yearsmarried     1.0   122.531627  122.531627  7.727474  0.006181\n",
              "religiousness    1.0   102.114041  102.114041  6.439837  0.012246\n",
              "education        1.0    14.814847   14.814847  0.934300  0.335403\n",
              "occupation       1.0    29.605409   29.605409  1.867069  0.173986\n",
              "rating           1.0    77.425446   77.425446  4.882847  0.028738\n",
              "Residual       141.0  2235.783431   15.856620       NaN       NaN"
            ]
          },
          "execution_count": 113,
          "metadata": {},
          "output_type": "execute_result"
        }
      ],
      "source": [
        "sm.stats.anova_lm(ols(f\"affairs ~ {' + '.join(features)}\", data=df).fit())"
      ]
    },
    {
      "cell_type": "markdown",
      "metadata": {},
      "source": [
        "*Факторы, по которым наблюдаем различие: age, yearsmarried, religiousness, rating*"
      ]
    },
    {
      "cell_type": "markdown",
      "metadata": {},
      "source": [
        "**2.** По факторам, для которых нашлось статистически значимое отличие, проведите post-hoc анализ для выявления уровня факторов, для которых различается целевой признак."
      ]
    },
    {
      "cell_type": "code",
      "execution_count": 114,
      "metadata": {},
      "outputs": [
        {
          "data": {
            "image/png": "[encoded data removed]",
            "text/plain": [
              "<Figure size 700x300 with 1 Axes>"
            ]
          },
          "metadata": {},
          "output_type": "display_data"
        },
        {
          "data": {
            "image/png": "[encoded data removed]",
            "text/plain": [
              "<Figure size 700x300 with 1 Axes>"
            ]
          },
          "metadata": {},
          "output_type": "display_data"
        },
        {
          "data": {
            "image/png": "[encoded data removed]",
            "text/plain": [
              "<Figure size 700x300 with 1 Axes>"
            ]
          },
          "metadata": {},
          "output_type": "display_data"
        },
        {
          "data": {
            "image/png": "[encoded data removed]",
            "text/plain": [
              "<Figure size 700x300 with 1 Axes>"
            ]
          },
          "metadata": {},
          "output_type": "display_data"
        }
      ],
      "source": [
        "for f in ['age','yearsmarried','religiousness','rating']:\n",
        "    plot_hist(f, bins=8)"
      ]
    },
    {
      "cell_type": "markdown",
      "metadata": {},
      "source": [
        "*Логичными кажутся такие разбиения \\ бинарные факторы измен*"
      ]
    },
    {
      "cell_type": "code",
      "execution_count": 115,
      "metadata": {},
      "outputs": [
        {
          "name": "stdout",
          "output_type": "stream",
          "text": [
            "young\n"
          ]
        },
        {
          "data": {
            "text/html": [
              "<table class=\"simpletable\">\n",
              "<caption>OLS Regression Results</caption>\n",
              "<tr>\n",
              "  <th>Dep. Variable:</th>         <td>affairs</td>     <th>  R-squared:         </th> <td>   0.052</td>\n",
              "</tr>\n",
              "<tr>\n",
              "  <th>Model:</th>                   <td>OLS</td>       <th>  Adj. R-squared:    </th> <td>   0.046</td>\n",
              "</tr>\n",
              "<tr>\n",
              "  <th>Method:</th>             <td>Least Squares</td>  <th>  F-statistic:       </th> <td>   8.137</td>\n",
              "</tr>\n",
              "<tr>\n",
              "  <th>Date:</th>             <td>Sun, 16 Mar 2025</td> <th>  Prob (F-statistic):</th>  <td>0.00496</td>\n",
              "</tr>\n",
              "<tr>\n",
              "  <th>Time:</th>                 <td>19:15:25</td>     <th>  Log-Likelihood:    </th> <td> -425.57</td>\n",
              "</tr>\n",
              "<tr>\n",
              "  <th>No. Observations:</th>      <td>   150</td>      <th>  AIC:               </th> <td>   855.1</td>\n",
              "</tr>\n",
              "<tr>\n",
              "  <th>Df Residuals:</th>          <td>   148</td>      <th>  BIC:               </th> <td>   861.2</td>\n",
              "</tr>\n",
              "<tr>\n",
              "  <th>Df Model:</th>              <td>     1</td>      <th>                     </th>     <td> </td>   \n",
              "</tr>\n",
              "<tr>\n",
              "  <th>Covariance Type:</th>      <td>nonrobust</td>    <th>                     </th>     <td> </td>   \n",
              "</tr>\n",
              "</table>\n",
              "<table class=\"simpletable\">\n",
              "<tr>\n",
              "    <td></td>       <th>coef</th>     <th>std err</th>      <th>t</th>      <th>P>|t|</th>  <th>[0.025</th>    <th>0.975]</th>  \n",
              "</tr>\n",
              "<tr>\n",
              "  <th>const</th> <td>    7.0702</td> <td>    0.551</td> <td>   12.839</td> <td> 0.000</td> <td>    5.982</td> <td>    8.158</td>\n",
              "</tr>\n",
              "<tr>\n",
              "  <th>young</th> <td>   -1.9949</td> <td>    0.699</td> <td>   -2.852</td> <td> 0.005</td> <td>   -3.377</td> <td>   -0.613</td>\n",
              "</tr>\n",
              "</table>\n",
              "<table class=\"simpletable\">\n",
              "<tr>\n",
              "  <th>Omnibus:</th>       <td>75.503</td> <th>  Durbin-Watson:     </th> <td>   1.947</td>\n",
              "</tr>\n",
              "<tr>\n",
              "  <th>Prob(Omnibus):</th> <td> 0.000</td> <th>  Jarque-Bera (JB):  </th> <td>  12.298</td>\n",
              "</tr>\n",
              "<tr>\n",
              "  <th>Skew:</th>          <td> 0.335</td> <th>  Prob(JB):          </th> <td> 0.00214</td>\n",
              "</tr>\n",
              "<tr>\n",
              "  <th>Kurtosis:</th>      <td> 1.768</td> <th>  Cond. No.          </th> <td>    3.00</td>\n",
              "</tr>\n",
              "</table><br/><br/>Notes:<br/>[1] Standard Errors assume that the covariance matrix of the errors is correctly specified."
            ],
            "text/plain": [
              "<class 'statsmodels.iolib.summary.Summary'>\n",
              "\"\"\"\n",
              "                            OLS Regression Results                            \n",
              "==============================================================================\n",
              "Dep. Variable:                affairs   R-squared:                       0.052\n",
              "Model:                            OLS   Adj. R-squared:                  0.046\n",
              "Method:                 Least Squares   F-statistic:                     8.137\n",
              "Date:                Sun, 16 Mar 2025   Prob (F-statistic):            0.00496\n",
              "Time:                        19:15:25   Log-Likelihood:                -425.57\n",
              "No. Observations:                 150   AIC:                             855.1\n",
              "Df Residuals:                     148   BIC:                             861.2\n",
              "Df Model:                           1                                         \n",
              "Covariance Type:            nonrobust                                         \n",
              "==============================================================================\n",
              "                 coef    std err          t      P>|t|      [0.025      0.975]\n",
              "------------------------------------------------------------------------------\n",
              "const          7.0702      0.551     12.839      0.000       5.982       8.158\n",
              "young         -1.9949      0.699     -2.852      0.005      -3.377      -0.613\n",
              "==============================================================================\n",
              "Omnibus:                       75.503   Durbin-Watson:                   1.947\n",
              "Prob(Omnibus):                  0.000   Jarque-Bera (JB):               12.298\n",
              "Skew:                           0.335   Prob(JB):                      0.00214\n",
              "Kurtosis:                       1.768   Cond. No.                         3.00\n",
              "==============================================================================\n",
              "\n",
              "Notes:\n",
              "[1] Standard Errors assume that the covariance matrix of the errors is correctly specified.\n",
              "\"\"\""
            ]
          },
          "metadata": {},
          "output_type": "display_data"
        },
        {
          "name": "stdout",
          "output_type": "stream",
          "text": [
            "married_for_long\n"
          ]
        },
        {
          "data": {
            "text/html": [
              "<table class=\"simpletable\">\n",
              "<caption>OLS Regression Results</caption>\n",
              "<tr>\n",
              "  <th>Dep. Variable:</th>         <td>affairs</td>     <th>  R-squared:         </th> <td>   0.059</td>\n",
              "</tr>\n",
              "<tr>\n",
              "  <th>Model:</th>                   <td>OLS</td>       <th>  Adj. R-squared:    </th> <td>   0.053</td>\n",
              "</tr>\n",
              "<tr>\n",
              "  <th>Method:</th>             <td>Least Squares</td>  <th>  F-statistic:       </th> <td>   9.280</td>\n",
              "</tr>\n",
              "<tr>\n",
              "  <th>Date:</th>             <td>Sun, 16 Mar 2025</td> <th>  Prob (F-statistic):</th>  <td>0.00274</td>\n",
              "</tr>\n",
              "<tr>\n",
              "  <th>Time:</th>                 <td>19:15:25</td>     <th>  Log-Likelihood:    </th> <td> -425.03</td>\n",
              "</tr>\n",
              "<tr>\n",
              "  <th>No. Observations:</th>      <td>   150</td>      <th>  AIC:               </th> <td>   854.1</td>\n",
              "</tr>\n",
              "<tr>\n",
              "  <th>Df Residuals:</th>          <td>   148</td>      <th>  BIC:               </th> <td>   860.1</td>\n",
              "</tr>\n",
              "<tr>\n",
              "  <th>Df Model:</th>              <td>     1</td>      <th>                     </th>     <td> </td>   \n",
              "</tr>\n",
              "<tr>\n",
              "  <th>Covariance Type:</th>      <td>nonrobust</td>    <th>                     </th>     <td> </td>   \n",
              "</tr>\n",
              "</table>\n",
              "<table class=\"simpletable\">\n",
              "<tr>\n",
              "          <td></td>            <th>coef</th>     <th>std err</th>      <th>t</th>      <th>P>|t|</th>  <th>[0.025</th>    <th>0.975]</th>  \n",
              "</tr>\n",
              "<tr>\n",
              "  <th>const</th>            <td>    6.7590</td> <td>    0.455</td> <td>   14.865</td> <td> 0.000</td> <td>    5.861</td> <td>    7.658</td>\n",
              "</tr>\n",
              "<tr>\n",
              "  <th>married_for_long</th> <td>   -2.0725</td> <td>    0.680</td> <td>   -3.046</td> <td> 0.003</td> <td>   -3.417</td> <td>   -0.728</td>\n",
              "</tr>\n",
              "</table>\n",
              "<table class=\"simpletable\">\n",
              "<tr>\n",
              "  <th>Omnibus:</th>       <td>77.458</td> <th>  Durbin-Watson:     </th> <td>   1.997</td>\n",
              "</tr>\n",
              "<tr>\n",
              "  <th>Prob(Omnibus):</th> <td> 0.000</td> <th>  Jarque-Bera (JB):  </th> <td>  12.235</td>\n",
              "</tr>\n",
              "<tr>\n",
              "  <th>Skew:</th>          <td> 0.326</td> <th>  Prob(JB):          </th> <td> 0.00220</td>\n",
              "</tr>\n",
              "<tr>\n",
              "  <th>Kurtosis:</th>      <td> 1.763</td> <th>  Cond. No.          </th> <td>    2.51</td>\n",
              "</tr>\n",
              "</table><br/><br/>Notes:<br/>[1] Standard Errors assume that the covariance matrix of the errors is correctly specified."
            ],
            "text/plain": [
              "<class 'statsmodels.iolib.summary.Summary'>\n",
              "\"\"\"\n",
              "                            OLS Regression Results                            \n",
              "==============================================================================\n",
              "Dep. Variable:                affairs   R-squared:                       0.059\n",
              "Model:                            OLS   Adj. R-squared:                  0.053\n",
              "Method:                 Least Squares   F-statistic:                     9.280\n",
              "Date:                Sun, 16 Mar 2025   Prob (F-statistic):            0.00274\n",
              "Time:                        19:15:25   Log-Likelihood:                -425.03\n",
              "No. Observations:                 150   AIC:                             854.1\n",
              "Df Residuals:                     148   BIC:                             860.1\n",
              "Df Model:                           1                                         \n",
              "Covariance Type:            nonrobust                                         \n",
              "====================================================================================\n",
              "                       coef    std err          t      P>|t|      [0.025      0.975]\n",
              "------------------------------------------------------------------------------------\n",
              "const                6.7590      0.455     14.865      0.000       5.861       7.658\n",
              "married_for_long    -2.0725      0.680     -3.046      0.003      -3.417      -0.728\n",
              "==============================================================================\n",
              "Omnibus:                       77.458   Durbin-Watson:                   1.997\n",
              "Prob(Omnibus):                  0.000   Jarque-Bera (JB):               12.235\n",
              "Skew:                           0.326   Prob(JB):                      0.00220\n",
              "Kurtosis:                       1.763   Cond. No.                         2.51\n",
              "==============================================================================\n",
              "\n",
              "Notes:\n",
              "[1] Standard Errors assume that the covariance matrix of the errors is correctly specified.\n",
              "\"\"\""
            ]
          },
          "metadata": {},
          "output_type": "display_data"
        },
        {
          "name": "stdout",
          "output_type": "stream",
          "text": [
            "not_religious\n"
          ]
        },
        {
          "data": {
            "text/html": [
              "<table class=\"simpletable\">\n",
              "<caption>OLS Regression Results</caption>\n",
              "<tr>\n",
              "  <th>Dep. Variable:</th>         <td>affairs</td>     <th>  R-squared:         </th> <td>   0.016</td>\n",
              "</tr>\n",
              "<tr>\n",
              "  <th>Model:</th>                   <td>OLS</td>       <th>  Adj. R-squared:    </th> <td>   0.009</td>\n",
              "</tr>\n",
              "<tr>\n",
              "  <th>Method:</th>             <td>Least Squares</td>  <th>  F-statistic:       </th> <td>   2.361</td>\n",
              "</tr>\n",
              "<tr>\n",
              "  <th>Date:</th>             <td>Sun, 16 Mar 2025</td> <th>  Prob (F-statistic):</th>  <td> 0.127</td> \n",
              "</tr>\n",
              "<tr>\n",
              "  <th>Time:</th>                 <td>19:15:25</td>     <th>  Log-Likelihood:    </th> <td> -428.40</td>\n",
              "</tr>\n",
              "<tr>\n",
              "  <th>No. Observations:</th>      <td>   150</td>      <th>  AIC:               </th> <td>   860.8</td>\n",
              "</tr>\n",
              "<tr>\n",
              "  <th>Df Residuals:</th>          <td>   148</td>      <th>  BIC:               </th> <td>   866.8</td>\n",
              "</tr>\n",
              "<tr>\n",
              "  <th>Df Model:</th>              <td>     1</td>      <th>                     </th>     <td> </td>   \n",
              "</tr>\n",
              "<tr>\n",
              "  <th>Covariance Type:</th>      <td>nonrobust</td>    <th>                     </th>     <td> </td>   \n",
              "</tr>\n",
              "</table>\n",
              "<table class=\"simpletable\">\n",
              "<tr>\n",
              "        <td></td>           <th>coef</th>     <th>std err</th>      <th>t</th>      <th>P>|t|</th>  <th>[0.025</th>    <th>0.975]</th>  \n",
              "</tr>\n",
              "<tr>\n",
              "  <th>const</th>         <td>    5.3933</td> <td>    0.449</td> <td>   12.010</td> <td> 0.000</td> <td>    4.506</td> <td>    6.281</td>\n",
              "</tr>\n",
              "<tr>\n",
              "  <th>not_religious</th> <td>    1.0822</td> <td>    0.704</td> <td>    1.537</td> <td> 0.127</td> <td>   -0.309</td> <td>    2.474</td>\n",
              "</tr>\n",
              "</table>\n",
              "<table class=\"simpletable\">\n",
              "<tr>\n",
              "  <th>Omnibus:</th>       <td>140.916</td> <th>  Durbin-Watson:     </th> <td>   1.939</td>\n",
              "</tr>\n",
              "<tr>\n",
              "  <th>Prob(Omnibus):</th> <td> 0.000</td>  <th>  Jarque-Bera (JB):  </th> <td>  14.021</td>\n",
              "</tr>\n",
              "<tr>\n",
              "  <th>Skew:</th>          <td> 0.338</td>  <th>  Prob(JB):          </th> <td>0.000902</td>\n",
              "</tr>\n",
              "<tr>\n",
              "  <th>Kurtosis:</th>      <td> 1.663</td>  <th>  Cond. No.          </th> <td>    2.46</td>\n",
              "</tr>\n",
              "</table><br/><br/>Notes:<br/>[1] Standard Errors assume that the covariance matrix of the errors is correctly specified."
            ],
            "text/plain": [
              "<class 'statsmodels.iolib.summary.Summary'>\n",
              "\"\"\"\n",
              "                            OLS Regression Results                            \n",
              "==============================================================================\n",
              "Dep. Variable:                affairs   R-squared:                       0.016\n",
              "Model:                            OLS   Adj. R-squared:                  0.009\n",
              "Method:                 Least Squares   F-statistic:                     2.361\n",
              "Date:                Sun, 16 Mar 2025   Prob (F-statistic):              0.127\n",
              "Time:                        19:15:25   Log-Likelihood:                -428.40\n",
              "No. Observations:                 150   AIC:                             860.8\n",
              "Df Residuals:                     148   BIC:                             866.8\n",
              "Df Model:                           1                                         \n",
              "Covariance Type:            nonrobust                                         \n",
              "=================================================================================\n",
              "                    coef    std err          t      P>|t|      [0.025      0.975]\n",
              "---------------------------------------------------------------------------------\n",
              "const             5.3933      0.449     12.010      0.000       4.506       6.281\n",
              "not_religious     1.0822      0.704      1.537      0.127      -0.309       2.474\n",
              "==============================================================================\n",
              "Omnibus:                      140.916   Durbin-Watson:                   1.939\n",
              "Prob(Omnibus):                  0.000   Jarque-Bera (JB):               14.021\n",
              "Skew:                           0.338   Prob(JB):                     0.000902\n",
              "Kurtosis:                       1.663   Cond. No.                         2.46\n",
              "==============================================================================\n",
              "\n",
              "Notes:\n",
              "[1] Standard Errors assume that the covariance matrix of the errors is correctly specified.\n",
              "\"\"\""
            ]
          },
          "metadata": {},
          "output_type": "display_data"
        },
        {
          "name": "stdout",
          "output_type": "stream",
          "text": [
            "bad_rating\n"
          ]
        },
        {
          "data": {
            "text/html": [
              "<table class=\"simpletable\">\n",
              "<caption>OLS Regression Results</caption>\n",
              "<tr>\n",
              "  <th>Dep. Variable:</th>         <td>affairs</td>     <th>  R-squared:         </th> <td>   0.033</td>\n",
              "</tr>\n",
              "<tr>\n",
              "  <th>Model:</th>                   <td>OLS</td>       <th>  Adj. R-squared:    </th> <td>   0.026</td>\n",
              "</tr>\n",
              "<tr>\n",
              "  <th>Method:</th>             <td>Least Squares</td>  <th>  F-statistic:       </th> <td>   5.013</td>\n",
              "</tr>\n",
              "<tr>\n",
              "  <th>Date:</th>             <td>Sun, 16 Mar 2025</td> <th>  Prob (F-statistic):</th>  <td>0.0266</td> \n",
              "</tr>\n",
              "<tr>\n",
              "  <th>Time:</th>                 <td>19:15:25</td>     <th>  Log-Likelihood:    </th> <td> -427.09</td>\n",
              "</tr>\n",
              "<tr>\n",
              "  <th>No. Observations:</th>      <td>   150</td>      <th>  AIC:               </th> <td>   858.2</td>\n",
              "</tr>\n",
              "<tr>\n",
              "  <th>Df Residuals:</th>          <td>   148</td>      <th>  BIC:               </th> <td>   864.2</td>\n",
              "</tr>\n",
              "<tr>\n",
              "  <th>Df Model:</th>              <td>     1</td>      <th>                     </th>     <td> </td>   \n",
              "</tr>\n",
              "<tr>\n",
              "  <th>Covariance Type:</th>      <td>nonrobust</td>    <th>                     </th>     <td> </td>   \n",
              "</tr>\n",
              "</table>\n",
              "<table class=\"simpletable\">\n",
              "<tr>\n",
              "       <td></td>         <th>coef</th>     <th>std err</th>      <th>t</th>      <th>P>|t|</th>  <th>[0.025</th>    <th>0.975]</th>  \n",
              "</tr>\n",
              "<tr>\n",
              "  <th>const</th>      <td>    5.1341</td> <td>    0.464</td> <td>   11.070</td> <td> 0.000</td> <td>    4.218</td> <td>    6.051</td>\n",
              "</tr>\n",
              "<tr>\n",
              "  <th>bad_rating</th> <td>    1.5423</td> <td>    0.689</td> <td>    2.239</td> <td> 0.027</td> <td>    0.181</td> <td>    2.904</td>\n",
              "</tr>\n",
              "</table>\n",
              "<table class=\"simpletable\">\n",
              "<tr>\n",
              "  <th>Omnibus:</th>       <td>123.880</td> <th>  Durbin-Watson:     </th> <td>   1.910</td>\n",
              "</tr>\n",
              "<tr>\n",
              "  <th>Prob(Omnibus):</th> <td> 0.000</td>  <th>  Jarque-Bera (JB):  </th> <td>  13.123</td>\n",
              "</tr>\n",
              "<tr>\n",
              "  <th>Skew:</th>          <td> 0.301</td>  <th>  Prob(JB):          </th> <td> 0.00141</td>\n",
              "</tr>\n",
              "<tr>\n",
              "  <th>Kurtosis:</th>      <td> 1.682</td>  <th>  Cond. No.          </th> <td>    2.52</td>\n",
              "</tr>\n",
              "</table><br/><br/>Notes:<br/>[1] Standard Errors assume that the covariance matrix of the errors is correctly specified."
            ],
            "text/plain": [
              "<class 'statsmodels.iolib.summary.Summary'>\n",
              "\"\"\"\n",
              "                            OLS Regression Results                            \n",
              "==============================================================================\n",
              "Dep. Variable:                affairs   R-squared:                       0.033\n",
              "Model:                            OLS   Adj. R-squared:                  0.026\n",
              "Method:                 Least Squares   F-statistic:                     5.013\n",
              "Date:                Sun, 16 Mar 2025   Prob (F-statistic):             0.0266\n",
              "Time:                        19:15:25   Log-Likelihood:                -427.09\n",
              "No. Observations:                 150   AIC:                             858.2\n",
              "Df Residuals:                     148   BIC:                             864.2\n",
              "Df Model:                           1                                         \n",
              "Covariance Type:            nonrobust                                         \n",
              "==============================================================================\n",
              "                 coef    std err          t      P>|t|      [0.025      0.975]\n",
              "------------------------------------------------------------------------------\n",
              "const          5.1341      0.464     11.070      0.000       4.218       6.051\n",
              "bad_rating     1.5423      0.689      2.239      0.027       0.181       2.904\n",
              "==============================================================================\n",
              "Omnibus:                      123.880   Durbin-Watson:                   1.910\n",
              "Prob(Omnibus):                  0.000   Jarque-Bera (JB):               13.123\n",
              "Skew:                           0.301   Prob(JB):                      0.00141\n",
              "Kurtosis:                       1.682   Cond. No.                         2.52\n",
              "==============================================================================\n",
              "\n",
              "Notes:\n",
              "[1] Standard Errors assume that the covariance matrix of the errors is correctly specified.\n",
              "\"\"\""
            ]
          },
          "metadata": {},
          "output_type": "display_data"
        }
      ],
      "source": [
        "for a,b in zip(['young','married_for_long','not_religious','bad_rating'],['age','yearsmarried','religiousness','rating']):\n",
        "    df[a] = (df[b] < df[b].mean()).astype(int)\n",
        "    print(a)\n",
        "    display(sm.OLS(df.affairs, sm.add_constant(df[[a]])).fit().summary())"
      ]
    },
    {
      "cell_type": "markdown",
      "metadata": {},
      "source": [
        "*Кол-во измен падает с ростом значений всех рассмотренных признаков*"
      ]
    },
    {
      "cell_type": "markdown",
      "metadata": {},
      "source": [
        "**3.** Изучите совместное влияние факторов \"количество лет в браке\" и \"количество детей\" с помощью двухфактороного дисперсионного анализа. Оказывают ли какие-то уровни фактора совместное влияние?"
      ]
    },
    {
      "cell_type": "code",
      "execution_count": 116,
      "metadata": {},
      "outputs": [
        {
          "data": {
            "text/html": [
              "<div>\n",
              "<style scoped>\n",
              "    .dataframe tbody tr th:only-of-type {\n",
              "        vertical-align: middle;\n",
              "    }\n",
              "\n",
              "    .dataframe tbody tr th {\n",
              "        vertical-align: top;\n",
              "    }\n",
              "\n",
              "    .dataframe thead th {\n",
              "        text-align: right;\n",
              "    }\n",
              "</style>\n",
              "<table border=\"1\" class=\"dataframe\">\n",
              "  <thead>\n",
              "    <tr style=\"text-align: right;\">\n",
              "      <th></th>\n",
              "      <th>df</th>\n",
              "      <th>sum_sq</th>\n",
              "      <th>mean_sq</th>\n",
              "      <th>F</th>\n",
              "      <th>PR(&gt;F)</th>\n",
              "    </tr>\n",
              "  </thead>\n",
              "  <tbody>\n",
              "    <tr>\n",
              "      <th>children</th>\n",
              "      <td>1.0</td>\n",
              "      <td>0.101626</td>\n",
              "      <td>0.101626</td>\n",
              "      <td>0.006225</td>\n",
              "      <td>0.937223</td>\n",
              "    </tr>\n",
              "    <tr>\n",
              "      <th>yearsmarried</th>\n",
              "      <td>1.0</td>\n",
              "      <td>222.211558</td>\n",
              "      <td>222.211558</td>\n",
              "      <td>13.610459</td>\n",
              "      <td>0.000317</td>\n",
              "    </tr>\n",
              "    <tr>\n",
              "      <th>yearsmarried:children</th>\n",
              "      <td>1.0</td>\n",
              "      <td>92.846936</td>\n",
              "      <td>92.846936</td>\n",
              "      <td>5.686875</td>\n",
              "      <td>0.018376</td>\n",
              "    </tr>\n",
              "    <tr>\n",
              "      <th>Residual</th>\n",
              "      <td>146.0</td>\n",
              "      <td>2383.673213</td>\n",
              "      <td>16.326529</td>\n",
              "      <td>NaN</td>\n",
              "      <td>NaN</td>\n",
              "    </tr>\n",
              "  </tbody>\n",
              "</table>\n",
              "</div>"
            ],
            "text/plain": [
              "                          df       sum_sq     mean_sq          F    PR(>F)\n",
              "children                 1.0     0.101626    0.101626   0.006225  0.937223\n",
              "yearsmarried             1.0   222.211558  222.211558  13.610459  0.000317\n",
              "yearsmarried:children    1.0    92.846936   92.846936   5.686875  0.018376\n",
              "Residual               146.0  2383.673213   16.326529        NaN       NaN"
            ]
          },
          "execution_count": 116,
          "metadata": {},
          "output_type": "execute_result"
        }
      ],
      "source": [
        "sm.stats.anova_lm(ols(\"affairs ~ yearsmarried * children\", data=df).fit())"
      ]
    },
    {
      "cell_type": "markdown",
      "metadata": {},
      "source": [
        "*Влияние совместного фактора есть, но оно меньше, чем влияние одной продолжительноси брака*"
      ]
    },
    {
      "cell_type": "markdown",
      "metadata": {},
      "source": [
        "**4.** Ответьте на предыдущий вопрос, сняв возможную зависимость от возраста человека и его религиозности, используя их в качестве ковариат."
      ]
    },
    {
      "cell_type": "code",
      "execution_count": 117,
      "metadata": {},
      "outputs": [
        {
          "data": {
            "text/html": [
              "<div>\n",
              "<style scoped>\n",
              "    .dataframe tbody tr th:only-of-type {\n",
              "        vertical-align: middle;\n",
              "    }\n",
              "\n",
              "    .dataframe tbody tr th {\n",
              "        vertical-align: top;\n",
              "    }\n",
              "\n",
              "    .dataframe thead th {\n",
              "        text-align: right;\n",
              "    }\n",
              "</style>\n",
              "<table border=\"1\" class=\"dataframe\">\n",
              "  <thead>\n",
              "    <tr style=\"text-align: right;\">\n",
              "      <th></th>\n",
              "      <th>df</th>\n",
              "      <th>sum_sq</th>\n",
              "      <th>mean_sq</th>\n",
              "      <th>F</th>\n",
              "      <th>PR(&gt;F)</th>\n",
              "    </tr>\n",
              "  </thead>\n",
              "  <tbody>\n",
              "    <tr>\n",
              "      <th>children</th>\n",
              "      <td>1.0</td>\n",
              "      <td>0.101626</td>\n",
              "      <td>0.101626</td>\n",
              "      <td>0.006366</td>\n",
              "      <td>0.936519</td>\n",
              "    </tr>\n",
              "    <tr>\n",
              "      <th>yearsmarried</th>\n",
              "      <td>1.0</td>\n",
              "      <td>222.211558</td>\n",
              "      <td>222.211558</td>\n",
              "      <td>13.918981</td>\n",
              "      <td>0.000274</td>\n",
              "    </tr>\n",
              "    <tr>\n",
              "      <th>yearsmarried:children</th>\n",
              "      <td>1.0</td>\n",
              "      <td>92.846936</td>\n",
              "      <td>92.846936</td>\n",
              "      <td>5.815785</td>\n",
              "      <td>0.017143</td>\n",
              "    </tr>\n",
              "    <tr>\n",
              "      <th>religiousness</th>\n",
              "      <td>1.0</td>\n",
              "      <td>73.784422</td>\n",
              "      <td>73.784422</td>\n",
              "      <td>4.621740</td>\n",
              "      <td>0.033240</td>\n",
              "    </tr>\n",
              "    <tr>\n",
              "      <th>age</th>\n",
              "      <td>1.0</td>\n",
              "      <td>10.980172</td>\n",
              "      <td>10.980172</td>\n",
              "      <td>0.687781</td>\n",
              "      <td>0.408293</td>\n",
              "    </tr>\n",
              "    <tr>\n",
              "      <th>Residual</th>\n",
              "      <td>144.0</td>\n",
              "      <td>2298.908618</td>\n",
              "      <td>15.964643</td>\n",
              "      <td>NaN</td>\n",
              "      <td>NaN</td>\n",
              "    </tr>\n",
              "  </tbody>\n",
              "</table>\n",
              "</div>"
            ],
            "text/plain": [
              "                          df       sum_sq     mean_sq          F    PR(>F)\n",
              "children                 1.0     0.101626    0.101626   0.006366  0.936519\n",
              "yearsmarried             1.0   222.211558  222.211558  13.918981  0.000274\n",
              "yearsmarried:children    1.0    92.846936   92.846936   5.815785  0.017143\n",
              "religiousness            1.0    73.784422   73.784422   4.621740  0.033240\n",
              "age                      1.0    10.980172   10.980172   0.687781  0.408293\n",
              "Residual               144.0  2298.908618   15.964643        NaN       NaN"
            ]
          },
          "execution_count": 117,
          "metadata": {},
          "output_type": "execute_result"
        }
      ],
      "source": [
        "sm.stats.anova_lm(ols(\"affairs ~ yearsmarried * children + religiousness + age\", data=df).fit())"
      ]
    },
    {
      "cell_type": "markdown",
      "metadata": {},
      "source": [
        "*Как будто ничего кардинально не поменялось*"
      ]
    },
    {
      "cell_type": "markdown",
      "metadata": {},
      "source": [
        "**5.** По результатам исследования сделайте выводы о семейной жизни."
      ]
    },
    {
      "cell_type": "markdown",
      "metadata": {},
      "source": [
        "*В этой задаче удалось провести анализ влияния различных факторов на измены. Кол-во измен падает с увеличением возраста, длины и качества брака, религиозности* "
      ]
    }
  ],
  "metadata": {
    "hide_input": false,
    "kernelspec": {
      "display_name": "Python 3",
      "language": "python",
      "name": "python3"
    },
    "language_info": {
      "codemirror_mode": {
        "name": "ipython",
        "version": 3
      },
      "file_extension": ".py",
      "mimetype": "text/x-python",
      "name": "python",
      "nbconvert_exporter": "python",
      "pygments_lexer": "ipython3",
      "version": "3.9.13"
    }
  },
  "nbformat": 4,
  "nbformat_minor": 2
}
