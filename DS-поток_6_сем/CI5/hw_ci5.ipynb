{
  "cells": [
    {
      "cell_type": "markdown",
      "metadata": {},
      "source": [
        "# Causal Inference\n",
        "## Задание CI.5\n",
        "\n",
        "\n",
        "**Правила:**\n",
        "\n",
        "* Дедлайны см. в боте. После дедлайна работы не принимаются кроме случаев наличия уважительной причины.\n",
        "* Выполненную работу нужно отправить телеграм-боту `@miptstats_ds24_bot`. Для начала работы с ботом каждый раз отправляйте `/start`. **Работы, присланные иным способом, не принимаются.**\n",
        "* Дедлайны см. в боте. После дедлайна работы не принимаются кроме случаев наличия уважительной причины.\n",
        "* Прислать нужно **ноутбук в формате `ipynb`**.\n",
        "* Следите за размером файлов. **Бот не может принимать файлы весом более 20 Мб.** Если файл получается больше, заранее разделите его на несколько.\n",
        "* Выполнять задание необходимо полностью самостоятельно. **При обнаружении списывания все участники списывания будут сдавать устный зачет.**\n",
        "* Решения, размещенные на каких-либо интернет-ресурсах, не принимаются. Кроме того, публикация решения в открытом доступе может быть приравнена к предоставлении возможности списать.\n",
        "* Для выполнения задания используйте этот ноутбук в качестве основы, ничего не удаляя из него. Можно добавлять необходимое количество ячеек.\n",
        "* Комментарии к решению пишите в markdown-ячейках.\n",
        "* Выполнение задания (ход решения, выводы и пр.) должно быть осуществлено на русском языке.\n",
        "* Если код будет не понятен проверяющему, оценка может быть снижена.\n",
        "* Никакой код из данного задания при проверке запускаться не будет. *Если код студента не выполнен, недописан и т.д., то он не оценивается.*\n",
        "* В каждой задаче не забывайте делать **пояснения и выводы**.\n",
        "\n",
        "**Правила оформления теоретических задач:**\n",
        "\n",
        "* Решения необходимо прислать одним из следующих способов:\n",
        "  * фотографией в правильной ориентации, где все четко видно, а почерк разборчив,\n",
        "    * отправив ее как файл боту вместе с ноутбуком *или*\n",
        "    * вставив ее в ноутбук посредством `Edit -> Insert Image` (<font color=\"red\">фото, вставленные ссылкой, не принимаются</font>);\n",
        "  * в виде $\\LaTeX$ в markdown-ячейках.\n",
        "* Решения не проверяются, если какое-то требование не выполнено. Особенно внимательно все проверьте в случае выбора второго пункта (вставки фото в ноутбук). <font color=\"red\"><b>Неправильно вставленные фотографии могут не передаться при отправке.</b></font> Для проверки попробуйте переместить `ipynb` в другую папку и открыть его там.\n",
        "* В решениях поясняйте, чем вы пользуетесь, хотя бы кратко. Например, если пользуетесь независимостью, то достаточно подписи вида \"*X и Y незав.*\"\n",
        "* Решение, в котором есть только ответ, и отсутствуют вычисления, оценивается в 0 баллов.\n",
        "\n",
        "---\n",
        "\n",
        "\n",
        "**Баллы за задание:**\n",
        "\n",
        "* Задача 1 — 100 баллов\n",
        "* Задача 2 — 100 баллов"
      ]
    },
    {
      "cell_type": "code",
      "execution_count": 1,
      "metadata": {},
      "outputs": [],
      "source": [
        "# Bot check\n",
        "\n",
        "# HW_ID: ds_ci5\n",
        "# Бот проверит этот ID и предупредит, если случайно сдать что-то не то.\n",
        "\n",
        "# Status: final\n",
        "# Перед отправкой в финальном решении удали \"not\" в строчке выше.\n",
        "# Так бот проверит, что ты отправляешь финальную версию, а не промежуточную.\n",
        "# Никакие значения в этой ячейке не влияют на факт сдачи работы."
      ]
    },
    {
      "cell_type": "code",
      "execution_count": 2,
      "metadata": {},
      "outputs": [
        {
          "ename": "ModuleNotFoundError",
          "evalue": "No module named 'torch'",
          "output_type": "error",
          "traceback": [
            "\u001b[1;31m---------------------------------------------------------------------------\u001b[0m",
            "\u001b[1;31mModuleNotFoundError\u001b[0m                       Traceback (most recent call last)",
            "Cell \u001b[1;32mIn[2], line 2\u001b[0m\n\u001b[0;32m      1\u001b[0m \u001b[38;5;28;01mimport\u001b[39;00m \u001b[38;5;21;01mnumpy\u001b[39;00m \u001b[38;5;28;01mas\u001b[39;00m \u001b[38;5;21;01mnp\u001b[39;00m\n\u001b[1;32m----> 2\u001b[0m \u001b[38;5;28;01mimport\u001b[39;00m \u001b[38;5;21;01mtorch\u001b[39;00m\n\u001b[0;32m      3\u001b[0m \u001b[38;5;28;01mimport\u001b[39;00m \u001b[38;5;21;01mtorch\u001b[39;00m\u001b[38;5;21;01m.\u001b[39;00m\u001b[38;5;21;01mnn\u001b[39;00m \u001b[38;5;28;01mas\u001b[39;00m \u001b[38;5;21;01mnn\u001b[39;00m\n\u001b[0;32m      4\u001b[0m \u001b[38;5;28;01mimport\u001b[39;00m \u001b[38;5;21;01mtorch\u001b[39;00m\u001b[38;5;21;01m.\u001b[39;00m\u001b[38;5;21;01moptim\u001b[39;00m \u001b[38;5;28;01mas\u001b[39;00m \u001b[38;5;21;01moptim\u001b[39;00m\n",
            "\u001b[1;31mModuleNotFoundError\u001b[0m: No module named 'torch'"
          ]
        }
      ],
      "source": [
        "import numpy as np\n",
        "import torch\n",
        "import torch.nn as nn\n",
        "import torch.optim as optim\n",
        "from sklearn.linear_model import LinearRegression, LogisticRegression\n",
        "from sklearn.metrics import mean_squared_error as MSE, mean_absolute_error as MAE\n",
        "import pandas as pd\n",
        "from tqdm import tqdm\n",
        "import matplotlib.pyplot as plt"
      ]
    },
    {
      "cell_type": "markdown",
      "metadata": {},
      "source": [
        "---\n",
        "### Задача 1.\n",
        "\n",
        "Напишите реализацию нейронной сети DragonNet с регуляризацией. Предусмотрите три варианта лосса:\n",
        "* простой без регуляризации,\n",
        "* с регуляризацией,\n",
        "* в версии BCAUSS."
      ]
    },
    {
      "cell_type": "code",
      "execution_count": null,
      "metadata": {},
      "outputs": [],
      "source": [
        "class DragonNet(nn.Module):\n",
        "    def __init__(self, input_dim, hidden_dim):\n",
        "        super(DragonNet, self).__init__()\n",
        "        self.fc1 = nn.Linear(input_dim,hidden_dim)\n",
        "        self.fc2 = nn.Linear(hidden_dim,hidden_dim)\n",
        "        self.fc3 = nn.Linear(hidden_dim,1)\n",
        "        self.fc4 = nn.Linear(hidden_dim,1)\n",
        "    def forward(self, x, t):\n",
        "        h = torch.relu(self.fc2(torch.relu(self.fc1(x))))\n",
        "        return self.fc3(h), torch.sigmoid(self.fc4(h))  #q,g\n",
        "\n",
        "def dragonnet_loss(model, x, t, y, alpha=0, beta=0):\n",
        "    q, g = model(x, t)\n",
        "    q_t = q*t + (1-t)*(1-q)\n",
        "    return torch.mean((q_t-y)**2) + alpha*nn.BCELoss()(g,t.float()) + beta*torch.mean((q_t-y)**2 * (t/g - (1-t)/(1-g)))\n",
        "\n",
        "def train_dragonnet(x, t, y, alpha, beta, epochs=1000):\n",
        "    model = DragonNet(x.shape[1], 64)\n",
        "    optimizer = optim.Adam(model.parameters(), lr=0.001)\n",
        "    for _ in range(epochs):\n",
        "        optimizer.zero_grad()\n",
        "        loss = dragonnet_loss(model, x, t, y, alpha, beta)\n",
        "        loss.backward()\n",
        "        optimizer.step()\n",
        "    return model"
      ]
    },
    {
      "cell_type": "markdown",
      "metadata": {},
      "source": [
        "Для проверки модели возьмем полусинтетические данные IHDP (Infant Health and Development Program), которые можно скачать по ссылкам: <a href=\"https://www.fredjo.com/files/ihdp_npci_1-1000.train.npz.zip\">трейн</a>, <a href=\"https://www.fredjo.com/files/ihdp_npci_1-1000.test.npz.zip\">тест</a>.\n",
        "\n",
        "Каждый файл является numpy-архивом, который считывается следующим образом"
      ]
    },
    {
      "cell_type": "code",
      "execution_count": null,
      "metadata": {},
      "outputs": [],
      "source": [
        "data = np.load('ihdp_npci_1-1000.train.npz')\n",
        "data.files"
      ]
    },
    {
      "cell_type": "markdown",
      "metadata": {},
      "source": [
        "Значения файлов:\n",
        "* `x` &mdash; признаки (ковариаты, конфаундеры);\n",
        "* `t` &mdash; тритмент;\n",
        "* `yf` &mdash; фактические исходы (таргет);\n",
        "* `ycf` &mdash; контрафактивные исходы;\n",
        "* `mu0, mu1` &mdash; потенциальные исходы до зашумления.\n",
        "\n",
        "Значения каждого отдельного файла можно получить, вызвав его по имени подобно словарю.\n",
        "\n",
        "Например, вот истинный теоретический причинно-следственный эффект"
      ]
    },
    {
      "cell_type": "code",
      "execution_count": null,
      "metadata": {},
      "outputs": [],
      "source": [
        "data['ate']"
      ]
    },
    {
      "cell_type": "markdown",
      "metadata": {},
      "source": [
        "Обучающий набор содержит 1000 датасетов по 672 объекта в каждом"
      ]
    },
    {
      "cell_type": "code",
      "execution_count": null,
      "metadata": {},
      "outputs": [],
      "source": [
        "data['x'].shape, data['t'].shape, data['yf'].shape"
      ]
    },
    {
      "cell_type": "markdown",
      "metadata": {},
      "source": [
        "Посчитайте истинную ATE отдельно для каждого датасета. Это можно сделать потому как в этом синтетическом датасете мы знаем контрафактивные исходы. Далее будем сравнивать оценку модели именно с этими значениями, а не с теоретическим значением `data['ate']`."
      ]
    },
    {
      "cell_type": "code",
      "execution_count": null,
      "metadata": {},
      "outputs": [],
      "source": [
        "true_ate = np.mean(data['mu1']-data['mu0'], axis=1)\n",
        "print(f'Истинная АТЕ: {true_ate}')"
      ]
    },
    {
      "cell_type": "markdown",
      "metadata": {},
      "source": [
        "Для каждого из 1000 датасетов \n",
        "* обучите модель с регуляризацией и без нее,\n",
        "* обучите модель с лоссом BCAUSS,\n",
        "* посчитайте оценки ATE.\n",
        "\n",
        "По результатам посчитайте метрики RMSE и MAE."
      ]
    },
    {
      "cell_type": "code",
      "execution_count": null,
      "metadata": {},
      "outputs": [],
      "source": [
        "def estimate_ate(model, x):\n",
        "    return torch.mean(model(torch.tensor(x).float(), torch.ones(x.shape[0]))[0] - model(torch.tensor(x).float(), torch.zeros(x.shape[0]))[0])\n",
        "\n",
        "ks = ['ate', 'reg_ate', 'bcauss_ate']\n",
        "logs = {k:[] for k in ks}\n",
        "for i in tqdm(range(1000)):\n",
        "    for k,a,b in zip(ks,[0,1,1],[0,0,1]):\n",
        "        logs[k].append(estimate_ate(train_dragonnet(data['x'][i], data['t'][i], data['yf'][i], alpha=a, beta=b), data['x'][i]).item())\n",
        "\n",
        "display(pd.DataFrame({'XP':ks, 'RMSE':[np.sqrt(MSE(true_ate, logs[k])) for k in ks], 'MAE':[MAE(true_ate, logs[k]) for k in ks]}).round(3))"
      ]
    },
    {
      "cell_type": "markdown",
      "metadata": {},
      "source": [
        "Для некоторых датасетов сравните визуально гистограммы propensity score и balancing score."
      ]
    },
    {
      "cell_type": "code",
      "execution_count": null,
      "metadata": {},
      "outputs": [],
      "source": [
        "plt.figure(figsize=(15,7))\n",
        "for j, i in enumerate((np.random.random(5)*1000).astype(int)):\n",
        "    P=LogisticRegression().fit(data['x'][...,i], data['t'][:,i]).predict_proba(data['x'][...,i])[:,1]\n",
        "    ax = plt.subplot(2, 3, j+1)\n",
        "    plt.hist(P[np.argwhere(data['t'][:,i]==0)], label='0', alpha=0.3)\n",
        "    plt.hist(P[np.argwhere(data['t'][:,i]==1)], label='1', alpha=0.3)\n",
        "    plt.legend()\n",
        "    plt.xlabel('score')\n",
        "plt.show()"
      ]
    },
    {
      "cell_type": "markdown",
      "metadata": {},
      "source": [
        "Проведите аналогичные действия с моделями\n",
        "* линейная регрессия,\n",
        "* propensity score weighting,\n",
        "* doubly robust estimation.\n",
        "\n",
        "Можно использовать как реализации из обучающих ноутбуков, так и библиотечные.\n",
        "\n",
        "Сравните результат с DragonNet."
      ]
    },
    {
      "cell_type": "code",
      "execution_count": null,
      "metadata": {},
      "outputs": [],
      "source": [
        "ks = ['lr_ate', 'ps_ate', 'dr_ate']\n",
        "logs = {k:[] for k in ks}\n",
        "for i in tqdm(range(1000)):\n",
        "    lr = LinearRegression().fit(data['x'][i], data['y'][i])\n",
        "    logs['lr_ate'].append(lr.predict(data['x'][i]).mean())\n",
        "    ps = np.mean(data['t'][i])\n",
        "    logs['ps_ate'].append(np.mean(data['y'][i] * (data['t'][i] / ps + (1-data['t'][i]) / (1-ps))))\n",
        "    logs['dr_ate'].append(np.mean(data['y'][i] - lr.predict(data['x'][i]) + data['t'][i] * (data['y'][i] - lr.predict(data['x'][i])) / ps))\n",
        "\n",
        "display(pd.DataFrame({'XP':ks, 'RMSE':[np.sqrt(MSE(true_ate, logs[k])) for k in ks], 'MAE':[MAE(true_ate, logs[k]) for k in ks]}).round(3))"
      ]
    },
    {
      "cell_type": "markdown",
      "metadata": {},
      "source": [
        "Сделайте выводы."
      ]
    },
    {
      "cell_type": "markdown",
      "metadata": {},
      "source": [
        "---\n",
        "### Задача 2.\n",
        "\n",
        "На занятии мы посмотрели работу простых моделей на данных <a href=\"https://ods.ai/competitions/x5-retailhero-uplift-modeling\">конкурса X5 Retail Hero</a>. Напомним, требуется построить модель, определяющую клиентов, которым стоит отправлять смс. Отметим, что в данном случае нам не требуется как можно точнее оценить CATE, требуется скорее определить степерь уверенности того, что клиент совершит покупку из-за получения смс, или наоборот.\n",
        "\n",
        "Стандартные способы загрузки данных:\n",
        "1. непосредственно со <a href=\"https://ods.ai/competitions/x5-retailhero-uplift-modeling\">страницы конкура</a>;\n",
        "2. вызовом <a href=\"https://www.uplift-modeling.com/en/latest/api/datasets/fetch_x5.html\">`data = sklift.datasets.fetch_x5()`</a>\n",
        "\n",
        "**Но прежде всего обратите внимание, что данные большие, и все целиком они могут не вместиться даже в достаточно большую оперативку, например, в Colab не помещаются.** Поэтому мы подготовили для вас сжатый формат данных, которые вы можете скачать по ссылкам ниже.\n",
        "1. Данные о <a href=\"https://disk.yandex.ru/d/ZxtypOGcVm9ibw\">клиентах</a>, <a href=\"https://disk.yandex.ru/d/b9czlSQeLAU0dw\">тритменте и таргете</a>, все в исходном формате.\n",
        "2. <a href=\"https://disk.yandex.ru/d/BvDtDzV_4rJfDg\">Сгруппированные данные по покупкам</a>, то есть для каждой покупки оставляется только информация о сумме покупке, количеству уникальных позиций.\n",
        "3. Те же сгруппированные данные, но <a href=\"https://disk.yandex.ru/d/gQn1zn6PBHkzXA\">разделенные случайно на 10 частей</a>.\n",
        "3. Полные данные, <a href=\"https://disk.yandex.ru/d/gDFMnY2PkpsX3g\">разделенные случайно на 50 частей</a>. Каждый клиент присутствует только в одной части.\n",
        "\n",
        "*Рекомендация.* Начинайте с небольших данных, для отладки кода выделяйте небольшое количество клиентов. Переходите к большему объему данных только после того, как построете хорошие модели на меньшем объеме. Сохраняйте рабочие версии на случай если что-то случайно испортить."
      ]
    },
    {
      "cell_type": "code",
      "execution_count": null,
      "metadata": {},
      "outputs": [],
      "source": []
    },
    {
      "cell_type": "markdown",
      "metadata": {},
      "source": [
        "Постройте различные модели:\n",
        "* S-, T-, X-, R-learner;\n",
        "* Трансформация таргета;\n",
        "* Многоклассовая модель;\n",
        "* DragonNet, которую вы реализовали в задаче 1.\n",
        "\n",
        "Все эти модели расписаны в ноутбуке с занятия.\n",
        "Для построения моделей обязательно нужно использовать данные о покупках. Не обязательно полные, например, можно посчитать сумму покупок клиента в месяц, его средний чек, количество покупок в месяц, и т.д.. Количество используемых признаков скорее зависит от возможностей ваших ресурсов."
      ]
    },
    {
      "cell_type": "code",
      "execution_count": null,
      "metadata": {},
      "outputs": [],
      "source": []
    },
    {
      "cell_type": "markdown",
      "metadata": {},
      "source": [
        "Постройте для этих моделей кривые Qini и Uplift, а также оцените метрику `uplift@30%`. На их основе выберите одну модель."
      ]
    },
    {
      "cell_type": "code",
      "execution_count": null,
      "metadata": {},
      "outputs": [],
      "source": []
    },
    {
      "cell_type": "markdown",
      "metadata": {},
      "source": [
        "Для выбранной модели постройте гистограммы предсказаний потенциальных исходов (если модель это позволяет) и значений uplift (или оценок CATE). Постройте также графики `plot_uplift_by_percentile`."
      ]
    },
    {
      "cell_type": "code",
      "execution_count": null,
      "metadata": {},
      "outputs": [],
      "source": []
    },
    {
      "cell_type": "markdown",
      "metadata": {},
      "source": [
        "Сделайте выводы."
      ]
    }
  ],
  "metadata": {
    "hide_input": false,
    "kernelspec": {
      "display_name": "Python 3",
      "language": "python",
      "name": "python3"
    },
    "language_info": {
      "codemirror_mode": {
        "name": "ipython",
        "version": 3
      },
      "file_extension": ".py",
      "mimetype": "text/x-python",
      "name": "python",
      "nbconvert_exporter": "python",
      "pygments_lexer": "ipython3",
      "version": "3.9.18"
    }
  },
  "nbformat": 4,
  "nbformat_minor": 2
}
