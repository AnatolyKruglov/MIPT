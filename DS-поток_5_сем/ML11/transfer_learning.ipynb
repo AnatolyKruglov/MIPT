{
 "cells": [
  {
   "cell_type": "markdown",
   "metadata": {
    "id": "XzxFf-2bsgjC"
   },
   "source": [
    "# Машинное обучение, DS-поток, осень 2024\n",
    "## Задание ML.11\n",
    "\n",
    "\n",
    "**Правила:**\n",
    "\n",
    "* Дедлайны см. в боте. После дедлайна работы не принимаются кроме случаев наличия уважительной причины.\n",
    "* Прислать нужно **ноутбук в формате `ipynb`**.\n",
    "* Следите за размером файлов. **Бот не может принимать файлы весом более 20 Мб.** Если файл получается больше, заранее разделите его на несколько.\n",
    "* Выполнять задание необходимо полностью самостоятельно. **При обнаружении списывания все участники списывания будут сдавать устный зачет.**\n",
    "* Решения, размещенные на каких-либо интернет-ресурсах, не принимаются. Кроме того, публикация решения в открытом доступе может быть приравнена к предоставлении возможности списать.\n",
    "* Для выполнения задания используйте этот ноутбук в качестве основы, ничего не удаляя из него. Можно добавлять необходимое количество ячеек.\n",
    "* Комментарии к решению пишите в markdown-ячейках.\n",
    "* Выполнение задания (ход решения, выводы и пр.) должно быть осуществлено на русском языке.\n",
    "* Если код будет не понятен проверяющему, оценка может быть снижена.\n",
    "* Никакой код из данного задания при проверке запускаться не будет. *Если код студента не выполнен, недописан и т.д., то он не оценивается.*\n",
    "* В каждой задаче не забывайте делать **пояснения и выводы**.\n",
    "\n",
    "**Баллы за задание**  \n",
    "Задача 1 &mdash; **190 баллов**  \n",
    "\n",
    "Всего &mdash; **190 баллов**  "
   ]
  },
  {
   "cell_type": "code",
   "execution_count": null,
   "metadata": {
    "id": "YyKjsAexJTP4"
   },
   "outputs": [],
   "source": [
    "import numpy as np\n",
    "import pandas as pd\n",
    "import seaborn as sns\n",
    "from pathlib import Path\n",
    "from shutil import copyfile\n",
    "from tqdm.notebook import tqdm\n",
    "import matplotlib.pyplot as plt\n",
    "\n",
    "import torch\n",
    "from torch import nn\n",
    "from torchvision import transforms\n",
    "\n",
    "import wandb\n",
    "from pytorch_lightning import LightningModule, Trainer\n",
    "from pytorch_lightning.loggers import WandbLogger\n",
    "from pytorch_lightning.callbacks import Callback, ModelCheckpoint"
   ]
  },
  {
   "cell_type": "code",
   "execution_count": null,
   "metadata": {
    "id": "YdQnpou59yga"
   },
   "outputs": [],
   "source": [
    "sns.set(style='darkgrid', palette='Set2')\n",
    "wandb.login()"
   ]
  },
  {
   "cell_type": "code",
   "execution_count": null,
   "metadata": {
    "id": "XzilD7GciCyE"
   },
   "outputs": [],
   "source": [
    "# Bot check\n",
    "\n",
    "# HW_ID: ds_ml11\n",
    "# Бот проверит этот ID и предупредит, если случайно сдать что-то не то.\n",
    "\n",
    "# Status: final\n",
    "# Перед отправкой в финальном решении удали \"not\" в строчке выше.\n",
    "# Так бот проверит, что ты отправляешь финальную версию, а не промежуточную.\n",
    "# Никакие значения в этой ячейке не влияют на факт сдачи работы."
   ]
  },
  {
   "cell_type": "markdown",
   "metadata": {
    "id": "QMOR-xOh2wLX"
   },
   "source": [
    "### 0. Инструкция Pytorch Lightning + WandB"
   ]
  },
  {
   "cell_type": "markdown",
   "metadata": {
    "id": "xV4EsmX820jV"
   },
   "source": [
    "Это задание нужно выполнять, используя Pytorch Lightning совместно с WandB.\n",
    "\n",
    "1. Обучение каждой из моделей должно идти с отдельным запуском в WandB. Если вы закончили всю работу с данной моделью (включая тестирование), не забывайте завершать запуск с помощью `wandb.finish()`.\n",
    "\n",
    "\n",
    "2. **Важно**: Делать скрины с [wandb.ai](https://wandb.ai) и вставлять ссылки на [wandb.ai](https://wandb.ai) крайне не приветствуется и может караться. Не создавайте ссылок на ваш проект &mdash; он должен быть приватным! Вместо этого, смотрите пункт [Визуализация запусков и выводы](#vis).\n",
    "\n",
    "3. Если вы сделали задание только частично, все равно визуализируйте имеющиеся запуски в пункте [Визуализация запусков и выводы](#vis).\n",
    "\n",
    "\n",
    "\n"
   ]
  },
  {
   "cell_type": "markdown",
   "metadata": {
    "id": "YjfcmEMIssal"
   },
   "source": [
    "## Задача 1. Transfer learning\n",
    "Вы научите нейронную сеть классифицировать произведения искусства различных художников, т.е. определять к какому художнику относится картина."
   ]
  },
  {
   "cell_type": "markdown",
   "metadata": {
    "id": "nsMabV8KtFkM"
   },
   "source": [
    "### 1. Данные\n",
    "Скачайте архив с датасетом по [ссылке](https://disk.yandex.ru/d/_BUueJa4RVXplQ)."
   ]
  },
  {
   "cell_type": "markdown",
   "metadata": {
    "id": "B3dgZPqM9n4P"
   },
   "source": [
    "Если вы работаете в **Google Colab**, то удобнее всего будет скачать архив на Google Drive (диск). В таком случае не придестя загружать архив вручную каждый раз, когда обрывается runtime. Для этого перейдите в левую  боковую панель, нажмите на кнопку с папочкой, а затем на кнопку с папочкой с изображением Google Drive. Теперь все файлы с диска доступны по пути `drive/MyDrive/`.\n",
    "\n",
    "Если вы работаете в **Kaggle**, то для того, чтобы загрузить данные, перейдите в правую боковую панель. В разделе `Data` возле кнопки `Add Data` расположена кнопка загрузки данных. Нажмите на нее, появится панель `Create a New Dataset`. Назовите новый датасет. Загрузите туда архив.  После того, как датасет будет проверен, он повится у вас в датасетах. Для того, чтобы начать с ним работать в ноутбуке в Kaggle нужно снова перейти в раздел `Data` и нажать `Add Data`. Затем нажмите кнопку `Your Datasets` и нажмите на плюс возле вашего датасета. После этго датасет появится в а разделе `Data`. Причем **Kaggle** разархивирует данные за вас."
   ]
  },
  {
   "cell_type": "markdown",
   "metadata": {
    "id": "HvYqQEMI50cu"
   },
   "source": [
    "Для того, чтобы разархивировать данные, выполните следующие действия."
   ]
  },
  {
   "cell_type": "code",
   "execution_count": null,
   "metadata": {
    "id": "ukfj72JK7fL_"
   },
   "outputs": [],
   "source": [
    "# Запишите путь до архива.\n",
    "zip_path = '.../artworks.zip'\n",
    "# Замените пробелы в пути, чтобы следующая bash-команда работала корректно.\n",
    "zip_path_bash = str(zip_path).replace(' ', '\\ ')\n",
    "# Разархивируйте файлы.\n",
    "!unzip $zip_path_bash -d .\n",
    "# Укажите путь до данных.\n",
    "data_path = Path('./artworks')"
   ]
  },
  {
   "cell_type": "markdown",
   "metadata": {
    "id": "abrWQEBX0fFR"
   },
   "source": [
    "Данные содержат папку с изображениями `images` и таблицу с основной информацией про художников `artists.csv`. Папка `images` в свою очередь состоит из папок `train` и `test` с обучающим и тестовым наборами данных соответственно. Рассмотрим, например, папку с тренировочным набором данных."
   ]
  },
  {
   "cell_type": "code",
   "execution_count": null,
   "metadata": {
    "id": "tZ8hrSC-0ow1"
   },
   "outputs": [],
   "source": [
    "sorted((data_path / 'images' / 'train').iterdir())"
   ]
  },
  {
   "cell_type": "markdown",
   "metadata": {
    "id": "v3vnJ9r28xyW"
   },
   "source": [
    "Она содержит папки, соответствующие художникам в датасете. В каждой такой папке находится тренирвочный набор картин художника."
   ]
  },
  {
   "cell_type": "code",
   "execution_count": null,
   "metadata": {
    "id": "0t3VXUWM9bZN"
   },
   "outputs": [],
   "source": [
    "sorted((data_path / 'images' / 'train' / 'Albrecht_Durer').iterdir())"
   ]
  },
  {
   "cell_type": "markdown",
   "metadata": {
    "id": "wmLyvMKs9YlK"
   },
   "source": [
    "Приведем примеры изображений."
   ]
  },
  {
   "cell_type": "code",
   "execution_count": null,
   "metadata": {
    "id": "YhcN_s4R9KWu"
   },
   "outputs": [],
   "source": [
    "images_paths = [\n",
    "    data_path / 'images' / 'train' / 'Albrecht_Durer' / 'Albrecht_Durer_310.jpg',\n",
    "    data_path / 'images' / 'train' / 'Claude_Monet' / 'Claude_Monet_007.jpg',\n",
    "    data_path / 'images' / 'train' / 'Raphael' / 'Raphael_100.jpg'\n",
    "]\n",
    "plt.figure(figsize=(9, 3))\n",
    "for i, image_path in enumerate(images_paths):\n",
    "    author = image_path.parent.name\n",
    "    plt.subplot(1, 3, i + 1)\n",
    "    image = plt.imread(image_path)\n",
    "    plt.imshow(image)\n",
    "    plt.title(f'{author}, {image.shape[0]} x {image.shape[1]}')\n",
    "    plt.axis(\"off\")\n",
    "plt.tight_layout()"
   ]
  },
  {
   "cell_type": "markdown",
   "metadata": {
    "id": "Ca5PsRaLXs19"
   },
   "source": [
    "Заметьте, что все картины разных пропорций и размеров, это нужно учесть при обучении модели. Чтобы привести картины к одному размеру можно использовать аугментации, см. пример с Симпсонами в семинаре.\n"
   ]
  },
  {
   "cell_type": "markdown",
   "metadata": {
    "id": "N9YZMDjHTvp6"
   },
   "source": [
    "Теперь посмотрим на таблицу с характеристиками художников.\n",
    "\n"
   ]
  },
  {
   "cell_type": "code",
   "execution_count": null,
   "metadata": {
    "id": "J6Y3kTZjUHkC"
   },
   "outputs": [],
   "source": [
    "pd.read_csv(data_path / 'artists.csv')"
   ]
  },
  {
   "cell_type": "markdown",
   "metadata": {
    "id": "dNO5r7-iVjLX"
   },
   "source": [
    "Наша цель &mdash; построить классификатор картин по художникам. В колонке `paintings` указано общее число картин для каждого худодника. Можно заметить большую несбалансированность классов. Поэтому в начале мы будем работать с художниками, для которых в сумме представлено не менее 200 картин."
   ]
  },
  {
   "cell_type": "code",
   "execution_count": null,
   "metadata": {
    "id": "8H7o1jDr980h"
   },
   "outputs": [],
   "source": []
  },
  {
   "cell_type": "markdown",
   "metadata": {
    "id": "5NGmIRYJXnKA"
   },
   "source": [
    "Для обучения вам понадобится построить датасет. Удобнее всего будет воспользоваться `torchvision.datasets.ImageFolder`, см. пример в семинаре с Симпсонами."
   ]
  },
  {
   "cell_type": "code",
   "execution_count": null,
   "metadata": {
    "id": "316qkhN7W75I"
   },
   "outputs": [],
   "source": []
  },
  {
   "cell_type": "markdown",
   "metadata": {
    "id": "_fbeyBm22i4J"
   },
   "source": [
    "### 2. Fine-tuning\n",
    "Выберите одну из моделей [здесь](https://pytorch.org/vision/stable/models.html) для fine-tuning, архитектуру которой мы разбирали на лекции. Поясните свой выбор.\n",
    "\n",
    "**Ответ:**"
   ]
  },
  {
   "cell_type": "markdown",
   "metadata": {
    "id": "rBPAY-gyG3rn"
   },
   "source": [
    "Как вы думаете, какой вариант fine-tuning больше подходит для данной задачи?"
   ]
  },
  {
   "cell_type": "markdown",
   "metadata": {
    "id": "81oJtr-R-Jil"
   },
   "source": [
    "**Ответ:**"
   ]
  },
  {
   "cell_type": "markdown",
   "metadata": {
    "id": "g29B_wyl75yV"
   },
   "source": [
    "Создадим класс модели для Pytorch Lightning:"
   ]
  },
  {
   "cell_type": "code",
   "execution_count": null,
   "metadata": {
    "id": "NqgznAga8UXV"
   },
   "outputs": [],
   "source": [
    "class FineTunedNet(LightningModule):\n",
    "    def __init__(self, to_freeze, n_classes):\n",
    "        '''Инициализация модели\n",
    "        * to_freeze -- сколько слоев хотим заморозить.\n",
    "        * n_classes -- кол-во классов'''\n",
    "\n",
    "        super().__init__()\n",
    "        self.model = ...\n",
    "\n",
    "    # Много разных методов: forward, configure_optimizers, training_step,\n",
    "    # validation_step, on_train_epoch_end, on_validation_epoch_end, и т.д."
   ]
  },
  {
   "cell_type": "markdown",
   "metadata": {
    "id": "NrOlcA2L-Kh7"
   },
   "source": [
    "Попробуйте fine-tuning с разным количеством размороженных слоев, достаточно трех вариантов. Сравните ошибку (лосс) и качество (F1 macro) на тренировочной и тестовой частях выборки во время обучения. F1 Score считайте не на каждом батче, а на всей эпохе. Для этого можно воспользоваться методами `on_train_epoch_end` и `on_validation_epoch_end`."
   ]
  },
  {
   "cell_type": "code",
   "execution_count": null,
   "metadata": {
    "id": "p0xdO1aha2h8"
   },
   "outputs": [],
   "source": []
  },
  {
   "cell_type": "markdown",
   "metadata": {
    "id": "cghHuDV99o7E"
   },
   "source": [
    "Поясните, в чем преимущества F1 macro по сравнению с accuracy. Сделайте выводы."
   ]
  },
  {
   "cell_type": "markdown",
   "metadata": {
    "id": "nUPd2PwC-O4x"
   },
   "source": [
    "**Вывод:**"
   ]
  },
  {
   "cell_type": "markdown",
   "metadata": {
    "id": "dO2z72XgHR_e"
   },
   "source": [
    "### 3. Аугментации\n",
    "\n",
    "Для улучшения качества модели можно расширить обучающую выборку. Это можно сделать с помощью аугментации данных. Подумайте, какие аугментации здесь будут полезны, напишите свой ответ."
   ]
  },
  {
   "cell_type": "markdown",
   "metadata": {
    "id": "sEgSTATR-VF3"
   },
   "source": [
    "**Ответ:**"
   ]
  },
  {
   "cell_type": "markdown",
   "metadata": {
    "id": "mjFV9hTVGkp1"
   },
   "source": [
    "Добавьте аугментации к данным. Визуализируйте несколько аугментированных изображений."
   ]
  },
  {
   "cell_type": "code",
   "execution_count": null,
   "metadata": {
    "id": "8Gy5XgS9GmXO"
   },
   "outputs": [],
   "source": []
  },
  {
   "cell_type": "markdown",
   "metadata": {
    "id": "bt0Wni6T3QCy"
   },
   "source": [
    "Выберите лучшую модель. Примените fine-tining модели\n",
    " на аугментированных данных. Получается ли улучшить качество?"
   ]
  },
  {
   "cell_type": "code",
   "execution_count": null,
   "metadata": {
    "id": "oLwXAeclbJlK"
   },
   "outputs": [],
   "source": []
  },
  {
   "cell_type": "markdown",
   "metadata": {
    "id": "24uGOpb5-Zhf"
   },
   "source": [
    "**Вывод:**"
   ]
  },
  {
   "cell_type": "markdown",
   "metadata": {
    "id": "nbDdyXZ_3S4P"
   },
   "source": [
    "### 4. Несбалансированность классов\n",
    "Расширим выборку до всех классов. Примените fine-tuning для расширенной выборки. Хорошо ли модель предсказывает малопредставленные классы?\n",
    "\n",
    "Для подсчета F1 Score на редких классах после обучения определите у модели метод `test_step` и запустите `trainer.test(model, ...)` (до завершения запуска WandB!). На тесте разрешается записывать метки / предсказания в поля класса."
   ]
  },
  {
   "cell_type": "code",
   "execution_count": null,
   "metadata": {
    "id": "62I07C7ScxID"
   },
   "outputs": [],
   "source": []
  },
  {
   "cell_type": "markdown",
   "metadata": {
    "id": "AYjhMajbHdVx"
   },
   "source": [
    "В качестве решения проблемы несбалансированности классов можно взвешивать лосс. Если это [CrossEntropyLoss](https://pytorch.org/docs/stable/generated/torch.nn.CrossEntropyLoss.html), то можно указать в параметре `weight` веса классов. Также можно поменять стратегию семплирования при обучении, для этого можно использовать [WeightedRandomSampler](https://pytorch.org/docs/stable/data.html#torch.utils.data.WeightedRandomSampler) в качестве параметра `sampler` в `dataloader`. Подумайте, как еще можно можно решить эту проблему. Попробуйте одну из стратегий. Получается ли улучшить качество?"
   ]
  },
  {
   "cell_type": "code",
   "execution_count": null,
   "metadata": {
    "id": "9V1a-5fvfS15"
   },
   "outputs": [],
   "source": []
  },
  {
   "cell_type": "markdown",
   "metadata": {
    "id": "VAQlvGF30VCX"
   },
   "source": [
    "<a name=vis></a>\n",
    "### 5. Визуализация запусков и выводы\n",
    "\n"
   ]
  },
  {
   "cell_type": "markdown",
   "metadata": {
    "id": "RClh8qH9LsWW"
   },
   "source": [
    "Визуализируйте графики лосса и метрики всех релевантных запусков. Для этого воспользуйтесь `wandb.Api()`, см. семинар. Сравните и сделайте выводы."
   ]
  },
  {
   "cell_type": "code",
   "execution_count": null,
   "metadata": {
    "id": "7CP5XvcUH7B2"
   },
   "outputs": [],
   "source": []
  },
  {
   "cell_type": "markdown",
   "metadata": {
    "id": "aZf1B6Hi0PuI"
   },
   "source": [
    "Сделайте общий вывод по задаче.\n",
    "\n",
    "**Вывод:**"
   ]
  }
 ],
 "metadata": {
  "colab": {
   "provenance": []
  },
  "kernelspec": {
   "display_name": "Python 3 (ipykernel)",
   "language": "python",
   "name": "python3"
  },
  "language_info": {
   "codemirror_mode": {
    "name": "ipython",
    "version": 3
   },
   "file_extension": ".py",
   "mimetype": "text/x-python",
   "name": "python",
   "nbconvert_exporter": "python",
   "pygments_lexer": "ipython3",
   "version": "3.10.9"
  }
 },
 "nbformat": 4,
 "nbformat_minor": 1
}
