{
 "cells": [
  {
   "cell_type": "markdown",
   "metadata": {
    "id": "ZWofJYW9EGRc"
   },
   "source": [
    "# Машинное обучение, DS-поток, осень 2024\n",
    "\n",
    "## Задание ML.10\n",
    "\n",
    "\n",
    "**Правила:**\n",
    "\n",
    "* Дедлайны см. в боте. После дедлайна работы не принимаются кроме случаев наличия уважительной причины.\n",
    "* Прислать нужно **ноутбук в формате `ipynb`**.\n",
    "* Следите за размером файлов. **Бот не может принимать файлы весом более 20 Мб.** Если файл получается больше, заранее разделите его на несколько.\n",
    "* Выполнять задание необходимо полностью самостоятельно. **При обнаружении списывания все участники списывания будут сдавать устный зачет.**\n",
    "* Решения, размещенные на каких-либо интернет-ресурсах, не принимаются. Кроме того, публикация решения в открытом доступе может быть приравнена к предоставлении возможности списать.\n",
    "* Для выполнения задания используйте этот ноутбук в качестве основы, ничего не удаляя из него. Можно добавлять необходимое количество ячеек.\n",
    "* Комментарии к решению пишите в markdown-ячейках.\n",
    "* Выполнение задания (ход решения, выводы и пр.) должно быть осуществлено на русском языке.\n",
    "* Если код будет не понятен проверяющему, оценка может быть снижена.\n",
    "* Никакой код из данного задания при проверке запускаться не будет. *Если код студента не выполнен, недописан и т.д., то он не оценивается.*\n",
    "* В каждой задаче не забывайте делать **пояснения и выводы**.\n",
    "\n",
    "**Баллы за задание**  \n",
    "Задача 1. &mdash; **200 баллов**  \n",
    "\n",
    "Всего &mdash; **200 баллов**  "
   ]
  },
  {
   "cell_type": "code",
   "execution_count": 27,
   "metadata": {
    "id": "Cm3FcL-4gyu5"
   },
   "outputs": [],
   "source": [
    "# Bot check\n",
    "\n",
    "# HW_ID: ds_ml10\n",
    "# Бот проверит этот ID и предупредит, если случайно сдать что-то не то.\n",
    "\n",
    "# Status: final\n",
    "# Перед отправкой в финальном решении удали \"not\" в строчке выше.\n",
    "# Так бот проверит, что ты отправляешь финальную версию, а не промежуточную.\n",
    "# Никакие значения в этой ячейке не влияют на факт сдачи работы."
   ]
  },
  {
   "cell_type": "code",
   "execution_count": 28,
   "metadata": {},
   "outputs": [
    {
     "name": "stdout",
     "output_type": "stream",
     "text": [
      "Requirement already satisfied: captum in c:\\python39\\lib\\site-packages (0.7.0)\n",
      "Requirement already satisfied: matplotlib in c:\\python39\\lib\\site-packages (from captum) (3.8.2)\n",
      "Requirement already satisfied: numpy in c:\\python39\\lib\\site-packages (from captum) (1.26.4)\n",
      "Requirement already satisfied: torch>=1.6 in c:\\python39\\lib\\site-packages (from captum) (2.2.0)\n",
      "Requirement already satisfied: tqdm in c:\\python39\\lib\\site-packages (from captum) (4.65.0)\n",
      "Requirement already satisfied: filelock in c:\\python39\\lib\\site-packages (from torch>=1.6->captum) (3.13.1)\n",
      "Requirement already satisfied: typing-extensions>=4.8.0 in c:\\users\\aikru\\appdata\\roaming\\python\\python39\\site-packages (from torch>=1.6->captum) (4.9.0)\n",
      "Requirement already satisfied: sympy in c:\\python39\\lib\\site-packages (from torch>=1.6->captum) (1.12)\n",
      "Requirement already satisfied: networkx in c:\\python39\\lib\\site-packages (from torch>=1.6->captum) (3.2.1)\n",
      "Requirement already satisfied: jinja2 in c:\\python39\\lib\\site-packages (from torch>=1.6->captum) (3.1.3)\n",
      "Requirement already satisfied: fsspec in c:\\python39\\lib\\site-packages (from torch>=1.6->captum) (2024.2.0)\n",
      "Requirement already satisfied: contourpy>=1.0.1 in c:\\python39\\lib\\site-packages (from matplotlib->captum) (1.2.0)\n",
      "Requirement already satisfied: cycler>=0.10 in c:\\python39\\lib\\site-packages (from matplotlib->captum) (0.12.1)\n",
      "Requirement already satisfied: fonttools>=4.22.0 in c:\\python39\\lib\\site-packages (from matplotlib->captum) (4.48.1)\n",
      "Requirement already satisfied: kiwisolver>=1.3.1 in c:\\python39\\lib\\site-packages (from matplotlib->captum) (1.4.5)\n",
      "Requirement already satisfied: packaging>=20.0 in c:\\users\\aikru\\appdata\\roaming\\python\\python39\\site-packages (from matplotlib->captum) (23.2)\n",
      "Requirement already satisfied: pillow>=8 in c:\\python39\\lib\\site-packages (from matplotlib->captum) (10.2.0)\n",
      "Requirement already satisfied: pyparsing>=2.3.1 in c:\\python39\\lib\\site-packages (from matplotlib->captum) (3.1.1)\n",
      "Requirement already satisfied: python-dateutil>=2.7 in c:\\python39\\lib\\site-packages (from matplotlib->captum) (2.8.2)\n",
      "Requirement already satisfied: importlib-resources>=3.2.0 in c:\\python39\\lib\\site-packages (from matplotlib->captum) (6.1.1)\n",
      "Requirement already satisfied: colorama in c:\\users\\aikru\\appdata\\roaming\\python\\python39\\site-packages (from tqdm->captum) (0.4.6)\n",
      "Requirement already satisfied: zipp>=3.1.0 in c:\\users\\aikru\\appdata\\roaming\\python\\python39\\site-packages (from importlib-resources>=3.2.0->matplotlib->captum) (3.17.0)\n",
      "Requirement already satisfied: six>=1.5 in c:\\python39\\lib\\site-packages (from python-dateutil>=2.7->matplotlib->captum) (1.16.0)\n",
      "Requirement already satisfied: MarkupSafe>=2.0 in c:\\python39\\lib\\site-packages (from jinja2->torch>=1.6->captum) (2.1.5)\n",
      "Requirement already satisfied: mpmath>=0.19 in c:\\python39\\lib\\site-packages (from sympy->torch>=1.6->captum) (1.3.0)\n"
     ]
    },
    {
     "name": "stderr",
     "output_type": "stream",
     "text": [
      "\n",
      "[notice] A new release of pip is available: 24.0 -> 24.3.1\n",
      "[notice] To update, run: python.exe -m pip install --upgrade pip\n"
     ]
    }
   ],
   "source": [
    "# !pip install captum[visualization]\n",
    "!pip install --upgrade captum"
   ]
  },
  {
   "cell_type": "code",
   "execution_count": 29,
   "metadata": {
    "id": "YyKjsAexJTP4"
   },
   "outputs": [],
   "source": [
    "import time\n",
    "import numpy as np\n",
    "from collections import defaultdict\n",
    "\n",
    "import seaborn as sns\n",
    "sns.set(palette='Set2')\n",
    "import matplotlib.pyplot as plt\n",
    "from IPython.display import clear_output\n",
    "\n",
    "import torch\n",
    "from torch import nn\n",
    "import torch.nn.functional as F\n",
    "from torchinfo import summary\n",
    "import torchvision\n",
    "from torchvision import transforms\n",
    "from captum.attr import Occlusion\n",
    "# import captum.visualization as viz"
   ]
  },
  {
   "cell_type": "markdown",
   "metadata": {
    "id": "9G5vHu0qFYt0"
   },
   "source": [
    "### Задача 1. Исследование свойств сверток"
   ]
  },
  {
   "cell_type": "markdown",
   "metadata": {
    "id": "8TE41e_DJC-1"
   },
   "source": [
    "#### 1. Данные\n",
    "\n",
    "Обратимся к датасету CIFAR10. Скачаем тренировочную и тестовую части данных."
   ]
  },
  {
   "cell_type": "code",
   "execution_count": 30,
   "metadata": {
    "id": "xYHuF3jAJCWJ"
   },
   "outputs": [
    {
     "name": "stdout",
     "output_type": "stream",
     "text": [
      "Downloading https://www.cs.toronto.edu/~kriz/cifar-10-python.tar.gz to ./cifar\\cifar-10-python.tar.gz\n"
     ]
    },
    {
     "name": "stderr",
     "output_type": "stream",
     "text": [
      "100%|██████████| 170498071/170498071 [06:31<00:00, 435306.62it/s] \n"
     ]
    },
    {
     "name": "stdout",
     "output_type": "stream",
     "text": [
      "Extracting ./cifar\\cifar-10-python.tar.gz to ./cifar\n",
      "Files already downloaded and verified\n"
     ]
    }
   ],
   "source": [
    "# Часть данных для обучения\n",
    "train_dataset = torchvision.datasets.CIFAR10(root='./cifar', download=True, train=True, transform=transforms.ToTensor())\n",
    "# Валидационная / тестовая часть данных\n",
    "val_dataset = torchvision.datasets.CIFAR10(root='./cifar', download=True, train=False, transform=transforms.ToTensor())\n",
    "# Классы объектов в датасете\n",
    "classes = ('plane', 'car', 'bird', 'cat', 'deer', 'dog', 'frog', 'horse', 'ship', 'truck')"
   ]
  },
  {
   "cell_type": "markdown",
   "metadata": {
    "id": "817Qx8nWKdan"
   },
   "source": [
    "Проверим размеры датасета."
   ]
  },
  {
   "cell_type": "code",
   "execution_count": 31,
   "metadata": {
    "id": "2U-Pb8uzKUCU"
   },
   "outputs": [
    {
     "data": {
      "text/plain": [
       "(50000, 10000)"
      ]
     },
     "execution_count": 31,
     "metadata": {},
     "output_type": "execute_result"
    }
   ],
   "source": [
    "len(train_dataset), len(val_dataset)"
   ]
  },
  {
   "cell_type": "markdown",
   "metadata": {
    "id": "akmXOelxNb9z"
   },
   "source": [
    "Иллюстрируем 2 примера изображений."
   ]
  },
  {
   "cell_type": "code",
   "execution_count": 32,
   "metadata": {
    "id": "TqAHbaVwL0tR"
   },
   "outputs": [
    {
     "data": {
      "image/png": "[encoded data removed]",
      "text/plain": [
       "<Figure size 640x480 with 2 Axes>"
      ]
     },
     "metadata": {},
     "output_type": "display_data"
    }
   ],
   "source": [
    "train_idx, val_idx = 0, 0\n",
    "\n",
    "plt.subplot(1, 2, 1)\n",
    "plt.imshow(train_dataset[train_idx][0].permute(1, 2, 0))\n",
    "plt.title(f'обуч. {train_idx}: {classes[train_dataset[train_idx][1]]}')\n",
    "plt.axis('off')\n",
    "\n",
    "plt.subplot(1, 2, 2)\n",
    "plt.imshow(val_dataset[val_idx][0].permute(1, 2, 0))\n",
    "plt.title(f'валид. {val_idx}: {classes[val_dataset[val_idx][1]]}')\n",
    "plt.axis('off')\n",
    "\n",
    "plt.show()"
   ]
  },
  {
   "cell_type": "code",
   "execution_count": 33,
   "metadata": {},
   "outputs": [
    {
     "data": {
      "text/plain": [
       "torch.Size([3, 32, 32])"
      ]
     },
     "execution_count": 33,
     "metadata": {},
     "output_type": "execute_result"
    }
   ],
   "source": [
    "val_dataset[val_idx][0].shape"
   ]
  },
  {
   "cell_type": "markdown",
   "metadata": {
    "id": "iR0GYIiPNwU4"
   },
   "source": [
    "#### 2. Различия между свертками\n",
    "\n",
    "Постройте модель состоящую из 3 сверточных слоев с параметрами `kernel_size=3` и `stride=1` по правилу\n",
    "$$INPUT \\to [CONV \\to RELU]^3 \\to POOL \\to FC \\to RELU \\to FC,$$\n",
    "\n",
    "Также можно пользоваться `Dropout` и `BatchNorm`.\n",
    "Пример аналогичного построения см. в семинаре."
   ]
  },
  {
   "cell_type": "code",
   "execution_count": 34,
   "metadata": {
    "id": "FpnjDFD3SNH7"
   },
   "outputs": [],
   "source": [
    "model = nn.Sequential(\n",
    "    nn.Conv2d(3, 32, kernel_size=3, stride=1),\n",
    "    nn.BatchNorm2d(32),\n",
    "    nn.Dropout(0.3),\n",
    "    nn.ReLU(),\n",
    "\n",
    "    nn.Conv2d(32, 64, kernel_size=3, stride=1),\n",
    "    nn.BatchNorm2d(64),\n",
    "    nn.Dropout(0.3),\n",
    "    nn.ReLU(),\n",
    "\n",
    "    nn.Conv2d(64, 64, kernel_size=3, stride=1),\n",
    "    nn.BatchNorm2d(64),\n",
    "    nn.Dropout(0.3),\n",
    "    nn.ReLU(),\n",
    "\n",
    "    nn.MaxPool2d(2),\n",
    "    nn.Flatten(),\n",
    "    nn.Linear(2304, 512),\n",
    "    nn.Dropout(0.3),\n",
    "    nn.ReLU(),\n",
    "    nn.Linear(512, 10)\n",
    ")"
   ]
  },
  {
   "cell_type": "markdown",
   "metadata": {
    "id": "r0pkml7wNk01"
   },
   "source": [
    "Выполните следующие действия.\n",
    "1. Посчитайте общее количество параметров сети и количество параметров в сверточных слоях.\n",
    "2. Обучите ее на тренировочной части данных и сохраните веса обученной модели.\n",
    "3. Посчитайте среднее время одного прямого прохода (forward pass) и среднее время обратного прохода (backward pass) по сети во время обучения.\n",
    "4. Сохраните историю изменения ошибки (loss) и точности (accuracy) во время обучения.\n"
   ]
  },
  {
   "cell_type": "code",
   "execution_count": null,
   "metadata": {
    "id": "O3rrufOHSNgf"
   },
   "outputs": [],
   "source": []
  },
  {
   "cell_type": "markdown",
   "metadata": {
    "id": "TVnh5zT6SWkT"
   },
   "source": [
    "Посчитайте область видимости (receptive filed) нейронов последней свертки. Какую область картинки видит нейрон последнего слоя свертки?"
   ]
  },
  {
   "cell_type": "markdown",
   "metadata": {
    "id": "RymxuR9fU8FD"
   },
   "source": [
    "**Ответ:** <...>"
   ]
  },
  {
   "cell_type": "markdown",
   "metadata": {
    "id": "XjqT0-4tStS9"
   },
   "source": [
    "Проведем эксперимент для сравнения работы различных сверток. Для этого постройте еще три модели, которые должны следовать перечисленным ниже требованиям.\n",
    "\n",
    "Во-первых, необходимо сделать такие модели, у которых область видимости (receptive field) последнего сверточного слоя такая же как у модели построенной ранее. Тогда мы будем ожидать у моделей схожую обобщающую способность.\n",
    "\n",
    "Во-вторых, установим ограничение на количество каналов в свертках. Оно нужно для корректной оценки параметров и скорости работы сети. Пусть $с_{k,in}$ и $c_{k, out}$ &mdash; количество каналов на входе и на выходе свертки на слое $k$ модели. Тогда сумма $\\sum_{k} с_{k,in} c_{k, out}$ должна быть одинаковой для всех моделей, т.е. для исходной и трех новых моделей. Для того, чтобы добиться такого результата, можно дополнительно использовать свертки с `kernel_size=1`. При сравнении моделей в выводе поясните необходимость данного требования.\n",
    "\n",
    "Наконец, т.к. мы хотим рассмотреть работу различных сверток, то перечислим особенности каждой модели по порядку.\n",
    "\n",
    "1. Включает в себя свертку c `kernel_size=7, stride=1`.\n",
    "2. Включает в себя свертку c `kernel_size=5, stride=1`.\n",
    "3. Включает себя свертки c `kernel_size=3, stride=2`."
   ]
  },
  {
   "cell_type": "code",
   "execution_count": null,
   "metadata": {
    "id": "KPz9wgcXV6q7"
   },
   "outputs": [],
   "source": []
  },
  {
   "cell_type": "markdown",
   "metadata": {
    "id": "IY9kxSgGVOJM"
   },
   "source": [
    "Обучите новые модели с теми же параметрами обучения, что и раньше. Для каждой из них посчитайте все характеристики, которые были посчитаны для исходной модели. Сравните результаты и сделайте выводы."
   ]
  },
  {
   "cell_type": "code",
   "execution_count": null,
   "metadata": {
    "id": "e3Tf_7HiVN_U"
   },
   "outputs": [],
   "source": []
  },
  {
   "cell_type": "markdown",
   "metadata": {
    "id": "7I1LII9aVNAp"
   },
   "source": [
    "**Выводы:** <...>"
   ]
  },
  {
   "cell_type": "markdown",
   "metadata": {
    "id": "YXl7f_y6imeL"
   },
   "source": [
    "#### 3. Интерпретируемость\n",
    "В этой части задания вы попробуете еще один способ интерпретации работы сверточных слоев. На лекции и семинаре для того, чтобы показать что нейроны реагируют на отдельные части изображения, использовались выходы сети целиком. Сейчас же вы сможете проверить, есть ли интерпретируемость на уровне сверточных слоев.\n",
    "\n",
    "1. Выделите 5 изображений лягушек и 5 изображений самолетов из датасета.\n",
    "2. Выберете одну из четырех обученных моделей.\n",
    "3. Для каждого изображения посчитайте выходы последнего сверточного слоя модели и найдите максимумы по каналам. Должен получиться квадратный двумерный тензор для каждого изображения. Он показывает на какие области больше всего реагирует сеть для предсказания соотвествующего класса.  \n",
    "4. Отобразите результат для каждого изображения.\n",
    "5. Сравните активации для изображений одного класса и различных классов. Сделайте выводы."
   ]
  },
  {
   "cell_type": "code",
   "execution_count": null,
   "metadata": {
    "id": "EzbiauyOionU"
   },
   "outputs": [],
   "source": []
  },
  {
   "cell_type": "markdown",
   "metadata": {
    "id": "934oNauGD8LD"
   },
   "source": [
    "**Вывод:** <...>"
   ]
  },
  {
   "cell_type": "markdown",
   "metadata": {
    "id": "nAZtsCvNb_9-"
   },
   "source": [
    "На семинаре мы реализовали окклюзию самостоятельно, но она реализована и в библиотеке Captum. Выберите другие 2 класса и примените окклюзию к 5 случайным представителям из каждого класса. Пример визуализации в Captum смотрите в семинаре. Что модель считает важным для определения выбранных классов?"
   ]
  },
  {
   "cell_type": "code",
   "execution_count": null,
   "metadata": {
    "id": "F51bYvToECdL"
   },
   "outputs": [],
   "source": []
  },
  {
   "cell_type": "markdown",
   "metadata": {
    "id": "tfsc7u5SBE9B"
   },
   "source": [
    "#### 4. Выводы\n",
    "На основе выполненного здания сделайте выводы об особенностях работы сверток."
   ]
  },
  {
   "cell_type": "markdown",
   "metadata": {
    "id": "99FAHzZqIHwF"
   },
   "source": [
    "<...>"
   ]
  }
 ],
 "metadata": {
  "colab": {
   "provenance": []
  },
  "kernelspec": {
   "display_name": "Python 3",
   "language": "python",
   "name": "python3"
  },
  "language_info": {
   "codemirror_mode": {
    "name": "ipython",
    "version": 3
   },
   "file_extension": ".py",
   "mimetype": "text/x-python",
   "name": "python",
   "nbconvert_exporter": "python",
   "pygments_lexer": "ipython3",
   "version": "3.9.13"
  }
 },
 "nbformat": 4,
 "nbformat_minor": 1
}
