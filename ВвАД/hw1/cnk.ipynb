{
 "cells": [
  {
   "cell_type": "markdown",
   "metadata": {},
   "source": [
    "Напишите функцию, реализующую матричное умножение. Для этого реализуйте функцию matrix_multiplication:\n",
    "\n",
    "import numpy as np\n",
    "import typing as tp\n",
    "\n",
    "def matrix_multiplication(A: np.ndarray, B: np.ndarray) -> np.ndarray:    \n",
    "    return ...\n",
    "\n",
    "При вычислении разрешается создавать объекты размерности три и использовать только:\n",
    "\n",
    "простые стандартные поэлементные векторно-арифметические операции над numpy.array (поэлементная сумма, поэлементное произведение и т.д.)\n",
    "стандартные агрегирующие арифметические операции над numpy.array (например, сумма вдоль оси)\n",
    "любые операции изменения формы массива (например, транспонирование, добавление осей).\n",
    "\n",
    "Запрещается пользоваться:\n",
    "\n",
    "циклами\n",
    "list comprehension\n",
    "функциями, реализующими матричное умножение, например, numpy.dot, операция @, операция умножения в классе numpy.matrix, суммы Эйнштейна и прочие.\n",
    "функциями вида map, apply\n",
    "функциями вида fromfunction, apply_along_axis"
   ]
  },
  {
   "cell_type": "code",
   "execution_count": 25,
   "metadata": {},
   "outputs": [
    {
     "name": "stdout",
     "output_type": "stream",
     "text": [
      "[[-1  1]]\n",
      "[[ 8  1]\n",
      " [-1  2]]\n",
      "[[-9  1]] \n",
      "\n",
      "[[[-1 -1]\n",
      "  [ 1  1]]] \n",
      "\n",
      "[0 0]\n"
     ]
    }
   ],
   "source": [
    "import numpy as np\n",
    "import typing as tp\n",
    "\n",
    "def matrix_multiplication(A: np.ndarray, B: np.ndarray) -> np.ndarray:\n",
    "    A = np.repeat(A[:, :, np.newaxis], B.shape[1], axis=2) \n",
    "    print(A, '\\n')\n",
    "    \n",
    "    return np.array([np.sum(a_row*b_col) for a_row in A for b_col in B.T])\n",
    "\n",
    "A = np.array([[-1,1]]) # [3,4,5]\n",
    "B = np.array([[8, 1],[-1, 2]])\n",
    "print(A)\n",
    "print(B)\n",
    "print(A@B, '\\n')\n",
    "print(matrix_multiplication(A,B))"
   ]
  },
  {
   "cell_type": "code",
   "execution_count": null,
   "metadata": {},
   "outputs": [],
   "source": [
    "# A1 = A.copy()\n",
    "# A2 = A.copy()\n",
    "\n",
    "# A1[0,:] *= B[0].T\n",
    "# A1[1,:] *= B[0].T\n",
    "# A1 = np.sum(A1, axis=1)\n",
    "# display(A1)\n",
    "\n",
    "# A2[0,:] *= B[1].T\n",
    "# A2[1,:] *= B[1].T\n",
    "# A2 = np.sum(A2, axis=1)\n",
    "# display(A2)\n",
    "\n",
    "# ans = np.vstack([A1, A2]).T\n",
    "# ans"
   ]
  },
  {
   "cell_type": "code",
   "execution_count": 143,
   "metadata": {},
   "outputs": [
    {
     "name": "stdout",
     "output_type": "stream",
     "text": [
      "[[-2 -6]\n",
      " [ 4 32]]\n",
      "[[-2  0]\n",
      " [-3 14]]\n",
      "[16 14]\n"
     ]
    }
   ],
   "source": [
    "A = np.array([[-1,0],[ 3,2]])\n",
    "B = np.array([[ 2,6],[-1,7]])\n",
    "print(A@B)\n",
    "# [-1 0] @ [ 2 6] = [-2 6] , некая ЛК столлбцов: sum(a_row1 * b_col1) = a[0][0]*b[0][0] + a[0][1]*b[1][0]\n",
    "# [ 3 2]   [-1 7]   [4 32]                       sum(a_row2 * b_col1)   a[1][0]*b[0][0] + a[1][1]*b[1][0]\n",
    "\n",
    "print(A * B)\n",
    "print(np.sum(A.T * B, axis=1))\n",
    "# print((A.T * B)[1])"
   ]
  }
 ],
 "metadata": {
  "kernelspec": {
   "display_name": "Python 3",
   "language": "python",
   "name": "python3"
  },
  "language_info": {
   "codemirror_mode": {
    "name": "ipython",
    "version": 3
   },
   "file_extension": ".py",
   "mimetype": "text/x-python",
   "name": "python",
   "nbconvert_exporter": "python",
   "pygments_lexer": "ipython3",
   "version": "3.9.13"
  },
  "orig_nbformat": 4
 },
 "nbformat": 4,
 "nbformat_minor": 2
}
