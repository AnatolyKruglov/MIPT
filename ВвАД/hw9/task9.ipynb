{
  "cells": [
    {
      "cell_type": "markdown",
      "metadata": {
        "id": "GHh02w3cNhdN"
      },
      "source": [
        "# <a href=\"https://miptstats.github.io/courses/ad_fivt.html\">Введение в анализ данных</a>\n",
        "## Домашнее задание 9. Статистика и байесовские классификаторы.\n"
      ]
    },
    {
      "cell_type": "markdown",
      "metadata": {
        "id": "kH3EACJiNhdR"
      },
      "source": [
        "**Правила, <font color=\"red\">прочитайте внимательно</font>:**\n",
        "\n",
        "* Выполненную работу нужно отправить телеграм-боту `@miptstats_ds24_bot`. Для начала работы с ботом каждый раз отправляйте `/start`. Дождитесь подтверждения от бота, что он принял файл. Если подтверждения нет, то что-то не так. **Работы, присланные иным способом, не принимаются.**\n",
        "* Дедлайн см. в боте. После дедлайна работы не принимаются кроме случаев наличия уважительной причины.\n",
        "* Прислать нужно **ноутбук в формате `ipynb`**.\n",
        "* Следите за размером файлов. **Бот не может принимать файлы весом более 20 Мб.** Если файл получается больше, заранее разделите его на несколько.\n",
        "* Выполнять задание необходимо полностью самостоятельно. **При обнаружении списывания все участники списывания будут сдавать устный зачет.**\n",
        "* Решения, размещенные на каких-либо интернет-ресурсах, не принимаются. Кроме того, публикация решения в открытом доступе может быть приравнена к предоставлении возможности списать.\n",
        "* Для выполнения задания используйте этот ноутбук в качестве основы, ничего не удаляя из него. Можно добавлять необходимое количество ячеек.\n",
        "* Комментарии к решению пишите в markdown-ячейках.\n",
        "* Выполнение задания (ход решения, выводы и пр.) должно быть осуществлено на русском языке.\n",
        "* Если код будет не понятен проверяющему, оценка может быть снижена.\n",
        "* Никакой код из данного задания при проверке запускаться не будет. *Если код студента не выполнен, недописан и т.д., то он не оценивается.*\n",
        "* **Код из рассказанных на занятиях ноутбуков** можно использовать без ограничений.\n",
        "\n",
        "\n",
        "**Правила оформления теоретических задач:**\n",
        "\n",
        "* Решения необходимо прислать одним из следующих способов:\n",
        "  * фотографией в правильной ориентации, где все четко видно, а почерк разборчив,\n",
        "    * отправив ее как файл боту вместе с ноутбуком\n",
        "    * *или* вставив ее в ноутбук посредством `Edit -> Insert Image` при редактировании markdown-ячейки (<font color=\"red\">фото, вставленные ссылкой, не принимаются</font>);\n",
        "  * в виде $\\LaTeX$ в markdown-ячейках.\n",
        "* Решения не проверяются, если какое-то требование не выполнено. Особенно внимательно все проверьте в случае выбора второго пункта (вставки фото в ноутбук). **<font color=\"red\">Неправильно вставленные фотографии могут не передаться при отправке.</font>** Для проверки попробуйте переместить `ipynb` в другую папку и открыть его там.\n",
        "* **В решениях поясняйте, чем вы пользуетесь**, хотя бы кратко. Например, если пользуетесь независимостью, то достаточно подписи вида \"*X и Y незав.*\"\n",
        "* Решение, в котором есть только ответ, и отсутствуют вычисления, оценивается в 0 баллов.\n",
        "\n",
        "\n",
        "\n",
        "**Баллы за задание:**\n",
        "\n",
        "* Задача 3 &mdash; 30 баллов\n",
        "* Задача 4 &mdash; 30 баллов\n",
        "* Задача 3 &mdash; 50 баллов\n",
        "* Задача 4 &mdash; 40 баллов\n",
        "\n",
        "Баллы учитываются в <b><font color=\"green\">факультативной части</font></b> курса и не влияют на оценку по основной части."
      ]
    },
    {
      "cell_type": "code",
      "execution_count": null,
      "metadata": {},
      "outputs": [],
      "source": [
        "# Bot check\n",
        "\n",
        "# HW_ID: fpmi_ad9\n",
        "# Бот проверит этот ID и предупредит, если случайно сдать что-то не то.\n",
        "\n",
        "# Status: final\n",
        "# Перед отправкой в финальном решении удали \"not\" в строчке выше.\n",
        "# Так бот проверит, что ты отправляешь финальную версию, а не промежуточную.\n",
        "# Никакие значения в этой ячейке не влияют на факт сдачи работы."
      ]
    },
    {
      "cell_type": "code",
      "execution_count": 1,
      "metadata": {
        "id": "gzbe27N0NpOQ"
      },
      "outputs": [],
      "source": [
        "!pip install -q optuna datasets wandb transformers==4.30 accelerate>=0.20.1"
      ]
    },
    {
      "cell_type": "code",
      "execution_count": 2,
      "metadata": {
        "id": "ht9Xm0EucoAr"
      },
      "outputs": [],
      "source": [
        "import numpy as np\n",
        "import pandas as pd\n",
        "import matplotlib.pyplot as plt\n",
        "import seaborn as sns\n",
        "import scipy.stats as sps\n",
        "from sklearn.datasets import fetch_20newsgroups\n",
        "from sklearn.model_selection import train_test_split\n",
        "from sklearn.feature_extraction.text import CountVectorizer\n",
        "from sklearn.naive_bayes import MultinomialNB\n",
        "from sklearn import metrics\n",
        "sns.set(palette='Set2')\n",
        "import optuna\n",
        "from scipy.stats import ttest_rel\n",
        "from datasets import Dataset\n",
        "import torch\n",
        "from torch.utils.data import DataLoader\n",
        "from transformers import DistilBertTokenizer, DistilBertForSequenceClassification\n",
        "from transformers import DataCollatorWithPadding, TrainingArguments, Trainer\n",
        "import wandb\n",
        "import os"
      ]
    },
    {
      "cell_type": "markdown",
      "metadata": {
        "id": "hYgTespbkXej"
      },
      "source": [
        "---\n",
        "### Задача 1.   "
      ]
    },
    {
      "cell_type": "markdown",
      "metadata": {
        "id": "C9ZGnkvkNhdX"
      },
      "source": [
        "**a).** Пусть $X_1,...,X_n$ выборка из некоторого распределения $\\mathsf{P}$, причем ${\\sf D} X_1=\\sigma^2<+\\infty$, и $\\sigma$ неизвестно.\n",
        "Рассмотрим оценку $S^2 = \\overline{X^2}-\\overline{X}^2$ дисперсии $\\sigma^2$.\n",
        "\n",
        "Докажите, что $S^2=\\frac1n\\sum\\limits_{i=1}^n\\left(X_i-\\overline{X}\\right)^2$.\n",
        "\n",
        "**b).** Оценка $\\widehat{\\theta}$ называется несмещенной оценкой параметра $\\theta$ если для любого $\\theta \\in \\Theta$ выполнено $\\mathsf{E}_\\theta \\widehat{\\theta} = \\theta$. Иначе говоря, какое бы ни оказалось истинное значение параметра $\\theta$, рассматривая оценку $\\widehat{\\theta}$ в среднем будем получать именно $\\theta$.\n",
        "\n",
        "Является ли статистика $S^2$ несмещенной оценкой $\\sigma^2$?\n",
        "\n",
        "*Подсказка.* Посчитайте математическое ожидание случайной величины $S^2$. Используйте для этого известные вам свойства математического ожидания."
      ]
    },
    {
      "cell_type": "markdown",
      "metadata": {
        "id": "U1LonsILNhdX"
      },
      "source": [
        "*Решение теоретических задач прикрепил отдельным файлом*"
      ]
    },
    {
      "cell_type": "markdown",
      "metadata": {
        "id": "ZH_7vCIE4Md7"
      },
      "source": [
        " ---\n",
        "### Задача 2.   "
      ]
    },
    {
      "cell_type": "markdown",
      "metadata": {
        "id": "oByFBxyBNhdZ"
      },
      "source": [
        "Пусть $X_1, ..., X_n$ &mdash; выборка из распределения $\\mathcal{N}(0, \\sigma^2)$. В качестве оценок $\\sigma^2$ обычно используют $S^2$ или $\\frac{n}{n-1}S^2$. Что можно сказать про их несмещенность?"
      ]
    },
    {
      "cell_type": "markdown",
      "metadata": {
        "id": "jHlO95TVJGqx"
      },
      "source": [
        "**Ответ:** *Решение теоретических задач прикрепил отдельным файлом. Краткий итог: $S^2$ - смещенная, $\\frac{n}{n-1}S^2$ - несмещенная оценка*"
      ]
    },
    {
      "cell_type": "markdown",
      "metadata": {
        "id": "JP3jb2n64hgO"
      },
      "source": [
        "**1.** Теперь проверьте это на практике. Для каждой из приведенных выше оценок $\\widehat{\\theta}$ выполните следующие действия.\n"
      ]
    },
    {
      "cell_type": "markdown",
      "metadata": {
        "id": "g3Q0X1y3Nhda"
      },
      "source": [
        "* Вычислите $k = 500$ независимых оценок $\\widehat{\\theta}_1, ... , \\widehat{\\theta}_k$ по независимым выборкам $(X_1^1, ... , X_n^1), ... , (X_1^k, ... , X_n^k)$, сгенерированным из распределения $\\mathcal{N}(0, \\sigma^2)$. Для генерации выберите какое-то истинное значение $\\sigma$. Далее вычислите среднее этих оценок, которое обозначим $\\widetilde{\\theta}$.\n",
        "\n",
        "* Визуализируйте полученные значения, построив на **одном** графике точки $(\\widehat{\\theta}_1, y), ... , (\\widehat{\\theta}_k, y)$ и среднее оценок $(\\widetilde{\\theta}, y)$, где $y$ &mdash; произвольные различные (например, 0 и 1) координаты для двух различных типов оценок.\n",
        "\n",
        "* Повторите действие три раза для $n \\in \\{10, 100, 500\\}$. В итоге получится три графика для различных $n$, на каждом из которых изображено поведение двух типов оценок и их среднее.\n",
        "\n",
        "Используйте приведенный **шаблон** для визуализации значений.\n",
        "\n",
        "**Внимание!** Следите за информативностью и наглядностью графиков. Например, пустых пространств должно быть как можно меньше, ничего не должно быть скомкано, вся нужная информация должна быть представлена. Посмотрите <a target=\"_blank\" href=\"https://miptstats.github.io/courses/ad_fivt/lecture1_2.pdf\">презентацию</a> по оформлению домашних заданий. **Если график чему-то не удовлетворяет, оценка будет снижена.**"
      ]
    },
    {
      "cell_type": "markdown",
      "metadata": {
        "id": "FdCCsVL43jva"
      },
      "source": [
        "**Решение:**"
      ]
    },
    {
      "cell_type": "code",
      "execution_count": 3,
      "metadata": {
        "colab": {
          "base_uri": "https://localhost:8080/",
          "height": 536
        },
        "id": "EkmPUrPwpoEZ",
        "outputId": "b3b3eb71-ee6c-4120-d591-2f91215d6aa6"
      },
      "outputs": [
        {
          "data": {
            "image/png": "[encoded data removed]",
            "text/plain": [
              "<Figure size 1600x150 with 1 Axes>"
            ]
          },
          "metadata": {},
          "output_type": "display_data"
        },
        {
          "data": {
            "image/png": "[encoded data removed]",
            "text/plain": [
              "<Figure size 1600x150 with 1 Axes>"
            ]
          },
          "metadata": {},
          "output_type": "display_data"
        },
        {
          "data": {
            "image/png": "[encoded data removed]",
            "text/plain": [
              "<Figure size 1600x150 with 1 Axes>"
            ]
          },
          "metadata": {},
          "output_type": "display_data"
        }
      ],
      "source": [
        "sigma = 1  # какое-то истинное значение сигмы)\n",
        "k = 500\n",
        "\n",
        "for n in [10,100,500]:\n",
        "    samples = sps.norm(scale=sigma).rvs(size=(k,n))\n",
        "    plt.figure(figsize=(16,1.5))\n",
        "\n",
        "    theta_hat = (samples**2).mean(axis=1) - (samples.mean(axis=1))**2\n",
        "    plt.scatter(theta_hat, np.ones(k), alpha=0.1, s=100, color='green', label=r'$S^2$')\n",
        "    plt.scatter(theta_hat.mean(), 1, marker='*', s=200, color='w', edgecolors='black')\n",
        "    theta_hat_unbiased = theta_hat * n / (n-1)\n",
        "    plt.scatter(theta_hat_unbiased, np.zeros(k), alpha=0.1, s=100, color='blue', label=r'$\\frac{n}{n-1}S^2$')\n",
        "    plt.scatter(theta_hat_unbiased.mean(), 0, marker='*', s=200, color='w', edgecolors='black')\n",
        "\n",
        "    plt.vlines(1, 0, 1, color='r')\n",
        "    plt.title(f'Размер выборки = {n}')\n",
        "    plt.yticks([])\n",
        "    plt.legend(loc='lower left', bbox_to_anchor=(1,0.38))\n",
        "    plt.xlim((0.5,1.5))\n",
        "    plt.ylim((-0.5,1.5))\n",
        "    plt.show()"
      ]
    },
    {
      "cell_type": "markdown",
      "metadata": {
        "id": "ESVz-KCjNhdb"
      },
      "source": [
        "*По графикам видно, что с ростом размера выборки $n$:*  \n",
        "- *среднее <span style=\"color:blue\">несмещенной</span> оценки почти не двигается (остается вблизи 1), что наглядно иллюстрирует ее несмещенность*   \n",
        "- *среднее <span style=\"color:green\">смещенной</span> оценки приближается к среднему <span style=\"color:blue\">несмещенной</span> оценки снизу. Это логично, поскольку для <span style=\"color:green\">смещенной</span> оценки верно $E(S^2)=\\frac{n-1}{n}\\sigma^2<\\sigma^2$ (вывел в теор. задаче), т.е. это нижняя оценка дисперсии (и с ростом $n$ ее среднее приближается к дисперсии и среднему <span style=\"color:blue\">несмещенной</span> оценки снизу)*  \n",
        "- *разброс обеих оценок уменьшается (следствие ЗБЧ)*   "
      ]
    },
    {
      "cell_type": "markdown",
      "metadata": {
        "id": "-ZfBwUhe3jvb"
      },
      "source": [
        "**2.** Изучим поведение среднего оценок из первого пункта при росте размера выборки. Постройте график зависимости $\\widetilde{\\theta}$ от $n$ для двух типов оценок. Для вычисления зависимости нужно один раз сгенерировать выборки из пункта 1 достаточно большого размера (не более 500) и посчитать оценки по подвыборкам, используя <a href=\"https://miptstats.github.io/courses/python/05_numpy.html#2.1-Математические-операции\">функции</a> из `numpy`. Использовать циклы, а так же функции, разворачивающиеся в цикл (например, `np.vectorize`), запрещено."
      ]
    },
    {
      "cell_type": "markdown",
      "metadata": {
        "id": "jIBkuOKb3jvb"
      },
      "source": [
        "**Решение:**"
      ]
    },
    {
      "cell_type": "code",
      "execution_count": 4,
      "metadata": {
        "colab": {
          "base_uri": "https://localhost:8080/",
          "height": 476
        },
        "id": "ZP8sBmKL3jvb",
        "outputId": "844bab18-f12e-4969-a927-01021d25547b"
      },
      "outputs": [
        {
          "data": {
            "image/png": "[encoded data removed]",
            "text/plain": [
              "<Figure size 1600x500 with 1 Axes>"
            ]
          },
          "metadata": {},
          "output_type": "display_data"
        }
      ],
      "source": [
        "samples = sps.norm(scale=1).rvs(size=(k,450))  # удобно взять n == 450 != 500 для самопроверки по размерностям\n",
        "ns = np.arange(1,samples.shape[1]+1)\n",
        "\n",
        "plt.figure(figsize=(16,5))\n",
        "ax = plt.gca()\n",
        "ax.set_xscale('log')\n",
        "\n",
        "theta_hat = ((np.cumsum(samples**2, axis=1) / ns)  -  ((np.cumsum(samples, axis=1) / ns) ** 2))[:,5:]\n",
        "plt.scatter(ns[5:], theta_hat.mean(axis=0), s=200, alpha=0.1, color='green', edgecolors='black', label=r'Для $S^2$')\n",
        "theta_hat_unbiased = theta_hat * ns[5:] / (ns[5:]-1)\n",
        "plt.scatter(ns[5:], theta_hat_unbiased.mean(axis=0), s=200, alpha=0.1, color='blue', edgecolors='black', label=r'Для $\\frac{n}{n-1}S^2$')\n",
        "\n",
        "plt.title(f'Среднее оценок с увеличением выборки')\n",
        "plt.legend()\n",
        "plt.xlabel('Размер выборки n')\n",
        "plt.ylabel('Среднее оценок')\n",
        "plt.show()"
      ]
    },
    {
      "cell_type": "markdown",
      "metadata": {
        "id": "agviQcZi3jvd"
      },
      "source": [
        "Сделайте вывод о том, что такое свойство несмещенности. Подтверждают ли сделанные эксперименты полученное в теоретических задачах свойство несмещенности (или отсутствие этого свойства) данных оценок?\n",
        "\n",
        "*Для ПМФ:* поясните, почему в лабораторных по физике при оценке погрешности иногда используют $n-1$ в знаменателе, а не $n$.\n",
        "\n",
        "*Замечание.* Для ответа на вопрос достаточно понимания текущего материала, ничего из физики знать не требуется."
      ]
    },
    {
      "cell_type": "markdown",
      "metadata": {
        "id": "md1nb2PX3jvd"
      },
      "source": [
        "**Вывод:**"
      ]
    },
    {
      "cell_type": "markdown",
      "metadata": {
        "id": "vlJ8HKfoNhdh"
      },
      "source": [
        "*Этот эксперимент подтверждает выявленную ранее закономерность: с ростом размера выборки $n$ среднее <span style=\"color:green\">смещенной</span> оценки приближается к среднему <span style=\"color:blue\">несмещенной</span> оценки снизу, причем среднее <span style=\"color:blue\">несмещенной</span> оценки остается в окрестности 1 ($\\sigma^2$). Как упоминалось выше, в теор. задаче было доказано, что для <span style=\"color:green\">смещенной</span> оценки верно $E(S^2)=\\frac{n-1}{n}\\sigma^2<\\sigma^2=E(\\frac{n}{n-1}S^2)$, т.е. с ростом $n$ среднее <span style=\"color:green\">смещенной</span> оценки действительно должно приближаться к среднему <span style=\"color:blue\">несмещенной</span> оценки снизу.*   \n",
        "   \n",
        "*Таким образом, свойство несмещенности заключается в том, что среднее несмещенной оценки намного меньше колеблется вблизи реальной величины и точнее отражает ее (они равны в среднем). Это свойство пригождается в лабораторных по физике, где важно как можно ближе оценить среднее некоторой величины, оперируя ограниченной выборкой*   "
      ]
    },
    {
      "cell_type": "markdown",
      "metadata": {
        "id": "PVUxXAvUNhdh"
      },
      "source": [
        "*Замечание.* Проведенные эксперименты позволяют сделать вывод только о поведении среднего значения оценки, но ничего не говорят о том, насколько велик их разброс относительно среднего."
      ]
    },
    {
      "cell_type": "markdown",
      "metadata": {
        "id": "MsRxOckvNhdh"
      },
      "source": [
        "---\n",
        "### Задача 3."
      ]
    },
    {
      "cell_type": "markdown",
      "metadata": {
        "id": "VVgjzHimNhdh"
      },
      "source": [
        "Рассмотрим задачу построения системы, автоматически классифицирующей поступающие новостные сюжеты на несколько заранее заданных категорий.\n",
        "\n",
        "Перед выполнением задачи обязательно посмотрите <a href=\"https://miptstats.github.io/courses/ad_fivt/bayes_classification.html\">ноутбук</a> с занятия по классификации.\n",
        "\n",
        "---\n",
        "\n",
        "С помощью кода ниже загрузите встроенные в `sklearn` <a target=\"_blank\" href=\"https://scikit-learn.org/stable/modules/generated/sklearn.datasets.fetch_20newsgroups.html#sklearn.datasets.fetch_20newsgroups\">данные</a>, в которых представлены различные новостные сюжеты, разделенные на 20 тематических групп."
      ]
    },
    {
      "cell_type": "code",
      "execution_count": 5,
      "metadata": {
        "colab": {
          "base_uri": "https://localhost:8080/"
        },
        "id": "pfOfd--NNhdi",
        "outputId": "9644decc-8d39-4a0c-96b4-07ab6566d14a"
      },
      "outputs": [
        {
          "name": "stdout",
          "output_type": "stream",
          "text": [
            "orig train: 11314, orig test: 7532\n"
          ]
        }
      ],
      "source": [
        "remove = ('headers', 'footers')  # удаляем заголовки и подписи\n",
        "random_state = 42  # зафиксируем зерно случайности\n",
        "\n",
        "# Извлекаем обучающую и тестовую части перемешивая случайным образом\n",
        "data_train = fetch_20newsgroups(subset='train', shuffle=True, random_state=random_state, remove=remove)\n",
        "data_test  = fetch_20newsgroups(subset='test', shuffle=True, random_state=random_state, remove=remove)\n",
        "\n",
        "print(f\"orig train: {len(data_train['data'])}, orig test: {len(data_test['data'])}\")"
      ]
    },
    {
      "cell_type": "markdown",
      "metadata": {
        "id": "ULjAejMGNhdi"
      },
      "source": [
        "Посмотрим на какое-нибудь сообщение"
      ]
    },
    {
      "cell_type": "code",
      "execution_count": 6,
      "metadata": {
        "ExecuteTime": {
          "end_time": "2021-04-29T13:15:37.313958Z",
          "start_time": "2021-04-29T13:15:37.302380Z"
        },
        "colab": {
          "base_uri": "https://localhost:8080/"
        },
        "id": "XaDeO6IyNhdi",
        "outputId": "75162ac7-fa47-46ef-fa18-90c26349d806"
      },
      "outputs": [
        {
          "name": "stdout",
          "output_type": "stream",
          "text": [
            "In article <1993Apr20.151818.4319@samba.oit.unc.edu> Scott.Marks@launchpad.unc.edu (Scott Marks) writes:\n",
            ">>And of course, Mike Ramsey was (at one time) the captain in Buffalo prior to\n",
            ">>being traded to Pittsburgh.  Currently, the Penguins have 3 former captains\n",
            ">>and 1 real captain (Lemieux) playing for them.  They rotate the A's during the\n",
            ">>season (and even the C while Mario was out).  Even Troy Loney has worn the C\n",
            ">>for the Pens.\n",
            ">\n",
            "\n",
            "I think that Mike Foligno was the captain of the Sabres when he\n",
            "got traded to the Leafs. Also, wasn't Rick Vaive the captain of\n",
            "the Leafs when he got traded to Chicago (with Steve Thomas for\n",
            "Ed Olcyzk and someone). Speaking of the Leafs, I believe that\n",
            "Darryl Sittler was their captain (he'd torn the \"C\" off his\n",
            "jersey but I think he re-claimed the captaincy later on) when he\n",
            "was traded to the Flyers.\n",
            "\n",
            "Oh yeah, of course, Gretzky was the captain of the Oilers before\n",
            "he was traded wasn't he? \n"
          ]
        }
      ],
      "source": [
        "print(data_train['data'][21])"
      ]
    },
    {
      "cell_type": "markdown",
      "metadata": {
        "id": "0zskSaqUNhdi"
      },
      "source": [
        "Индекс тематической группы для каждого сообщения"
      ]
    },
    {
      "cell_type": "code",
      "execution_count": 7,
      "metadata": {
        "ExecuteTime": {
          "end_time": "2021-04-29T13:15:55.742687Z",
          "start_time": "2021-04-29T13:15:55.727744Z"
        },
        "colab": {
          "base_uri": "https://localhost:8080/"
        },
        "id": "QgYJw0v4Nhdi",
        "outputId": "aabab7c5-7c0c-4a5d-9f30-798e09156997"
      },
      "outputs": [
        {
          "data": {
            "text/plain": [
              "array([7, 4, 4, ..., 3, 1, 8])"
            ]
          },
          "execution_count": 7,
          "metadata": {},
          "output_type": "execute_result"
        }
      ],
      "source": [
        "data_train['target']"
      ]
    },
    {
      "cell_type": "markdown",
      "metadata": {
        "id": "25Lm02oqNhdi"
      },
      "source": [
        "Названия тематических групп"
      ]
    },
    {
      "cell_type": "code",
      "execution_count": 8,
      "metadata": {
        "ExecuteTime": {
          "end_time": "2021-04-29T13:15:55.368277Z",
          "start_time": "2021-04-29T13:15:55.355803Z"
        },
        "colab": {
          "base_uri": "https://localhost:8080/"
        },
        "id": "B4mSxtvsNhdj",
        "outputId": "a4f8e5c9-cca7-4584-e9b7-90cb7f0707c3"
      },
      "outputs": [
        {
          "name": "stdout",
          "output_type": "stream",
          "text": [
            "20\n",
            "alt.atheism, comp.graphics, comp.os.ms-windows.misc, comp.sys.ibm.pc.hardware, comp.sys.mac.hardware, comp.windows.x, misc.forsale, rec.autos, rec.motorcycles, rec.sport.baseball, rec.sport.hockey, sci.crypt, sci.electronics, sci.med, sci.space, soc.religion.christian, talk.politics.guns, talk.politics.mideast, talk.politics.misc, talk.religion.misc\n"
          ]
        }
      ],
      "source": [
        "print(len(data_train['target_names']))\n",
        "print(*data_train['target_names'], sep=', ')"
      ]
    },
    {
      "cell_type": "markdown",
      "metadata": {
        "id": "5uo-VddgNhdj"
      },
      "source": [
        "Разделите данные на обучающую, валидационную и тестовую части"
      ]
    },
    {
      "cell_type": "code",
      "execution_count": 9,
      "metadata": {
        "id": "gk8ne9Y9Nhdj"
      },
      "outputs": [],
      "source": [
        "x_train_orig, y_train = data_train['data'], data_train['target']\n",
        "x_val_orig, x_test_orig, y_val, y_test = train_test_split(data_test['data'], data_test['target'], test_size=0.5, random_state=random_state)\n",
        "x_train_orig, x_val_orig, x_test_orig = [[t.lower() for t in subset] for subset in [x_train_orig, x_val_orig, x_test_orig]]  # в нижний регистр"
      ]
    },
    {
      "cell_type": "markdown",
      "metadata": {
        "id": "icVcPlgsNhdj"
      },
      "source": [
        "Прежде чем приступать к построению сложных систем всегда стоит выбрать простой бейзлайн &mdash; модель, которую вы можете получить относительно быстро, и она не занимает много ресурсов.\n",
        "\n",
        "В качестве бейзлайна рассмотрим простую модель, обученную на представлении текстов в виде мешка слов (bag of words). Мы можем обучить два известных нам классификатора:\n",
        "* метод ближайших соседей,\n",
        "* наивный байесовский классификатор.\n",
        "\n",
        "Подумайте, почему метод ближайших соседей не подходит для решения данной задачи."
      ]
    },
    {
      "cell_type": "markdown",
      "metadata": {
        "id": "ZrTJ2WQ9Nhdj"
      },
      "source": [
        "*Пространство векторизованных текстов - это пространство крайне высокой размерности (в словаре, на основе которого строится bag of words, могут быть сотни тысяч слов). Алгоритм knn будет считать расстояния в этом пространстве между всеми векторизованными текстами, что потребует очень много времени и памяти. Кроме того, из-за проклятия размерности такие расстояния потеряют информативность (хотя, возможно, это получилось бы частично нивелировать с помощью pca)*"
      ]
    },
    {
      "cell_type": "markdown",
      "metadata": {
        "id": "EAC4pgZFNhdj"
      },
      "source": [
        "Обучите наивный байесовский классификатор, подобрав также для него оптимальные гиперпараметры. В качестве гиперпараметров можно рассмотреть, например, параметры мешка слов.\n",
        "\n",
        "Для выполнения этой процедуры зафиксируйте несколько комбинаций значений гиперпараметров, для каждой из них обучите модель по обучающей части выборки и посчитайте качество (точность классификации) на валидационной части. Выберите классификатор, дающий максимальную точность."
      ]
    },
    {
      "cell_type": "code",
      "execution_count": 10,
      "metadata": {
        "colab": {
          "base_uri": "https://localhost:8080/"
        },
        "id": "Oaa2fMJyNhdk",
        "outputId": "5d84ce70-91b5-4358-a7d5-15f4e524b89a"
      },
      "outputs": [
        {
          "name": "stderr",
          "output_type": "stream",
          "text": [
            "[I 2024-05-01 09:35:49,652] A new study created in memory with name: no-name-3ef80952-7bb1-419a-9737-2404dd566453\n",
            "[I 2024-05-01 09:36:20,630] Trial 0 finished with value: 0.6999468932554435 and parameters: {'min_df': 0.0034302668936694787, 'max_df': 0.0344055943826004, 'alpha': 0.03185117029310358}. Best is trial 0 with value: 0.6999468932554435.\n",
            "[I 2024-05-01 09:37:37,811] Trial 1 finished with value: 0.7419012214551248 and parameters: {'min_df': 0.0007121335035610893, 'max_df': 0.030015218275672672, 'alpha': 0.8311089191801124}. Best is trial 1 with value: 0.7419012214551248.\n",
            "[I 2024-05-01 09:37:48,205] Trial 2 finished with value: 0.5852363250132767 and parameters: {'min_df': 0.011501904386078475, 'max_df': 0.06115395371260483, 'alpha': 0.7060246647711537}. Best is trial 1 with value: 0.7419012214551248.\n",
            "[I 2024-05-01 09:38:01,743] Trial 3 finished with value: 0.6471056824216675 and parameters: {'min_df': 0.006499831657585127, 'max_df': 0.036591025840543946, 'alpha': 0.6075688766656616}. Best is trial 1 with value: 0.7419012214551248.\n",
            "[I 2024-05-01 09:38:15,216] Trial 4 finished with value: 0.6378120021242698 and parameters: {'min_df': 0.007325263307016801, 'max_df': 0.04966604005307601, 'alpha': 0.6239732997159947}. Best is trial 1 with value: 0.7419012214551248.\n",
            "[I 2024-05-01 09:38:23,827] Trial 5 finished with value: 0.5570897503983006 and parameters: {'min_df': 0.012141549374278653, 'max_df': 0.04060957188633488, 'alpha': 0.2698403619190921}. Best is trial 1 with value: 0.7419012214551248.\n",
            "[I 2024-05-01 09:38:33,030] Trial 6 finished with value: 0.5924057355284121 and parameters: {'min_df': 0.01097536106560228, 'max_df': 0.05957446029571668, 'alpha': 0.549782842318569}. Best is trial 1 with value: 0.7419012214551248.\n",
            "[I 2024-05-01 09:39:00,411] Trial 7 finished with value: 0.7052575677110993 and parameters: {'min_df': 0.0026320915766813377, 'max_df': 0.026572747600703984, 'alpha': 0.2971636010004084}. Best is trial 1 with value: 0.7419012214551248.\n",
            "[I 2024-05-01 09:39:30,685] Trial 8 finished with value: 0.7238449283058949 and parameters: {'min_df': 0.002715666230698725, 'max_df': 0.05810665346906687, 'alpha': 0.5710675680578154}. Best is trial 1 with value: 0.7419012214551248.\n",
            "[I 2024-05-01 09:39:42,553] Trial 9 finished with value: 0.6295804567180032 and parameters: {'min_df': 0.007384538459473352, 'max_df': 0.0301983844330121, 'alpha': 0.6915990562131656}. Best is trial 1 with value: 0.7419012214551248.\n"
          ]
        },
        {
          "name": "stdout",
          "output_type": "stream",
          "text": [
            "Лучшие гиперпараметры: {'min_df': 0.0007121335035610893, 'max_df': 0.030015218275672672, 'alpha': 0.8311089191801124}\n"
          ]
        }
      ],
      "source": [
        "def objective(trial):\n",
        "    min_df = trial.suggest_float('min_df', 0.0, 0.015)\n",
        "    max_df = trial.suggest_float('max_df', min_df, 0.065)  # требуем, чтобы max_df >= min_df\n",
        "    alpha = trial.suggest_float('alpha', 0.0, 1.0)\n",
        "\n",
        "    vectorizer = CountVectorizer(min_df=min_df, max_df=max_df)\n",
        "    x_train = vectorizer.fit_transform(x_train_orig).toarray()\n",
        "    x_val = vectorizer.transform(x_val_orig).toarray()\n",
        "    nb = MultinomialNB(alpha=alpha)\n",
        "    nb.fit(x_train, y_train)\n",
        "    return metrics.accuracy_score(y_val, nb.predict(x_val))  # подбор гиперпараметров по валидации\n",
        "\n",
        "study = optuna.create_study(direction='maximize')\n",
        "study.optimize(objective, n_trials=10)\n",
        "\n",
        "print('Лучшие гиперпараметры:', study.best_params)"
      ]
    },
    {
      "cell_type": "markdown",
      "metadata": {
        "id": "aw2LZ2iwNhdk"
      },
      "source": [
        "Посчитайте качество на тестовой выборке."
      ]
    },
    {
      "cell_type": "code",
      "execution_count": 11,
      "metadata": {
        "colab": {
          "base_uri": "https://localhost:8080/"
        },
        "id": "ZWKMsSDMNhdk",
        "outputId": "d516fd77-c84b-4853-c892-3dbff86b36b3"
      },
      "outputs": [
        {
          "name": "stdout",
          "output_type": "stream",
          "text": [
            "Точность наивного Байеса: 0.7419012214551248\n"
          ]
        }
      ],
      "source": [
        "vectorizer = CountVectorizer(min_df=study.best_params['min_df'], max_df=study.best_params['max_df'])\n",
        "x_train = vectorizer.fit_transform(x_train_orig).toarray()\n",
        "x_test = vectorizer.transform(x_test_orig).toarray()\n",
        "nb = MultinomialNB(alpha=study.best_params['alpha'])\n",
        "nb.fit(x_train, y_train)\n",
        "nb_predictions = nb.predict(x_test)  # пригодится позже\n",
        "print('Точность наивного Байеса:', metrics.accuracy_score(y_test, nb_predictions))"
      ]
    },
    {
      "cell_type": "markdown",
      "metadata": {
        "id": "UBaTE30INhds"
      },
      "source": [
        "Выберите некоторую нейросеть для классификации текстов. Вы можете выбрать готовую нейросеть и дообучить ее на рассматриваемых данных, как это сделано на <a href=\"https://miptstats.github.io/courses/ad_fivt/bayes_classification.html\">семинаре</a>, так и самостоятельно написать нейросеть."
      ]
    },
    {
      "cell_type": "code",
      "execution_count": 12,
      "metadata": {
        "colab": {
          "base_uri": "https://localhost:8080/",
          "height": 365,
          "referenced_widgets": [
            "4d3c4a38d80746fb8ec450bb239ab98e",
            "23e36a5ccc5a4ce8949dc20a2fa4c785",
            "8a3ee60dfc1846eaa6ae4d02de376479",
            "860eb3615e40406aa78f648984e06f26",
            "76a1dfd885f6474f92241a9d28e9266b",
            "0c350dc97e0f4395957cbba6ddb54ee9",
            "c378aa53490144329415767655c3697f",
            "d913ba66694e451894b2d6a9a632a3dd",
            "c7dcefb68ac04950aa5f88c0f055aceb",
            "1b208ad6c61144e6b3e3cfe10f3657bb",
            "ae9e3200fd634685bf1b51757d5a0919",
            "6911aa186fed4a4aa817e172ca156beb",
            "cdf6bd3a76dd45bba33312bb745f40a1",
            "926822b2710b4224b6f701961ff96f6c",
            "f1c0c62aea164e699329a6a0b1bb6d4f",
            "22b0a30b2c134adfbe5d72b7aec363b3",
            "0f04133bf9c14dcaa4b1f3e6edbfbca3",
            "01719060bb404f61b043a056c2ae5b96",
            "0a741b3ff1464f8b9ad0afd9342d2163",
            "08b49916e460473190222243260bf5ca",
            "2254cb2faede4d8c8747b87712b68685",
            "89519bcba5d9438ba5dbb99a0e2375a3",
            "c4d0d9a052844535b3c40e505efcf4ec",
            "c211012f2ea747e1b8a4df8a8a9da819",
            "f1942c2068ad495b87a478e424afa9f4",
            "ca1f9000a90d4e5f9586ad09fd05619f",
            "c7aed221593340d9aa97ea00fc960967",
            "fa1d6cbc95fa433b98841a4bbd64e7dd",
            "bb0e73189a2c4ee098adf8ce5dbf4003",
            "cb2606c94b4d4320b37c33474132a3b6",
            "a522daeaa4d74141a8b0cc29c9412031",
            "e1192b27c66c406dbd470db0bc9b95c9",
            "56d6a365b59f4b1f8ea5ae6edc97515a",
            "098516ab6428406596c82a3c3c9d7e77",
            "9ac44ab84a0f40a8a9da60c6f0a4e3d3",
            "8ded483c5f0c4ec2947419e5334f27c5",
            "54ae40baf0ad47b088b722cf5d03028e",
            "e0159a469a3140abac87a91a03fb6cf3",
            "84a5a1e95ae842f781d09ecca167bbd6",
            "d626d606e607453a9a3820a3e1598588",
            "7ffb2e7398f84523928807f9e8ec8f6c",
            "2e975f4732fe47a0a2520066cf2545c2",
            "a50e0621bf3c41908663e4b03bd70fb5",
            "f3912f74e9fe46debcb8adeccf9fc9ac",
            "bef6718c07464cef8c655297cdcda996",
            "78e95c7e3c894d1688c8c203646a1d53",
            "f182d9c4b04f40f682abac6ad7b1ec86",
            "fe5d2a45e4ed40ab8718ce885a4a0f76",
            "d81255f8a724403daf4322d90a44e090",
            "baeb3011ca7d46049d5801eac34efcd7",
            "93471fcfd24f4ba4a37b7e92a0d0f268",
            "572b71b286a94ee08b52ce9c168e7f3a",
            "78a39604dda240fdb6933d59f1c23a2e",
            "808a76e986bc43c68bdacaa1e36626b5",
            "d386fefea47f41efbc79c8d4c0ba49c1",
            "8053717e02cb48d2b19425bd93e88c68",
            "ed07d70fd8da4193bc0bb1d5f436dd00",
            "9aececf8e17244fa9dcdefdac318d751",
            "350ab915b6c9428f849f36647cad42c5",
            "6e3af27e026c463789b2787a5f1f8697",
            "a6cf4bb4c16d4b039adc1c77e75b6de0",
            "2ae3b595544c46abad9313f8e2bb4865",
            "0326f724dff340e1b21dc0e1e745371b",
            "a6940e92d7d945338b003017ed78d2b9",
            "65cd565e87364573a69ce3ba2b1044ac",
            "82fcc315c2e546b29b17660c810dda2d",
            "4126875707174eaa83540cb226cc9c21",
            "6c345067bb1d413f9942252b63a682a5",
            "fcf770ddc7c749e6944c5707c8445a44",
            "54f62d50d1074bb7b27af14e6de3c0af",
            "25899715c07d477abb4bf1f4aa9b7a28",
            "8f9a2673b7204506a8b3406023a5a9fc",
            "355f03e11ed542f4860fbb017767e12e",
            "28daa3816b2e4be4852c91658e589043",
            "a337a094ab784bb5b94f388f27843189",
            "47a899af14d34b939a60eecf66046cbf",
            "872596925d624ddb9aa8d8545241474b"
          ]
        },
        "id": "XPcvEfBWNhdt",
        "outputId": "4e3b6052-2917-4967-e2f8-949458d7e72b"
      },
      "outputs": [
        {
          "name": "stderr",
          "output_type": "stream",
          "text": [
            "/usr/local/lib/python3.10/dist-packages/huggingface_hub/utils/_token.py:89: UserWarning: \n",
            "The secret `HF_TOKEN` does not exist in your Colab secrets.\n",
            "To authenticate with the Hugging Face Hub, create a token in your settings tab (https://huggingface.co/settings/tokens), set it as secret in your Google Colab and restart your session.\n",
            "You will be able to reuse this secret in all of your notebooks.\n",
            "Please note that authentication is recommended but still optional to access public models or datasets.\n",
            "  warnings.warn(\n"
          ]
        },
        {
          "data": {
            "application/vnd.jupyter.widget-view+json": {
              "model_id": "4d3c4a38d80746fb8ec450bb239ab98e",
              "version_major": 2,
              "version_minor": 0
            },
            "text/plain": [
              "vocab.txt:   0%|          | 0.00/232k [00:00<?, ?B/s]"
            ]
          },
          "metadata": {},
          "output_type": "display_data"
        },
        {
          "data": {
            "application/vnd.jupyter.widget-view+json": {
              "model_id": "6911aa186fed4a4aa817e172ca156beb",
              "version_major": 2,
              "version_minor": 0
            },
            "text/plain": [
              "tokenizer_config.json:   0%|          | 0.00/48.0 [00:00<?, ?B/s]"
            ]
          },
          "metadata": {},
          "output_type": "display_data"
        },
        {
          "data": {
            "application/vnd.jupyter.widget-view+json": {
              "model_id": "c4d0d9a052844535b3c40e505efcf4ec",
              "version_major": 2,
              "version_minor": 0
            },
            "text/plain": [
              "config.json:   0%|          | 0.00/629 [00:00<?, ?B/s]"
            ]
          },
          "metadata": {},
          "output_type": "display_data"
        },
        {
          "data": {
            "application/vnd.jupyter.widget-view+json": {
              "model_id": "098516ab6428406596c82a3c3c9d7e77",
              "version_major": 2,
              "version_minor": 0
            },
            "text/plain": [
              "model.safetensors:   0%|          | 0.00/268M [00:00<?, ?B/s]"
            ]
          },
          "metadata": {},
          "output_type": "display_data"
        },
        {
          "data": {
            "application/vnd.jupyter.widget-view+json": {
              "model_id": "bef6718c07464cef8c655297cdcda996",
              "version_major": 2,
              "version_minor": 0
            },
            "text/plain": [
              "Map:   0%|          | 0/11314 [00:00<?, ? examples/s]"
            ]
          },
          "metadata": {},
          "output_type": "display_data"
        },
        {
          "data": {
            "application/vnd.jupyter.widget-view+json": {
              "model_id": "8053717e02cb48d2b19425bd93e88c68",
              "version_major": 2,
              "version_minor": 0
            },
            "text/plain": [
              "Map:   0%|          | 0/3766 [00:00<?, ? examples/s]"
            ]
          },
          "metadata": {},
          "output_type": "display_data"
        },
        {
          "data": {
            "application/vnd.jupyter.widget-view+json": {
              "model_id": "4126875707174eaa83540cb226cc9c21",
              "version_major": 2,
              "version_minor": 0
            },
            "text/plain": [
              "Map:   0%|          | 0/3766 [00:00<?, ? examples/s]"
            ]
          },
          "metadata": {},
          "output_type": "display_data"
        }
      ],
      "source": [
        "tokenizer = DistilBertTokenizer.from_pretrained(\"distilbert-base-uncased-finetuned-sst-2-english\")\n",
        "model = DistilBertForSequenceClassification.from_pretrained(\"distilbert-base-uncased-finetuned-sst-2-english\")\n",
        "model.classifier = torch.nn.Linear(in_features=768, out_features=len(data_train['target_names']), bias=True)\n",
        "model.cuda()\n",
        "\n",
        "preprocess = lambda t: tokenizer(t[\"text\"], truncation=True, max_length=512)\n",
        "\n",
        "train_dataset = Dataset.from_pandas(pd.DataFrame({'text':x_train_orig, 'labels':y_train}), preserve_index=False)\n",
        "tokenized_train = train_dataset.map(preprocess, batched=True)\n",
        "val_dataset = Dataset.from_pandas(pd.DataFrame({'text':x_val_orig, 'labels':y_val}), preserve_index=False)\n",
        "tokenized_val = val_dataset.map(preprocess, batched=True)\n",
        "test_dataset = Dataset.from_pandas(pd.DataFrame({'text':x_test_orig, 'labels':y_test}), preserve_index=False)\n",
        "tokenized_test = test_dataset.map(preprocess, batched=True)"
      ]
    },
    {
      "cell_type": "code",
      "execution_count": 13,
      "metadata": {
        "colab": {
          "base_uri": "https://localhost:8080/",
          "height": 634
        },
        "id": "imPYzUg5Nhdt",
        "outputId": "e3dd591a-0a6f-4bdf-a841-18fd70534893"
      },
      "outputs": [
        {
          "name": "stderr",
          "output_type": "stream",
          "text": [
            "/usr/local/lib/python3.10/dist-packages/transformers/optimization.py:411: FutureWarning: This implementation of AdamW is deprecated and will be removed in a future version. Use the PyTorch implementation torch.optim.AdamW instead, or set `no_deprecation_warning=True` to disable this warning\n",
            "  warnings.warn(\n"
          ]
        },
        {
          "data": {
            "application/javascript": "\n        window._wandbApiKey = new Promise((resolve, reject) => {\n            function loadScript(url) {\n            return new Promise(function(resolve, reject) {\n                let newScript = document.createElement(\"script\");\n                newScript.onerror = reject;\n                newScript.onload = resolve;\n                document.body.appendChild(newScript);\n                newScript.src = url;\n            });\n            }\n            loadScript(\"https://cdn.jsdelivr.net/npm/postmate/build/postmate.min.js\").then(() => {\n            const iframe = document.createElement('iframe')\n            iframe.style.cssText = \"width:0;height:0;border:none\"\n            document.body.appendChild(iframe)\n            const handshake = new Postmate({\n                container: iframe,\n                url: 'https://wandb.ai/authorize'\n            });\n            const timeout = setTimeout(() => reject(\"Couldn't auto authenticate\"), 5000)\n            handshake.then(function(child) {\n                child.on('authorize', data => {\n                    clearTimeout(timeout)\n                    resolve(data)\n                });\n            });\n            })\n        });\n    ",
            "text/plain": [
              "<IPython.core.display.Javascript object>"
            ]
          },
          "metadata": {},
          "output_type": "display_data"
        },
        {
          "name": "stderr",
          "output_type": "stream",
          "text": [
            "\u001b[34m\u001b[1mwandb\u001b[0m: Logging into wandb.ai. (Learn how to deploy a W&B server locally: https://wandb.me/wandb-server)\n",
            "\u001b[34m\u001b[1mwandb\u001b[0m: You can find your API key in your browser here: https://wandb.ai/authorize\n",
            "wandb: Paste an API key from your profile and hit enter, or press ctrl+c to quit:"
          ]
        },
        {
          "name": "stdout",
          "output_type": "stream",
          "text": [
            " ··········\n"
          ]
        },
        {
          "name": "stderr",
          "output_type": "stream",
          "text": [
            "\u001b[34m\u001b[1mwandb\u001b[0m: Appending key for api.wandb.ai to your netrc file: /root/.netrc\n"
          ]
        },
        {
          "data": {
            "text/html": [
              "Tracking run with wandb version 0.16.6"
            ],
            "text/plain": [
              "<IPython.core.display.HTML object>"
            ]
          },
          "metadata": {},
          "output_type": "display_data"
        },
        {
          "data": {
            "text/html": [
              "Run data is saved locally in <code>/content/wandb/run-20240501_094348-mpuymkem</code>"
            ],
            "text/plain": [
              "<IPython.core.display.HTML object>"
            ]
          },
          "metadata": {},
          "output_type": "display_data"
        },
        {
          "data": {
            "text/html": [
              "Syncing run <strong><a href='https://wandb.ai/mipt__/huggingface/runs/mpuymkem' target=\"_blank\">playful-donkey-6</a></strong> to <a href='https://wandb.ai/mipt__/huggingface' target=\"_blank\">Weights & Biases</a> (<a href='https://wandb.me/run' target=\"_blank\">docs</a>)<br/>"
            ],
            "text/plain": [
              "<IPython.core.display.HTML object>"
            ]
          },
          "metadata": {},
          "output_type": "display_data"
        },
        {
          "data": {
            "text/html": [
              " View project at <a href='https://wandb.ai/mipt__/huggingface' target=\"_blank\">https://wandb.ai/mipt__/huggingface</a>"
            ],
            "text/plain": [
              "<IPython.core.display.HTML object>"
            ]
          },
          "metadata": {},
          "output_type": "display_data"
        },
        {
          "data": {
            "text/html": [
              " View run at <a href='https://wandb.ai/mipt__/huggingface/runs/mpuymkem' target=\"_blank\">https://wandb.ai/mipt__/huggingface/runs/mpuymkem</a>"
            ],
            "text/plain": [
              "<IPython.core.display.HTML object>"
            ]
          },
          "metadata": {},
          "output_type": "display_data"
        },
        {
          "data": {
            "text/html": [
              "\n",
              "    <div>\n",
              "      \n",
              "      <progress value='1000' max='1000' style='width:300px; height:20px; vertical-align: middle;'></progress>\n",
              "      [1000/1000 41:54, Epoch 3/4]\n",
              "    </div>\n",
              "    <table border=\"1\" class=\"dataframe\">\n",
              "  <thead>\n",
              " <tr style=\"text-align: left;\">\n",
              "      <th>Step</th>\n",
              "      <th>Training Loss</th>\n",
              "      <th>Validation Loss</th>\n",
              "      <th>Accuracy</th>\n",
              "    </tr>\n",
              "  </thead>\n",
              "  <tbody>\n",
              "    <tr>\n",
              "      <td>100</td>\n",
              "      <td>1.512200</td>\n",
              "      <td>1.153408</td>\n",
              "      <td>0.649495</td>\n",
              "    </tr>\n",
              "    <tr>\n",
              "      <td>200</td>\n",
              "      <td>1.035300</td>\n",
              "      <td>1.012531</td>\n",
              "      <td>0.704727</td>\n",
              "    </tr>\n",
              "    <tr>\n",
              "      <td>300</td>\n",
              "      <td>0.799500</td>\n",
              "      <td>1.073688</td>\n",
              "      <td>0.715348</td>\n",
              "    </tr>\n",
              "    <tr>\n",
              "      <td>400</td>\n",
              "      <td>0.558600</td>\n",
              "      <td>0.939316</td>\n",
              "      <td>0.754912</td>\n",
              "    </tr>\n",
              "    <tr>\n",
              "      <td>500</td>\n",
              "      <td>0.509400</td>\n",
              "      <td>0.946546</td>\n",
              "      <td>0.755178</td>\n",
              "    </tr>\n",
              "    <tr>\n",
              "      <td>600</td>\n",
              "      <td>0.402100</td>\n",
              "      <td>0.945267</td>\n",
              "      <td>0.777748</td>\n",
              "    </tr>\n",
              "    <tr>\n",
              "      <td>700</td>\n",
              "      <td>0.216600</td>\n",
              "      <td>0.959435</td>\n",
              "      <td>0.784121</td>\n",
              "    </tr>\n",
              "    <tr>\n",
              "      <td>800</td>\n",
              "      <td>0.236100</td>\n",
              "      <td>0.938106</td>\n",
              "      <td>0.779607</td>\n",
              "    </tr>\n",
              "    <tr>\n",
              "      <td>900</td>\n",
              "      <td>0.163400</td>\n",
              "      <td>0.930125</td>\n",
              "      <td>0.793946</td>\n",
              "    </tr>\n",
              "    <tr>\n",
              "      <td>1000</td>\n",
              "      <td>0.089000</td>\n",
              "      <td>0.936101</td>\n",
              "      <td>0.797132</td>\n",
              "    </tr>\n",
              "  </tbody>\n",
              "</table><p>"
            ],
            "text/plain": [
              "<IPython.core.display.HTML object>"
            ]
          },
          "metadata": {},
          "output_type": "display_data"
        },
        {
          "data": {
            "text/html": [],
            "text/plain": [
              "<IPython.core.display.HTML object>"
            ]
          },
          "metadata": {},
          "output_type": "display_data"
        },
        {
          "name": "stdout",
          "output_type": "stream",
          "text": [
            "Точность нейросети: 0.7851832182687202\n"
          ]
        }
      ],
      "source": [
        "def compute_metrics(eval_pred):\n",
        "    \"\"\"Вычисление метрик на валидации, подается в Trainer\"\"\"\n",
        "    logits, labels = eval_pred\n",
        "    predictions = np.argmax(logits, axis=1)\n",
        "    return {\"accuracy\": metrics.accuracy_score(labels, predictions)}\n",
        "\n",
        "os.environ[\"WANDB_PROJECT\"] = \"bert\"  # Задаем имя проекта в wandb\n",
        "\n",
        "class CustomTrainer(Trainer):\n",
        "    def compute_loss(self, model, inputs, return_outputs=False):\n",
        "        outputs = model(\n",
        "            input_ids=inputs['input_ids'],\n",
        "            attention_mask=inputs['attention_mask'],\n",
        "            # token_type_ids=inputs['token_type_ids']\n",
        "        )\n",
        "        loss = torch.nn.CrossEntropyLoss()(outputs['logits'], inputs['labels'])\n",
        "        return (loss, outputs) if return_outputs else loss\n",
        "\n",
        "trainer = CustomTrainer(\n",
        "    model=model,\n",
        "    args=TrainingArguments(\n",
        "        output_dir=\"bert\",\n",
        "        learning_rate=3e-4,\n",
        "        per_device_train_batch_size=40,\n",
        "        per_device_eval_batch_size=40,\n",
        "        max_steps=1000,\n",
        "        weight_decay=0.03,\n",
        "        logging_strategy=\"steps\",\n",
        "        logging_steps=100,\n",
        "        evaluation_strategy=\"steps\",\n",
        "        eval_steps=100,\n",
        "        report_to=\"wandb\"\n",
        "    ),\n",
        "    train_dataset=tokenized_train,\n",
        "    eval_dataset=tokenized_val,\n",
        "    tokenizer=tokenizer,\n",
        "    data_collator=DataCollatorWithPadding(tokenizer=tokenizer),\n",
        "    compute_metrics=compute_metrics\n",
        ")\n",
        "\n",
        "trainer.train()  # дообучение\n",
        "bert_predictions = np.argmax(trainer.predict(tokenized_test).predictions, axis=1)\n",
        "print('Точность нейросети:', np.mean(y_test == bert_predictions))"
      ]
    },
    {
      "cell_type": "markdown",
      "metadata": {
        "id": "ipPlzX8ANhdt"
      },
      "source": [
        "Сравните качество моделей на тестовой выборке. Можно ли с уверенностью утверждать, что одна из моделей лучше другой?"
      ]
    },
    {
      "cell_type": "code",
      "execution_count": 14,
      "metadata": {
        "colab": {
          "base_uri": "https://localhost:8080/"
        },
        "id": "an7-35SSNhdt",
        "outputId": "1cdb8d00-a41d-476f-f9d9-bf427bc651a8"
      },
      "outputs": [
        {
          "name": "stdout",
          "output_type": "stream",
          "text": [
            "0.7419012214551248 0.7851832182687202\n"
          ]
        },
        {
          "data": {
            "text/plain": [
              "TtestResult(statistic=-6.241015354992777, pvalue=4.829375865908613e-10, df=3765)"
            ]
          },
          "execution_count": 14,
          "metadata": {},
          "output_type": "execute_result"
        }
      ],
      "source": [
        "is_error_nb = (y_test == nb_predictions).astype(np.int32)\n",
        "is_error_bert = (y_test == bert_predictions).astype(np.int32)\n",
        "print(np.mean(is_error_nb), np.mean(is_error_bert))  # Убедимся, что всё правильно посчитали и точность не изменилась\n",
        "\n",
        "ttest_rel(is_error_nb, is_error_bert)"
      ]
    },
    {
      "cell_type": "markdown",
      "metadata": {
        "id": "MfCCEOgxsQAZ"
      },
      "source": [
        "*Видно, что pvalue < 0.05, а значит есть статистическое доказательство того, что берт справляется с задачей значимо лучше наивного байесовского классификатора*"
      ]
    },
    {
      "cell_type": "markdown",
      "metadata": {
        "id": "DWJK7_1QNhdt"
      },
      "source": [
        "Сделайте выводы."
      ]
    },
    {
      "cell_type": "markdown",
      "metadata": {},
      "source": [
        "*В рамках задачи удалось обучить два текстовых классификатора: наивный байесовский бейзлайн и нейросеть. Наивный Байес уже продемонстрировал достаточно высокое качество, что подчеркивает почему этот подход так часто используют в качестве бейзлайна. Позже удалось обучить нейросеть, показавшую статистически значимый прирост по точности*"
      ]
    },
    {
      "cell_type": "markdown",
      "metadata": {
        "id": "rIYqdhUmNhdt"
      },
      "source": [
        "---\n",
        "### Задача 4.\n",
        "\n",
        "Пусть $\\mathscr{X} = \\mathbb{R}^d$ — пространство признаков, $\\mathscr{Y} = \\{0, 1\\}$ — множество классов. Рассматривается квадратичный дискриминантный анализ (QDA), в котором условное распределение $X$ при условии $Y=k$ равно $\\mathcal{N}(a_k, \\Sigma_k)$. Разделяющей поверхностью между классами $k$ и $\\ell$ называется множество точек пространства признаков, для которых вероятность этих двух классов одинакова.\n",
        "\n",
        "**1.**\n",
        "Покажите, что в модели QDA разделяющие поверхности в общем случае квадратичны, а в LDA &mdash; линейны между любыми двумя классами.\n",
        "\n",
        "*Примечание.* В LDA предполагается $\\Sigma_1 = ... = \\Sigma_k$.\n",
        "\n",
        "**2.**\n",
        "Рассмотрим квадратичный дискриминантный анализ при $d=2$. Приведите примеры таких параметров $a_k, \\Sigma_k$ и вероятностей $\\mathsf{P}(Y = k)$, при которых разделяющая поверхность является\n",
        "* гиперболой;\n",
        "* параболой;\n",
        "* двумя параллельными прямыми;\n",
        "* двумя пересекающимися прямыми.\n",
        "\n",
        "*Примечание.* Можно подобрать выборку, посчитать оценки со страшными числами. Но еще лучше &mdash; немного подумать и привести пример с \"красивыми\" числами без какого-либо подбора выборки. В данном случае это довольно просто, а также позволяет лучше разобраться в параметрах многомерного нормального распределения.\n"
      ]
    },
    {
      "cell_type": "markdown",
      "metadata": {
        "id": "Gam3Es46o1w4"
      },
      "source": [
        "*Решение теоретических задач прикрепил отдельным файлом*"
      ]
    }
  ],
  "metadata": {
    "accelerator": "GPU",
    "colab": {
      "collapsed_sections": [
        "hYgTespbkXej",
        "ZH_7vCIE4Md7"
      ],
      "gpuType": "T4",
      "provenance": []
    },
    "hide_input": false,
    "kernelspec": {
      "display_name": "Python 3",
      "name": "python3"
    },
    "language_info": {
      "codemirror_mode": {
        "name": "ipython",
        "version": 3
      },
      "file_extension": ".py",
      "mimetype": "text/x-python",
      "name": "python",
      "nbconvert_exporter": "python",
      "pygments_lexer": "ipython3",
      "version": "3.9.13"
    },
    "widgets": {
      "application/vnd.jupyter.widget-state+json": {
        "01719060bb404f61b043a056c2ae5b96": {
          "model_module": "@jupyter-widgets/controls",
          "model_module_version": "1.5.0",
          "model_name": "DescriptionStyleModel",
          "state": {
            "_model_module": "@jupyter-widgets/controls",
            "_model_module_version": "1.5.0",
            "_model_name": "DescriptionStyleModel",
            "_view_count": null,
            "_view_module": "@jupyter-widgets/base",
            "_view_module_version": "1.2.0",
            "_view_name": "StyleView",
            "description_width": ""
          }
        },
        "0326f724dff340e1b21dc0e1e745371b": {
          "model_module": "@jupyter-widgets/base",
          "model_module_version": "1.2.0",
          "model_name": "LayoutModel",
          "state": {
            "_model_module": "@jupyter-widgets/base",
            "_model_module_version": "1.2.0",
            "_model_name": "LayoutModel",
            "_view_count": null,
            "_view_module": "@jupyter-widgets/base",
            "_view_module_version": "1.2.0",
            "_view_name": "LayoutView",
            "align_content": null,
            "align_items": null,
            "align_self": null,
            "border": null,
            "bottom": null,
            "display": null,
            "flex": null,
            "flex_flow": null,
            "grid_area": null,
            "grid_auto_columns": null,
            "grid_auto_flow": null,
            "grid_auto_rows": null,
            "grid_column": null,
            "grid_gap": null,
            "grid_row": null,
            "grid_template_areas": null,
            "grid_template_columns": null,
            "grid_template_rows": null,
            "height": null,
            "justify_content": null,
            "justify_items": null,
            "left": null,
            "margin": null,
            "max_height": null,
            "max_width": null,
            "min_height": null,
            "min_width": null,
            "object_fit": null,
            "object_position": null,
            "order": null,
            "overflow": null,
            "overflow_x": null,
            "overflow_y": null,
            "padding": null,
            "right": null,
            "top": null,
            "visibility": null,
            "width": null
          }
        },
        "08b49916e460473190222243260bf5ca": {
          "model_module": "@jupyter-widgets/controls",
          "model_module_version": "1.5.0",
          "model_name": "ProgressStyleModel",
          "state": {
            "_model_module": "@jupyter-widgets/controls",
            "_model_module_version": "1.5.0",
            "_model_name": "ProgressStyleModel",
            "_view_count": null,
            "_view_module": "@jupyter-widgets/base",
            "_view_module_version": "1.2.0",
            "_view_name": "StyleView",
            "bar_color": null,
            "description_width": ""
          }
        },
        "098516ab6428406596c82a3c3c9d7e77": {
          "model_module": "@jupyter-widgets/controls",
          "model_module_version": "1.5.0",
          "model_name": "HBoxModel",
          "state": {
            "_dom_classes": [],
            "_model_module": "@jupyter-widgets/controls",
            "_model_module_version": "1.5.0",
            "_model_name": "HBoxModel",
            "_view_count": null,
            "_view_module": "@jupyter-widgets/controls",
            "_view_module_version": "1.5.0",
            "_view_name": "HBoxView",
            "box_style": "",
            "children": [
              "IPY_MODEL_9ac44ab84a0f40a8a9da60c6f0a4e3d3",
              "IPY_MODEL_8ded483c5f0c4ec2947419e5334f27c5",
              "IPY_MODEL_54ae40baf0ad47b088b722cf5d03028e"
            ],
            "layout": "IPY_MODEL_e0159a469a3140abac87a91a03fb6cf3"
          }
        },
        "0a741b3ff1464f8b9ad0afd9342d2163": {
          "model_module": "@jupyter-widgets/base",
          "model_module_version": "1.2.0",
          "model_name": "LayoutModel",
          "state": {
            "_model_module": "@jupyter-widgets/base",
            "_model_module_version": "1.2.0",
            "_model_name": "LayoutModel",
            "_view_count": null,
            "_view_module": "@jupyter-widgets/base",
            "_view_module_version": "1.2.0",
            "_view_name": "LayoutView",
            "align_content": null,
            "align_items": null,
            "align_self": null,
            "border": null,
            "bottom": null,
            "display": null,
            "flex": null,
            "flex_flow": null,
            "grid_area": null,
            "grid_auto_columns": null,
            "grid_auto_flow": null,
            "grid_auto_rows": null,
            "grid_column": null,
            "grid_gap": null,
            "grid_row": null,
            "grid_template_areas": null,
            "grid_template_columns": null,
            "grid_template_rows": null,
            "height": null,
            "justify_content": null,
            "justify_items": null,
            "left": null,
            "margin": null,
            "max_height": null,
            "max_width": null,
            "min_height": null,
            "min_width": null,
            "object_fit": null,
            "object_position": null,
            "order": null,
            "overflow": null,
            "overflow_x": null,
            "overflow_y": null,
            "padding": null,
            "right": null,
            "top": null,
            "visibility": null,
            "width": null
          }
        },
        "0c350dc97e0f4395957cbba6ddb54ee9": {
          "model_module": "@jupyter-widgets/base",
          "model_module_version": "1.2.0",
          "model_name": "LayoutModel",
          "state": {
            "_model_module": "@jupyter-widgets/base",
            "_model_module_version": "1.2.0",
            "_model_name": "LayoutModel",
            "_view_count": null,
            "_view_module": "@jupyter-widgets/base",
            "_view_module_version": "1.2.0",
            "_view_name": "LayoutView",
            "align_content": null,
            "align_items": null,
            "align_self": null,
            "border": null,
            "bottom": null,
            "display": null,
            "flex": null,
            "flex_flow": null,
            "grid_area": null,
            "grid_auto_columns": null,
            "grid_auto_flow": null,
            "grid_auto_rows": null,
            "grid_column": null,
            "grid_gap": null,
            "grid_row": null,
            "grid_template_areas": null,
            "grid_template_columns": null,
            "grid_template_rows": null,
            "height": null,
            "justify_content": null,
            "justify_items": null,
            "left": null,
            "margin": null,
            "max_height": null,
            "max_width": null,
            "min_height": null,
            "min_width": null,
            "object_fit": null,
            "object_position": null,
            "order": null,
            "overflow": null,
            "overflow_x": null,
            "overflow_y": null,
            "padding": null,
            "right": null,
            "top": null,
            "visibility": null,
            "width": null
          }
        },
        "0f04133bf9c14dcaa4b1f3e6edbfbca3": {
          "model_module": "@jupyter-widgets/base",
          "model_module_version": "1.2.0",
          "model_name": "LayoutModel",
          "state": {
            "_model_module": "@jupyter-widgets/base",
            "_model_module_version": "1.2.0",
            "_model_name": "LayoutModel",
            "_view_count": null,
            "_view_module": "@jupyter-widgets/base",
            "_view_module_version": "1.2.0",
            "_view_name": "LayoutView",
            "align_content": null,
            "align_items": null,
            "align_self": null,
            "border": null,
            "bottom": null,
            "display": null,
            "flex": null,
            "flex_flow": null,
            "grid_area": null,
            "grid_auto_columns": null,
            "grid_auto_flow": null,
            "grid_auto_rows": null,
            "grid_column": null,
            "grid_gap": null,
            "grid_row": null,
            "grid_template_areas": null,
            "grid_template_columns": null,
            "grid_template_rows": null,
            "height": null,
            "justify_content": null,
            "justify_items": null,
            "left": null,
            "margin": null,
            "max_height": null,
            "max_width": null,
            "min_height": null,
            "min_width": null,
            "object_fit": null,
            "object_position": null,
            "order": null,
            "overflow": null,
            "overflow_x": null,
            "overflow_y": null,
            "padding": null,
            "right": null,
            "top": null,
            "visibility": null,
            "width": null
          }
        },
        "1b208ad6c61144e6b3e3cfe10f3657bb": {
          "model_module": "@jupyter-widgets/base",
          "model_module_version": "1.2.0",
          "model_name": "LayoutModel",
          "state": {
            "_model_module": "@jupyter-widgets/base",
            "_model_module_version": "1.2.0",
            "_model_name": "LayoutModel",
            "_view_count": null,
            "_view_module": "@jupyter-widgets/base",
            "_view_module_version": "1.2.0",
            "_view_name": "LayoutView",
            "align_content": null,
            "align_items": null,
            "align_self": null,
            "border": null,
            "bottom": null,
            "display": null,
            "flex": null,
            "flex_flow": null,
            "grid_area": null,
            "grid_auto_columns": null,
            "grid_auto_flow": null,
            "grid_auto_rows": null,
            "grid_column": null,
            "grid_gap": null,
            "grid_row": null,
            "grid_template_areas": null,
            "grid_template_columns": null,
            "grid_template_rows": null,
            "height": null,
            "justify_content": null,
            "justify_items": null,
            "left": null,
            "margin": null,
            "max_height": null,
            "max_width": null,
            "min_height": null,
            "min_width": null,
            "object_fit": null,
            "object_position": null,
            "order": null,
            "overflow": null,
            "overflow_x": null,
            "overflow_y": null,
            "padding": null,
            "right": null,
            "top": null,
            "visibility": null,
            "width": null
          }
        },
        "2254cb2faede4d8c8747b87712b68685": {
          "model_module": "@jupyter-widgets/base",
          "model_module_version": "1.2.0",
          "model_name": "LayoutModel",
          "state": {
            "_model_module": "@jupyter-widgets/base",
            "_model_module_version": "1.2.0",
            "_model_name": "LayoutModel",
            "_view_count": null,
            "_view_module": "@jupyter-widgets/base",
            "_view_module_version": "1.2.0",
            "_view_name": "LayoutView",
            "align_content": null,
            "align_items": null,
            "align_self": null,
            "border": null,
            "bottom": null,
            "display": null,
            "flex": null,
            "flex_flow": null,
            "grid_area": null,
            "grid_auto_columns": null,
            "grid_auto_flow": null,
            "grid_auto_rows": null,
            "grid_column": null,
            "grid_gap": null,
            "grid_row": null,
            "grid_template_areas": null,
            "grid_template_columns": null,
            "grid_template_rows": null,
            "height": null,
            "justify_content": null,
            "justify_items": null,
            "left": null,
            "margin": null,
            "max_height": null,
            "max_width": null,
            "min_height": null,
            "min_width": null,
            "object_fit": null,
            "object_position": null,
            "order": null,
            "overflow": null,
            "overflow_x": null,
            "overflow_y": null,
            "padding": null,
            "right": null,
            "top": null,
            "visibility": null,
            "width": null
          }
        },
        "22b0a30b2c134adfbe5d72b7aec363b3": {
          "model_module": "@jupyter-widgets/base",
          "model_module_version": "1.2.0",
          "model_name": "LayoutModel",
          "state": {
            "_model_module": "@jupyter-widgets/base",
            "_model_module_version": "1.2.0",
            "_model_name": "LayoutModel",
            "_view_count": null,
            "_view_module": "@jupyter-widgets/base",
            "_view_module_version": "1.2.0",
            "_view_name": "LayoutView",
            "align_content": null,
            "align_items": null,
            "align_self": null,
            "border": null,
            "bottom": null,
            "display": null,
            "flex": null,
            "flex_flow": null,
            "grid_area": null,
            "grid_auto_columns": null,
            "grid_auto_flow": null,
            "grid_auto_rows": null,
            "grid_column": null,
            "grid_gap": null,
            "grid_row": null,
            "grid_template_areas": null,
            "grid_template_columns": null,
            "grid_template_rows": null,
            "height": null,
            "justify_content": null,
            "justify_items": null,
            "left": null,
            "margin": null,
            "max_height": null,
            "max_width": null,
            "min_height": null,
            "min_width": null,
            "object_fit": null,
            "object_position": null,
            "order": null,
            "overflow": null,
            "overflow_x": null,
            "overflow_y": null,
            "padding": null,
            "right": null,
            "top": null,
            "visibility": null,
            "width": null
          }
        },
        "23e36a5ccc5a4ce8949dc20a2fa4c785": {
          "model_module": "@jupyter-widgets/controls",
          "model_module_version": "1.5.0",
          "model_name": "HTMLModel",
          "state": {
            "_dom_classes": [],
            "_model_module": "@jupyter-widgets/controls",
            "_model_module_version": "1.5.0",
            "_model_name": "HTMLModel",
            "_view_count": null,
            "_view_module": "@jupyter-widgets/controls",
            "_view_module_version": "1.5.0",
            "_view_name": "HTMLView",
            "description": "",
            "description_tooltip": null,
            "layout": "IPY_MODEL_0c350dc97e0f4395957cbba6ddb54ee9",
            "placeholder": "​",
            "style": "IPY_MODEL_c378aa53490144329415767655c3697f",
            "value": "vocab.txt: 100%"
          }
        },
        "25899715c07d477abb4bf1f4aa9b7a28": {
          "model_module": "@jupyter-widgets/base",
          "model_module_version": "1.2.0",
          "model_name": "LayoutModel",
          "state": {
            "_model_module": "@jupyter-widgets/base",
            "_model_module_version": "1.2.0",
            "_model_name": "LayoutModel",
            "_view_count": null,
            "_view_module": "@jupyter-widgets/base",
            "_view_module_version": "1.2.0",
            "_view_name": "LayoutView",
            "align_content": null,
            "align_items": null,
            "align_self": null,
            "border": null,
            "bottom": null,
            "display": null,
            "flex": null,
            "flex_flow": null,
            "grid_area": null,
            "grid_auto_columns": null,
            "grid_auto_flow": null,
            "grid_auto_rows": null,
            "grid_column": null,
            "grid_gap": null,
            "grid_row": null,
            "grid_template_areas": null,
            "grid_template_columns": null,
            "grid_template_rows": null,
            "height": null,
            "justify_content": null,
            "justify_items": null,
            "left": null,
            "margin": null,
            "max_height": null,
            "max_width": null,
            "min_height": null,
            "min_width": null,
            "object_fit": null,
            "object_position": null,
            "order": null,
            "overflow": null,
            "overflow_x": null,
            "overflow_y": null,
            "padding": null,
            "right": null,
            "top": null,
            "visibility": null,
            "width": null
          }
        },
        "28daa3816b2e4be4852c91658e589043": {
          "model_module": "@jupyter-widgets/base",
          "model_module_version": "1.2.0",
          "model_name": "LayoutModel",
          "state": {
            "_model_module": "@jupyter-widgets/base",
            "_model_module_version": "1.2.0",
            "_model_name": "LayoutModel",
            "_view_count": null,
            "_view_module": "@jupyter-widgets/base",
            "_view_module_version": "1.2.0",
            "_view_name": "LayoutView",
            "align_content": null,
            "align_items": null,
            "align_self": null,
            "border": null,
            "bottom": null,
            "display": null,
            "flex": null,
            "flex_flow": null,
            "grid_area": null,
            "grid_auto_columns": null,
            "grid_auto_flow": null,
            "grid_auto_rows": null,
            "grid_column": null,
            "grid_gap": null,
            "grid_row": null,
            "grid_template_areas": null,
            "grid_template_columns": null,
            "grid_template_rows": null,
            "height": null,
            "justify_content": null,
            "justify_items": null,
            "left": null,
            "margin": null,
            "max_height": null,
            "max_width": null,
            "min_height": null,
            "min_width": null,
            "object_fit": null,
            "object_position": null,
            "order": null,
            "overflow": null,
            "overflow_x": null,
            "overflow_y": null,
            "padding": null,
            "right": null,
            "top": null,
            "visibility": null,
            "width": null
          }
        },
        "2ae3b595544c46abad9313f8e2bb4865": {
          "model_module": "@jupyter-widgets/controls",
          "model_module_version": "1.5.0",
          "model_name": "DescriptionStyleModel",
          "state": {
            "_model_module": "@jupyter-widgets/controls",
            "_model_module_version": "1.5.0",
            "_model_name": "DescriptionStyleModel",
            "_view_count": null,
            "_view_module": "@jupyter-widgets/base",
            "_view_module_version": "1.2.0",
            "_view_name": "StyleView",
            "description_width": ""
          }
        },
        "2e975f4732fe47a0a2520066cf2545c2": {
          "model_module": "@jupyter-widgets/controls",
          "model_module_version": "1.5.0",
          "model_name": "ProgressStyleModel",
          "state": {
            "_model_module": "@jupyter-widgets/controls",
            "_model_module_version": "1.5.0",
            "_model_name": "ProgressStyleModel",
            "_view_count": null,
            "_view_module": "@jupyter-widgets/base",
            "_view_module_version": "1.2.0",
            "_view_name": "StyleView",
            "bar_color": null,
            "description_width": ""
          }
        },
        "350ab915b6c9428f849f36647cad42c5": {
          "model_module": "@jupyter-widgets/controls",
          "model_module_version": "1.5.0",
          "model_name": "HTMLModel",
          "state": {
            "_dom_classes": [],
            "_model_module": "@jupyter-widgets/controls",
            "_model_module_version": "1.5.0",
            "_model_name": "HTMLModel",
            "_view_count": null,
            "_view_module": "@jupyter-widgets/controls",
            "_view_module_version": "1.5.0",
            "_view_name": "HTMLView",
            "description": "",
            "description_tooltip": null,
            "layout": "IPY_MODEL_65cd565e87364573a69ce3ba2b1044ac",
            "placeholder": "​",
            "style": "IPY_MODEL_82fcc315c2e546b29b17660c810dda2d",
            "value": " 3766/3766 [00:22&lt;00:00, 166.01 examples/s]"
          }
        },
        "355f03e11ed542f4860fbb017767e12e": {
          "model_module": "@jupyter-widgets/controls",
          "model_module_version": "1.5.0",
          "model_name": "DescriptionStyleModel",
          "state": {
            "_model_module": "@jupyter-widgets/controls",
            "_model_module_version": "1.5.0",
            "_model_name": "DescriptionStyleModel",
            "_view_count": null,
            "_view_module": "@jupyter-widgets/base",
            "_view_module_version": "1.2.0",
            "_view_name": "StyleView",
            "description_width": ""
          }
        },
        "4126875707174eaa83540cb226cc9c21": {
          "model_module": "@jupyter-widgets/controls",
          "model_module_version": "1.5.0",
          "model_name": "HBoxModel",
          "state": {
            "_dom_classes": [],
            "_model_module": "@jupyter-widgets/controls",
            "_model_module_version": "1.5.0",
            "_model_name": "HBoxModel",
            "_view_count": null,
            "_view_module": "@jupyter-widgets/controls",
            "_view_module_version": "1.5.0",
            "_view_name": "HBoxView",
            "box_style": "",
            "children": [
              "IPY_MODEL_6c345067bb1d413f9942252b63a682a5",
              "IPY_MODEL_fcf770ddc7c749e6944c5707c8445a44",
              "IPY_MODEL_54f62d50d1074bb7b27af14e6de3c0af"
            ],
            "layout": "IPY_MODEL_25899715c07d477abb4bf1f4aa9b7a28"
          }
        },
        "47a899af14d34b939a60eecf66046cbf": {
          "model_module": "@jupyter-widgets/base",
          "model_module_version": "1.2.0",
          "model_name": "LayoutModel",
          "state": {
            "_model_module": "@jupyter-widgets/base",
            "_model_module_version": "1.2.0",
            "_model_name": "LayoutModel",
            "_view_count": null,
            "_view_module": "@jupyter-widgets/base",
            "_view_module_version": "1.2.0",
            "_view_name": "LayoutView",
            "align_content": null,
            "align_items": null,
            "align_self": null,
            "border": null,
            "bottom": null,
            "display": null,
            "flex": null,
            "flex_flow": null,
            "grid_area": null,
            "grid_auto_columns": null,
            "grid_auto_flow": null,
            "grid_auto_rows": null,
            "grid_column": null,
            "grid_gap": null,
            "grid_row": null,
            "grid_template_areas": null,
            "grid_template_columns": null,
            "grid_template_rows": null,
            "height": null,
            "justify_content": null,
            "justify_items": null,
            "left": null,
            "margin": null,
            "max_height": null,
            "max_width": null,
            "min_height": null,
            "min_width": null,
            "object_fit": null,
            "object_position": null,
            "order": null,
            "overflow": null,
            "overflow_x": null,
            "overflow_y": null,
            "padding": null,
            "right": null,
            "top": null,
            "visibility": null,
            "width": null
          }
        },
        "4d3c4a38d80746fb8ec450bb239ab98e": {
          "model_module": "@jupyter-widgets/controls",
          "model_module_version": "1.5.0",
          "model_name": "HBoxModel",
          "state": {
            "_dom_classes": [],
            "_model_module": "@jupyter-widgets/controls",
            "_model_module_version": "1.5.0",
            "_model_name": "HBoxModel",
            "_view_count": null,
            "_view_module": "@jupyter-widgets/controls",
            "_view_module_version": "1.5.0",
            "_view_name": "HBoxView",
            "box_style": "",
            "children": [
              "IPY_MODEL_23e36a5ccc5a4ce8949dc20a2fa4c785",
              "IPY_MODEL_8a3ee60dfc1846eaa6ae4d02de376479",
              "IPY_MODEL_860eb3615e40406aa78f648984e06f26"
            ],
            "layout": "IPY_MODEL_76a1dfd885f6474f92241a9d28e9266b"
          }
        },
        "54ae40baf0ad47b088b722cf5d03028e": {
          "model_module": "@jupyter-widgets/controls",
          "model_module_version": "1.5.0",
          "model_name": "HTMLModel",
          "state": {
            "_dom_classes": [],
            "_model_module": "@jupyter-widgets/controls",
            "_model_module_version": "1.5.0",
            "_model_name": "HTMLModel",
            "_view_count": null,
            "_view_module": "@jupyter-widgets/controls",
            "_view_module_version": "1.5.0",
            "_view_name": "HTMLView",
            "description": "",
            "description_tooltip": null,
            "layout": "IPY_MODEL_a50e0621bf3c41908663e4b03bd70fb5",
            "placeholder": "​",
            "style": "IPY_MODEL_f3912f74e9fe46debcb8adeccf9fc9ac",
            "value": " 268M/268M [00:02&lt;00:00, 170MB/s]"
          }
        },
        "54f62d50d1074bb7b27af14e6de3c0af": {
          "model_module": "@jupyter-widgets/controls",
          "model_module_version": "1.5.0",
          "model_name": "HTMLModel",
          "state": {
            "_dom_classes": [],
            "_model_module": "@jupyter-widgets/controls",
            "_model_module_version": "1.5.0",
            "_model_name": "HTMLModel",
            "_view_count": null,
            "_view_module": "@jupyter-widgets/controls",
            "_view_module_version": "1.5.0",
            "_view_name": "HTMLView",
            "description": "",
            "description_tooltip": null,
            "layout": "IPY_MODEL_47a899af14d34b939a60eecf66046cbf",
            "placeholder": "​",
            "style": "IPY_MODEL_872596925d624ddb9aa8d8545241474b",
            "value": " 3766/3766 [00:22&lt;00:00, 168.22 examples/s]"
          }
        },
        "56d6a365b59f4b1f8ea5ae6edc97515a": {
          "model_module": "@jupyter-widgets/controls",
          "model_module_version": "1.5.0",
          "model_name": "DescriptionStyleModel",
          "state": {
            "_model_module": "@jupyter-widgets/controls",
            "_model_module_version": "1.5.0",
            "_model_name": "DescriptionStyleModel",
            "_view_count": null,
            "_view_module": "@jupyter-widgets/base",
            "_view_module_version": "1.2.0",
            "_view_name": "StyleView",
            "description_width": ""
          }
        },
        "572b71b286a94ee08b52ce9c168e7f3a": {
          "model_module": "@jupyter-widgets/base",
          "model_module_version": "1.2.0",
          "model_name": "LayoutModel",
          "state": {
            "_model_module": "@jupyter-widgets/base",
            "_model_module_version": "1.2.0",
            "_model_name": "LayoutModel",
            "_view_count": null,
            "_view_module": "@jupyter-widgets/base",
            "_view_module_version": "1.2.0",
            "_view_name": "LayoutView",
            "align_content": null,
            "align_items": null,
            "align_self": null,
            "border": null,
            "bottom": null,
            "display": null,
            "flex": null,
            "flex_flow": null,
            "grid_area": null,
            "grid_auto_columns": null,
            "grid_auto_flow": null,
            "grid_auto_rows": null,
            "grid_column": null,
            "grid_gap": null,
            "grid_row": null,
            "grid_template_areas": null,
            "grid_template_columns": null,
            "grid_template_rows": null,
            "height": null,
            "justify_content": null,
            "justify_items": null,
            "left": null,
            "margin": null,
            "max_height": null,
            "max_width": null,
            "min_height": null,
            "min_width": null,
            "object_fit": null,
            "object_position": null,
            "order": null,
            "overflow": null,
            "overflow_x": null,
            "overflow_y": null,
            "padding": null,
            "right": null,
            "top": null,
            "visibility": null,
            "width": null
          }
        },
        "65cd565e87364573a69ce3ba2b1044ac": {
          "model_module": "@jupyter-widgets/base",
          "model_module_version": "1.2.0",
          "model_name": "LayoutModel",
          "state": {
            "_model_module": "@jupyter-widgets/base",
            "_model_module_version": "1.2.0",
            "_model_name": "LayoutModel",
            "_view_count": null,
            "_view_module": "@jupyter-widgets/base",
            "_view_module_version": "1.2.0",
            "_view_name": "LayoutView",
            "align_content": null,
            "align_items": null,
            "align_self": null,
            "border": null,
            "bottom": null,
            "display": null,
            "flex": null,
            "flex_flow": null,
            "grid_area": null,
            "grid_auto_columns": null,
            "grid_auto_flow": null,
            "grid_auto_rows": null,
            "grid_column": null,
            "grid_gap": null,
            "grid_row": null,
            "grid_template_areas": null,
            "grid_template_columns": null,
            "grid_template_rows": null,
            "height": null,
            "justify_content": null,
            "justify_items": null,
            "left": null,
            "margin": null,
            "max_height": null,
            "max_width": null,
            "min_height": null,
            "min_width": null,
            "object_fit": null,
            "object_position": null,
            "order": null,
            "overflow": null,
            "overflow_x": null,
            "overflow_y": null,
            "padding": null,
            "right": null,
            "top": null,
            "visibility": null,
            "width": null
          }
        },
        "6911aa186fed4a4aa817e172ca156beb": {
          "model_module": "@jupyter-widgets/controls",
          "model_module_version": "1.5.0",
          "model_name": "HBoxModel",
          "state": {
            "_dom_classes": [],
            "_model_module": "@jupyter-widgets/controls",
            "_model_module_version": "1.5.0",
            "_model_name": "HBoxModel",
            "_view_count": null,
            "_view_module": "@jupyter-widgets/controls",
            "_view_module_version": "1.5.0",
            "_view_name": "HBoxView",
            "box_style": "",
            "children": [
              "IPY_MODEL_cdf6bd3a76dd45bba33312bb745f40a1",
              "IPY_MODEL_926822b2710b4224b6f701961ff96f6c",
              "IPY_MODEL_f1c0c62aea164e699329a6a0b1bb6d4f"
            ],
            "layout": "IPY_MODEL_22b0a30b2c134adfbe5d72b7aec363b3"
          }
        },
        "6c345067bb1d413f9942252b63a682a5": {
          "model_module": "@jupyter-widgets/controls",
          "model_module_version": "1.5.0",
          "model_name": "HTMLModel",
          "state": {
            "_dom_classes": [],
            "_model_module": "@jupyter-widgets/controls",
            "_model_module_version": "1.5.0",
            "_model_name": "HTMLModel",
            "_view_count": null,
            "_view_module": "@jupyter-widgets/controls",
            "_view_module_version": "1.5.0",
            "_view_name": "HTMLView",
            "description": "",
            "description_tooltip": null,
            "layout": "IPY_MODEL_8f9a2673b7204506a8b3406023a5a9fc",
            "placeholder": "​",
            "style": "IPY_MODEL_355f03e11ed542f4860fbb017767e12e",
            "value": "Map: 100%"
          }
        },
        "6e3af27e026c463789b2787a5f1f8697": {
          "model_module": "@jupyter-widgets/base",
          "model_module_version": "1.2.0",
          "model_name": "LayoutModel",
          "state": {
            "_model_module": "@jupyter-widgets/base",
            "_model_module_version": "1.2.0",
            "_model_name": "LayoutModel",
            "_view_count": null,
            "_view_module": "@jupyter-widgets/base",
            "_view_module_version": "1.2.0",
            "_view_name": "LayoutView",
            "align_content": null,
            "align_items": null,
            "align_self": null,
            "border": null,
            "bottom": null,
            "display": null,
            "flex": null,
            "flex_flow": null,
            "grid_area": null,
            "grid_auto_columns": null,
            "grid_auto_flow": null,
            "grid_auto_rows": null,
            "grid_column": null,
            "grid_gap": null,
            "grid_row": null,
            "grid_template_areas": null,
            "grid_template_columns": null,
            "grid_template_rows": null,
            "height": null,
            "justify_content": null,
            "justify_items": null,
            "left": null,
            "margin": null,
            "max_height": null,
            "max_width": null,
            "min_height": null,
            "min_width": null,
            "object_fit": null,
            "object_position": null,
            "order": null,
            "overflow": null,
            "overflow_x": null,
            "overflow_y": null,
            "padding": null,
            "right": null,
            "top": null,
            "visibility": null,
            "width": null
          }
        },
        "76a1dfd885f6474f92241a9d28e9266b": {
          "model_module": "@jupyter-widgets/base",
          "model_module_version": "1.2.0",
          "model_name": "LayoutModel",
          "state": {
            "_model_module": "@jupyter-widgets/base",
            "_model_module_version": "1.2.0",
            "_model_name": "LayoutModel",
            "_view_count": null,
            "_view_module": "@jupyter-widgets/base",
            "_view_module_version": "1.2.0",
            "_view_name": "LayoutView",
            "align_content": null,
            "align_items": null,
            "align_self": null,
            "border": null,
            "bottom": null,
            "display": null,
            "flex": null,
            "flex_flow": null,
            "grid_area": null,
            "grid_auto_columns": null,
            "grid_auto_flow": null,
            "grid_auto_rows": null,
            "grid_column": null,
            "grid_gap": null,
            "grid_row": null,
            "grid_template_areas": null,
            "grid_template_columns": null,
            "grid_template_rows": null,
            "height": null,
            "justify_content": null,
            "justify_items": null,
            "left": null,
            "margin": null,
            "max_height": null,
            "max_width": null,
            "min_height": null,
            "min_width": null,
            "object_fit": null,
            "object_position": null,
            "order": null,
            "overflow": null,
            "overflow_x": null,
            "overflow_y": null,
            "padding": null,
            "right": null,
            "top": null,
            "visibility": null,
            "width": null
          }
        },
        "78a39604dda240fdb6933d59f1c23a2e": {
          "model_module": "@jupyter-widgets/controls",
          "model_module_version": "1.5.0",
          "model_name": "ProgressStyleModel",
          "state": {
            "_model_module": "@jupyter-widgets/controls",
            "_model_module_version": "1.5.0",
            "_model_name": "ProgressStyleModel",
            "_view_count": null,
            "_view_module": "@jupyter-widgets/base",
            "_view_module_version": "1.2.0",
            "_view_name": "StyleView",
            "bar_color": null,
            "description_width": ""
          }
        },
        "78e95c7e3c894d1688c8c203646a1d53": {
          "model_module": "@jupyter-widgets/controls",
          "model_module_version": "1.5.0",
          "model_name": "HTMLModel",
          "state": {
            "_dom_classes": [],
            "_model_module": "@jupyter-widgets/controls",
            "_model_module_version": "1.5.0",
            "_model_name": "HTMLModel",
            "_view_count": null,
            "_view_module": "@jupyter-widgets/controls",
            "_view_module_version": "1.5.0",
            "_view_name": "HTMLView",
            "description": "",
            "description_tooltip": null,
            "layout": "IPY_MODEL_baeb3011ca7d46049d5801eac34efcd7",
            "placeholder": "​",
            "style": "IPY_MODEL_93471fcfd24f4ba4a37b7e92a0d0f268",
            "value": "Map: 100%"
          }
        },
        "7ffb2e7398f84523928807f9e8ec8f6c": {
          "model_module": "@jupyter-widgets/base",
          "model_module_version": "1.2.0",
          "model_name": "LayoutModel",
          "state": {
            "_model_module": "@jupyter-widgets/base",
            "_model_module_version": "1.2.0",
            "_model_name": "LayoutModel",
            "_view_count": null,
            "_view_module": "@jupyter-widgets/base",
            "_view_module_version": "1.2.0",
            "_view_name": "LayoutView",
            "align_content": null,
            "align_items": null,
            "align_self": null,
            "border": null,
            "bottom": null,
            "display": null,
            "flex": null,
            "flex_flow": null,
            "grid_area": null,
            "grid_auto_columns": null,
            "grid_auto_flow": null,
            "grid_auto_rows": null,
            "grid_column": null,
            "grid_gap": null,
            "grid_row": null,
            "grid_template_areas": null,
            "grid_template_columns": null,
            "grid_template_rows": null,
            "height": null,
            "justify_content": null,
            "justify_items": null,
            "left": null,
            "margin": null,
            "max_height": null,
            "max_width": null,
            "min_height": null,
            "min_width": null,
            "object_fit": null,
            "object_position": null,
            "order": null,
            "overflow": null,
            "overflow_x": null,
            "overflow_y": null,
            "padding": null,
            "right": null,
            "top": null,
            "visibility": null,
            "width": null
          }
        },
        "8053717e02cb48d2b19425bd93e88c68": {
          "model_module": "@jupyter-widgets/controls",
          "model_module_version": "1.5.0",
          "model_name": "HBoxModel",
          "state": {
            "_dom_classes": [],
            "_model_module": "@jupyter-widgets/controls",
            "_model_module_version": "1.5.0",
            "_model_name": "HBoxModel",
            "_view_count": null,
            "_view_module": "@jupyter-widgets/controls",
            "_view_module_version": "1.5.0",
            "_view_name": "HBoxView",
            "box_style": "",
            "children": [
              "IPY_MODEL_ed07d70fd8da4193bc0bb1d5f436dd00",
              "IPY_MODEL_9aececf8e17244fa9dcdefdac318d751",
              "IPY_MODEL_350ab915b6c9428f849f36647cad42c5"
            ],
            "layout": "IPY_MODEL_6e3af27e026c463789b2787a5f1f8697"
          }
        },
        "808a76e986bc43c68bdacaa1e36626b5": {
          "model_module": "@jupyter-widgets/base",
          "model_module_version": "1.2.0",
          "model_name": "LayoutModel",
          "state": {
            "_model_module": "@jupyter-widgets/base",
            "_model_module_version": "1.2.0",
            "_model_name": "LayoutModel",
            "_view_count": null,
            "_view_module": "@jupyter-widgets/base",
            "_view_module_version": "1.2.0",
            "_view_name": "LayoutView",
            "align_content": null,
            "align_items": null,
            "align_self": null,
            "border": null,
            "bottom": null,
            "display": null,
            "flex": null,
            "flex_flow": null,
            "grid_area": null,
            "grid_auto_columns": null,
            "grid_auto_flow": null,
            "grid_auto_rows": null,
            "grid_column": null,
            "grid_gap": null,
            "grid_row": null,
            "grid_template_areas": null,
            "grid_template_columns": null,
            "grid_template_rows": null,
            "height": null,
            "justify_content": null,
            "justify_items": null,
            "left": null,
            "margin": null,
            "max_height": null,
            "max_width": null,
            "min_height": null,
            "min_width": null,
            "object_fit": null,
            "object_position": null,
            "order": null,
            "overflow": null,
            "overflow_x": null,
            "overflow_y": null,
            "padding": null,
            "right": null,
            "top": null,
            "visibility": null,
            "width": null
          }
        },
        "82fcc315c2e546b29b17660c810dda2d": {
          "model_module": "@jupyter-widgets/controls",
          "model_module_version": "1.5.0",
          "model_name": "DescriptionStyleModel",
          "state": {
            "_model_module": "@jupyter-widgets/controls",
            "_model_module_version": "1.5.0",
            "_model_name": "DescriptionStyleModel",
            "_view_count": null,
            "_view_module": "@jupyter-widgets/base",
            "_view_module_version": "1.2.0",
            "_view_name": "StyleView",
            "description_width": ""
          }
        },
        "84a5a1e95ae842f781d09ecca167bbd6": {
          "model_module": "@jupyter-widgets/base",
          "model_module_version": "1.2.0",
          "model_name": "LayoutModel",
          "state": {
            "_model_module": "@jupyter-widgets/base",
            "_model_module_version": "1.2.0",
            "_model_name": "LayoutModel",
            "_view_count": null,
            "_view_module": "@jupyter-widgets/base",
            "_view_module_version": "1.2.0",
            "_view_name": "LayoutView",
            "align_content": null,
            "align_items": null,
            "align_self": null,
            "border": null,
            "bottom": null,
            "display": null,
            "flex": null,
            "flex_flow": null,
            "grid_area": null,
            "grid_auto_columns": null,
            "grid_auto_flow": null,
            "grid_auto_rows": null,
            "grid_column": null,
            "grid_gap": null,
            "grid_row": null,
            "grid_template_areas": null,
            "grid_template_columns": null,
            "grid_template_rows": null,
            "height": null,
            "justify_content": null,
            "justify_items": null,
            "left": null,
            "margin": null,
            "max_height": null,
            "max_width": null,
            "min_height": null,
            "min_width": null,
            "object_fit": null,
            "object_position": null,
            "order": null,
            "overflow": null,
            "overflow_x": null,
            "overflow_y": null,
            "padding": null,
            "right": null,
            "top": null,
            "visibility": null,
            "width": null
          }
        },
        "860eb3615e40406aa78f648984e06f26": {
          "model_module": "@jupyter-widgets/controls",
          "model_module_version": "1.5.0",
          "model_name": "HTMLModel",
          "state": {
            "_dom_classes": [],
            "_model_module": "@jupyter-widgets/controls",
            "_model_module_version": "1.5.0",
            "_model_name": "HTMLModel",
            "_view_count": null,
            "_view_module": "@jupyter-widgets/controls",
            "_view_module_version": "1.5.0",
            "_view_name": "HTMLView",
            "description": "",
            "description_tooltip": null,
            "layout": "IPY_MODEL_1b208ad6c61144e6b3e3cfe10f3657bb",
            "placeholder": "​",
            "style": "IPY_MODEL_ae9e3200fd634685bf1b51757d5a0919",
            "value": " 232k/232k [00:00&lt;00:00, 1.43MB/s]"
          }
        },
        "872596925d624ddb9aa8d8545241474b": {
          "model_module": "@jupyter-widgets/controls",
          "model_module_version": "1.5.0",
          "model_name": "DescriptionStyleModel",
          "state": {
            "_model_module": "@jupyter-widgets/controls",
            "_model_module_version": "1.5.0",
            "_model_name": "DescriptionStyleModel",
            "_view_count": null,
            "_view_module": "@jupyter-widgets/base",
            "_view_module_version": "1.2.0",
            "_view_name": "StyleView",
            "description_width": ""
          }
        },
        "89519bcba5d9438ba5dbb99a0e2375a3": {
          "model_module": "@jupyter-widgets/controls",
          "model_module_version": "1.5.0",
          "model_name": "DescriptionStyleModel",
          "state": {
            "_model_module": "@jupyter-widgets/controls",
            "_model_module_version": "1.5.0",
            "_model_name": "DescriptionStyleModel",
            "_view_count": null,
            "_view_module": "@jupyter-widgets/base",
            "_view_module_version": "1.2.0",
            "_view_name": "StyleView",
            "description_width": ""
          }
        },
        "8a3ee60dfc1846eaa6ae4d02de376479": {
          "model_module": "@jupyter-widgets/controls",
          "model_module_version": "1.5.0",
          "model_name": "FloatProgressModel",
          "state": {
            "_dom_classes": [],
            "_model_module": "@jupyter-widgets/controls",
            "_model_module_version": "1.5.0",
            "_model_name": "FloatProgressModel",
            "_view_count": null,
            "_view_module": "@jupyter-widgets/controls",
            "_view_module_version": "1.5.0",
            "_view_name": "ProgressView",
            "bar_style": "success",
            "description": "",
            "description_tooltip": null,
            "layout": "IPY_MODEL_d913ba66694e451894b2d6a9a632a3dd",
            "max": 231508,
            "min": 0,
            "orientation": "horizontal",
            "style": "IPY_MODEL_c7dcefb68ac04950aa5f88c0f055aceb",
            "value": 231508
          }
        },
        "8ded483c5f0c4ec2947419e5334f27c5": {
          "model_module": "@jupyter-widgets/controls",
          "model_module_version": "1.5.0",
          "model_name": "FloatProgressModel",
          "state": {
            "_dom_classes": [],
            "_model_module": "@jupyter-widgets/controls",
            "_model_module_version": "1.5.0",
            "_model_name": "FloatProgressModel",
            "_view_count": null,
            "_view_module": "@jupyter-widgets/controls",
            "_view_module_version": "1.5.0",
            "_view_name": "ProgressView",
            "bar_style": "success",
            "description": "",
            "description_tooltip": null,
            "layout": "IPY_MODEL_7ffb2e7398f84523928807f9e8ec8f6c",
            "max": 267832558,
            "min": 0,
            "orientation": "horizontal",
            "style": "IPY_MODEL_2e975f4732fe47a0a2520066cf2545c2",
            "value": 267832558
          }
        },
        "8f9a2673b7204506a8b3406023a5a9fc": {
          "model_module": "@jupyter-widgets/base",
          "model_module_version": "1.2.0",
          "model_name": "LayoutModel",
          "state": {
            "_model_module": "@jupyter-widgets/base",
            "_model_module_version": "1.2.0",
            "_model_name": "LayoutModel",
            "_view_count": null,
            "_view_module": "@jupyter-widgets/base",
            "_view_module_version": "1.2.0",
            "_view_name": "LayoutView",
            "align_content": null,
            "align_items": null,
            "align_self": null,
            "border": null,
            "bottom": null,
            "display": null,
            "flex": null,
            "flex_flow": null,
            "grid_area": null,
            "grid_auto_columns": null,
            "grid_auto_flow": null,
            "grid_auto_rows": null,
            "grid_column": null,
            "grid_gap": null,
            "grid_row": null,
            "grid_template_areas": null,
            "grid_template_columns": null,
            "grid_template_rows": null,
            "height": null,
            "justify_content": null,
            "justify_items": null,
            "left": null,
            "margin": null,
            "max_height": null,
            "max_width": null,
            "min_height": null,
            "min_width": null,
            "object_fit": null,
            "object_position": null,
            "order": null,
            "overflow": null,
            "overflow_x": null,
            "overflow_y": null,
            "padding": null,
            "right": null,
            "top": null,
            "visibility": null,
            "width": null
          }
        },
        "926822b2710b4224b6f701961ff96f6c": {
          "model_module": "@jupyter-widgets/controls",
          "model_module_version": "1.5.0",
          "model_name": "FloatProgressModel",
          "state": {
            "_dom_classes": [],
            "_model_module": "@jupyter-widgets/controls",
            "_model_module_version": "1.5.0",
            "_model_name": "FloatProgressModel",
            "_view_count": null,
            "_view_module": "@jupyter-widgets/controls",
            "_view_module_version": "1.5.0",
            "_view_name": "ProgressView",
            "bar_style": "success",
            "description": "",
            "description_tooltip": null,
            "layout": "IPY_MODEL_0a741b3ff1464f8b9ad0afd9342d2163",
            "max": 48,
            "min": 0,
            "orientation": "horizontal",
            "style": "IPY_MODEL_08b49916e460473190222243260bf5ca",
            "value": 48
          }
        },
        "93471fcfd24f4ba4a37b7e92a0d0f268": {
          "model_module": "@jupyter-widgets/controls",
          "model_module_version": "1.5.0",
          "model_name": "DescriptionStyleModel",
          "state": {
            "_model_module": "@jupyter-widgets/controls",
            "_model_module_version": "1.5.0",
            "_model_name": "DescriptionStyleModel",
            "_view_count": null,
            "_view_module": "@jupyter-widgets/base",
            "_view_module_version": "1.2.0",
            "_view_name": "StyleView",
            "description_width": ""
          }
        },
        "9ac44ab84a0f40a8a9da60c6f0a4e3d3": {
          "model_module": "@jupyter-widgets/controls",
          "model_module_version": "1.5.0",
          "model_name": "HTMLModel",
          "state": {
            "_dom_classes": [],
            "_model_module": "@jupyter-widgets/controls",
            "_model_module_version": "1.5.0",
            "_model_name": "HTMLModel",
            "_view_count": null,
            "_view_module": "@jupyter-widgets/controls",
            "_view_module_version": "1.5.0",
            "_view_name": "HTMLView",
            "description": "",
            "description_tooltip": null,
            "layout": "IPY_MODEL_84a5a1e95ae842f781d09ecca167bbd6",
            "placeholder": "​",
            "style": "IPY_MODEL_d626d606e607453a9a3820a3e1598588",
            "value": "model.safetensors: 100%"
          }
        },
        "9aececf8e17244fa9dcdefdac318d751": {
          "model_module": "@jupyter-widgets/controls",
          "model_module_version": "1.5.0",
          "model_name": "FloatProgressModel",
          "state": {
            "_dom_classes": [],
            "_model_module": "@jupyter-widgets/controls",
            "_model_module_version": "1.5.0",
            "_model_name": "FloatProgressModel",
            "_view_count": null,
            "_view_module": "@jupyter-widgets/controls",
            "_view_module_version": "1.5.0",
            "_view_name": "ProgressView",
            "bar_style": "success",
            "description": "",
            "description_tooltip": null,
            "layout": "IPY_MODEL_0326f724dff340e1b21dc0e1e745371b",
            "max": 3766,
            "min": 0,
            "orientation": "horizontal",
            "style": "IPY_MODEL_a6940e92d7d945338b003017ed78d2b9",
            "value": 3766
          }
        },
        "a337a094ab784bb5b94f388f27843189": {
          "model_module": "@jupyter-widgets/controls",
          "model_module_version": "1.5.0",
          "model_name": "ProgressStyleModel",
          "state": {
            "_model_module": "@jupyter-widgets/controls",
            "_model_module_version": "1.5.0",
            "_model_name": "ProgressStyleModel",
            "_view_count": null,
            "_view_module": "@jupyter-widgets/base",
            "_view_module_version": "1.2.0",
            "_view_name": "StyleView",
            "bar_color": null,
            "description_width": ""
          }
        },
        "a50e0621bf3c41908663e4b03bd70fb5": {
          "model_module": "@jupyter-widgets/base",
          "model_module_version": "1.2.0",
          "model_name": "LayoutModel",
          "state": {
            "_model_module": "@jupyter-widgets/base",
            "_model_module_version": "1.2.0",
            "_model_name": "LayoutModel",
            "_view_count": null,
            "_view_module": "@jupyter-widgets/base",
            "_view_module_version": "1.2.0",
            "_view_name": "LayoutView",
            "align_content": null,
            "align_items": null,
            "align_self": null,
            "border": null,
            "bottom": null,
            "display": null,
            "flex": null,
            "flex_flow": null,
            "grid_area": null,
            "grid_auto_columns": null,
            "grid_auto_flow": null,
            "grid_auto_rows": null,
            "grid_column": null,
            "grid_gap": null,
            "grid_row": null,
            "grid_template_areas": null,
            "grid_template_columns": null,
            "grid_template_rows": null,
            "height": null,
            "justify_content": null,
            "justify_items": null,
            "left": null,
            "margin": null,
            "max_height": null,
            "max_width": null,
            "min_height": null,
            "min_width": null,
            "object_fit": null,
            "object_position": null,
            "order": null,
            "overflow": null,
            "overflow_x": null,
            "overflow_y": null,
            "padding": null,
            "right": null,
            "top": null,
            "visibility": null,
            "width": null
          }
        },
        "a522daeaa4d74141a8b0cc29c9412031": {
          "model_module": "@jupyter-widgets/controls",
          "model_module_version": "1.5.0",
          "model_name": "ProgressStyleModel",
          "state": {
            "_model_module": "@jupyter-widgets/controls",
            "_model_module_version": "1.5.0",
            "_model_name": "ProgressStyleModel",
            "_view_count": null,
            "_view_module": "@jupyter-widgets/base",
            "_view_module_version": "1.2.0",
            "_view_name": "StyleView",
            "bar_color": null,
            "description_width": ""
          }
        },
        "a6940e92d7d945338b003017ed78d2b9": {
          "model_module": "@jupyter-widgets/controls",
          "model_module_version": "1.5.0",
          "model_name": "ProgressStyleModel",
          "state": {
            "_model_module": "@jupyter-widgets/controls",
            "_model_module_version": "1.5.0",
            "_model_name": "ProgressStyleModel",
            "_view_count": null,
            "_view_module": "@jupyter-widgets/base",
            "_view_module_version": "1.2.0",
            "_view_name": "StyleView",
            "bar_color": null,
            "description_width": ""
          }
        },
        "a6cf4bb4c16d4b039adc1c77e75b6de0": {
          "model_module": "@jupyter-widgets/base",
          "model_module_version": "1.2.0",
          "model_name": "LayoutModel",
          "state": {
            "_model_module": "@jupyter-widgets/base",
            "_model_module_version": "1.2.0",
            "_model_name": "LayoutModel",
            "_view_count": null,
            "_view_module": "@jupyter-widgets/base",
            "_view_module_version": "1.2.0",
            "_view_name": "LayoutView",
            "align_content": null,
            "align_items": null,
            "align_self": null,
            "border": null,
            "bottom": null,
            "display": null,
            "flex": null,
            "flex_flow": null,
            "grid_area": null,
            "grid_auto_columns": null,
            "grid_auto_flow": null,
            "grid_auto_rows": null,
            "grid_column": null,
            "grid_gap": null,
            "grid_row": null,
            "grid_template_areas": null,
            "grid_template_columns": null,
            "grid_template_rows": null,
            "height": null,
            "justify_content": null,
            "justify_items": null,
            "left": null,
            "margin": null,
            "max_height": null,
            "max_width": null,
            "min_height": null,
            "min_width": null,
            "object_fit": null,
            "object_position": null,
            "order": null,
            "overflow": null,
            "overflow_x": null,
            "overflow_y": null,
            "padding": null,
            "right": null,
            "top": null,
            "visibility": null,
            "width": null
          }
        },
        "ae9e3200fd634685bf1b51757d5a0919": {
          "model_module": "@jupyter-widgets/controls",
          "model_module_version": "1.5.0",
          "model_name": "DescriptionStyleModel",
          "state": {
            "_model_module": "@jupyter-widgets/controls",
            "_model_module_version": "1.5.0",
            "_model_name": "DescriptionStyleModel",
            "_view_count": null,
            "_view_module": "@jupyter-widgets/base",
            "_view_module_version": "1.2.0",
            "_view_name": "StyleView",
            "description_width": ""
          }
        },
        "baeb3011ca7d46049d5801eac34efcd7": {
          "model_module": "@jupyter-widgets/base",
          "model_module_version": "1.2.0",
          "model_name": "LayoutModel",
          "state": {
            "_model_module": "@jupyter-widgets/base",
            "_model_module_version": "1.2.0",
            "_model_name": "LayoutModel",
            "_view_count": null,
            "_view_module": "@jupyter-widgets/base",
            "_view_module_version": "1.2.0",
            "_view_name": "LayoutView",
            "align_content": null,
            "align_items": null,
            "align_self": null,
            "border": null,
            "bottom": null,
            "display": null,
            "flex": null,
            "flex_flow": null,
            "grid_area": null,
            "grid_auto_columns": null,
            "grid_auto_flow": null,
            "grid_auto_rows": null,
            "grid_column": null,
            "grid_gap": null,
            "grid_row": null,
            "grid_template_areas": null,
            "grid_template_columns": null,
            "grid_template_rows": null,
            "height": null,
            "justify_content": null,
            "justify_items": null,
            "left": null,
            "margin": null,
            "max_height": null,
            "max_width": null,
            "min_height": null,
            "min_width": null,
            "object_fit": null,
            "object_position": null,
            "order": null,
            "overflow": null,
            "overflow_x": null,
            "overflow_y": null,
            "padding": null,
            "right": null,
            "top": null,
            "visibility": null,
            "width": null
          }
        },
        "bb0e73189a2c4ee098adf8ce5dbf4003": {
          "model_module": "@jupyter-widgets/controls",
          "model_module_version": "1.5.0",
          "model_name": "DescriptionStyleModel",
          "state": {
            "_model_module": "@jupyter-widgets/controls",
            "_model_module_version": "1.5.0",
            "_model_name": "DescriptionStyleModel",
            "_view_count": null,
            "_view_module": "@jupyter-widgets/base",
            "_view_module_version": "1.2.0",
            "_view_name": "StyleView",
            "description_width": ""
          }
        },
        "bef6718c07464cef8c655297cdcda996": {
          "model_module": "@jupyter-widgets/controls",
          "model_module_version": "1.5.0",
          "model_name": "HBoxModel",
          "state": {
            "_dom_classes": [],
            "_model_module": "@jupyter-widgets/controls",
            "_model_module_version": "1.5.0",
            "_model_name": "HBoxModel",
            "_view_count": null,
            "_view_module": "@jupyter-widgets/controls",
            "_view_module_version": "1.5.0",
            "_view_name": "HBoxView",
            "box_style": "",
            "children": [
              "IPY_MODEL_78e95c7e3c894d1688c8c203646a1d53",
              "IPY_MODEL_f182d9c4b04f40f682abac6ad7b1ec86",
              "IPY_MODEL_fe5d2a45e4ed40ab8718ce885a4a0f76"
            ],
            "layout": "IPY_MODEL_d81255f8a724403daf4322d90a44e090"
          }
        },
        "c211012f2ea747e1b8a4df8a8a9da819": {
          "model_module": "@jupyter-widgets/controls",
          "model_module_version": "1.5.0",
          "model_name": "HTMLModel",
          "state": {
            "_dom_classes": [],
            "_model_module": "@jupyter-widgets/controls",
            "_model_module_version": "1.5.0",
            "_model_name": "HTMLModel",
            "_view_count": null,
            "_view_module": "@jupyter-widgets/controls",
            "_view_module_version": "1.5.0",
            "_view_name": "HTMLView",
            "description": "",
            "description_tooltip": null,
            "layout": "IPY_MODEL_fa1d6cbc95fa433b98841a4bbd64e7dd",
            "placeholder": "​",
            "style": "IPY_MODEL_bb0e73189a2c4ee098adf8ce5dbf4003",
            "value": "config.json: 100%"
          }
        },
        "c378aa53490144329415767655c3697f": {
          "model_module": "@jupyter-widgets/controls",
          "model_module_version": "1.5.0",
          "model_name": "DescriptionStyleModel",
          "state": {
            "_model_module": "@jupyter-widgets/controls",
            "_model_module_version": "1.5.0",
            "_model_name": "DescriptionStyleModel",
            "_view_count": null,
            "_view_module": "@jupyter-widgets/base",
            "_view_module_version": "1.2.0",
            "_view_name": "StyleView",
            "description_width": ""
          }
        },
        "c4d0d9a052844535b3c40e505efcf4ec": {
          "model_module": "@jupyter-widgets/controls",
          "model_module_version": "1.5.0",
          "model_name": "HBoxModel",
          "state": {
            "_dom_classes": [],
            "_model_module": "@jupyter-widgets/controls",
            "_model_module_version": "1.5.0",
            "_model_name": "HBoxModel",
            "_view_count": null,
            "_view_module": "@jupyter-widgets/controls",
            "_view_module_version": "1.5.0",
            "_view_name": "HBoxView",
            "box_style": "",
            "children": [
              "IPY_MODEL_c211012f2ea747e1b8a4df8a8a9da819",
              "IPY_MODEL_f1942c2068ad495b87a478e424afa9f4",
              "IPY_MODEL_ca1f9000a90d4e5f9586ad09fd05619f"
            ],
            "layout": "IPY_MODEL_c7aed221593340d9aa97ea00fc960967"
          }
        },
        "c7aed221593340d9aa97ea00fc960967": {
          "model_module": "@jupyter-widgets/base",
          "model_module_version": "1.2.0",
          "model_name": "LayoutModel",
          "state": {
            "_model_module": "@jupyter-widgets/base",
            "_model_module_version": "1.2.0",
            "_model_name": "LayoutModel",
            "_view_count": null,
            "_view_module": "@jupyter-widgets/base",
            "_view_module_version": "1.2.0",
            "_view_name": "LayoutView",
            "align_content": null,
            "align_items": null,
            "align_self": null,
            "border": null,
            "bottom": null,
            "display": null,
            "flex": null,
            "flex_flow": null,
            "grid_area": null,
            "grid_auto_columns": null,
            "grid_auto_flow": null,
            "grid_auto_rows": null,
            "grid_column": null,
            "grid_gap": null,
            "grid_row": null,
            "grid_template_areas": null,
            "grid_template_columns": null,
            "grid_template_rows": null,
            "height": null,
            "justify_content": null,
            "justify_items": null,
            "left": null,
            "margin": null,
            "max_height": null,
            "max_width": null,
            "min_height": null,
            "min_width": null,
            "object_fit": null,
            "object_position": null,
            "order": null,
            "overflow": null,
            "overflow_x": null,
            "overflow_y": null,
            "padding": null,
            "right": null,
            "top": null,
            "visibility": null,
            "width": null
          }
        },
        "c7dcefb68ac04950aa5f88c0f055aceb": {
          "model_module": "@jupyter-widgets/controls",
          "model_module_version": "1.5.0",
          "model_name": "ProgressStyleModel",
          "state": {
            "_model_module": "@jupyter-widgets/controls",
            "_model_module_version": "1.5.0",
            "_model_name": "ProgressStyleModel",
            "_view_count": null,
            "_view_module": "@jupyter-widgets/base",
            "_view_module_version": "1.2.0",
            "_view_name": "StyleView",
            "bar_color": null,
            "description_width": ""
          }
        },
        "ca1f9000a90d4e5f9586ad09fd05619f": {
          "model_module": "@jupyter-widgets/controls",
          "model_module_version": "1.5.0",
          "model_name": "HTMLModel",
          "state": {
            "_dom_classes": [],
            "_model_module": "@jupyter-widgets/controls",
            "_model_module_version": "1.5.0",
            "_model_name": "HTMLModel",
            "_view_count": null,
            "_view_module": "@jupyter-widgets/controls",
            "_view_module_version": "1.5.0",
            "_view_name": "HTMLView",
            "description": "",
            "description_tooltip": null,
            "layout": "IPY_MODEL_e1192b27c66c406dbd470db0bc9b95c9",
            "placeholder": "​",
            "style": "IPY_MODEL_56d6a365b59f4b1f8ea5ae6edc97515a",
            "value": " 629/629 [00:00&lt;00:00, 29.1kB/s]"
          }
        },
        "cb2606c94b4d4320b37c33474132a3b6": {
          "model_module": "@jupyter-widgets/base",
          "model_module_version": "1.2.0",
          "model_name": "LayoutModel",
          "state": {
            "_model_module": "@jupyter-widgets/base",
            "_model_module_version": "1.2.0",
            "_model_name": "LayoutModel",
            "_view_count": null,
            "_view_module": "@jupyter-widgets/base",
            "_view_module_version": "1.2.0",
            "_view_name": "LayoutView",
            "align_content": null,
            "align_items": null,
            "align_self": null,
            "border": null,
            "bottom": null,
            "display": null,
            "flex": null,
            "flex_flow": null,
            "grid_area": null,
            "grid_auto_columns": null,
            "grid_auto_flow": null,
            "grid_auto_rows": null,
            "grid_column": null,
            "grid_gap": null,
            "grid_row": null,
            "grid_template_areas": null,
            "grid_template_columns": null,
            "grid_template_rows": null,
            "height": null,
            "justify_content": null,
            "justify_items": null,
            "left": null,
            "margin": null,
            "max_height": null,
            "max_width": null,
            "min_height": null,
            "min_width": null,
            "object_fit": null,
            "object_position": null,
            "order": null,
            "overflow": null,
            "overflow_x": null,
            "overflow_y": null,
            "padding": null,
            "right": null,
            "top": null,
            "visibility": null,
            "width": null
          }
        },
        "cdf6bd3a76dd45bba33312bb745f40a1": {
          "model_module": "@jupyter-widgets/controls",
          "model_module_version": "1.5.0",
          "model_name": "HTMLModel",
          "state": {
            "_dom_classes": [],
            "_model_module": "@jupyter-widgets/controls",
            "_model_module_version": "1.5.0",
            "_model_name": "HTMLModel",
            "_view_count": null,
            "_view_module": "@jupyter-widgets/controls",
            "_view_module_version": "1.5.0",
            "_view_name": "HTMLView",
            "description": "",
            "description_tooltip": null,
            "layout": "IPY_MODEL_0f04133bf9c14dcaa4b1f3e6edbfbca3",
            "placeholder": "​",
            "style": "IPY_MODEL_01719060bb404f61b043a056c2ae5b96",
            "value": "tokenizer_config.json: 100%"
          }
        },
        "d386fefea47f41efbc79c8d4c0ba49c1": {
          "model_module": "@jupyter-widgets/controls",
          "model_module_version": "1.5.0",
          "model_name": "DescriptionStyleModel",
          "state": {
            "_model_module": "@jupyter-widgets/controls",
            "_model_module_version": "1.5.0",
            "_model_name": "DescriptionStyleModel",
            "_view_count": null,
            "_view_module": "@jupyter-widgets/base",
            "_view_module_version": "1.2.0",
            "_view_name": "StyleView",
            "description_width": ""
          }
        },
        "d626d606e607453a9a3820a3e1598588": {
          "model_module": "@jupyter-widgets/controls",
          "model_module_version": "1.5.0",
          "model_name": "DescriptionStyleModel",
          "state": {
            "_model_module": "@jupyter-widgets/controls",
            "_model_module_version": "1.5.0",
            "_model_name": "DescriptionStyleModel",
            "_view_count": null,
            "_view_module": "@jupyter-widgets/base",
            "_view_module_version": "1.2.0",
            "_view_name": "StyleView",
            "description_width": ""
          }
        },
        "d81255f8a724403daf4322d90a44e090": {
          "model_module": "@jupyter-widgets/base",
          "model_module_version": "1.2.0",
          "model_name": "LayoutModel",
          "state": {
            "_model_module": "@jupyter-widgets/base",
            "_model_module_version": "1.2.0",
            "_model_name": "LayoutModel",
            "_view_count": null,
            "_view_module": "@jupyter-widgets/base",
            "_view_module_version": "1.2.0",
            "_view_name": "LayoutView",
            "align_content": null,
            "align_items": null,
            "align_self": null,
            "border": null,
            "bottom": null,
            "display": null,
            "flex": null,
            "flex_flow": null,
            "grid_area": null,
            "grid_auto_columns": null,
            "grid_auto_flow": null,
            "grid_auto_rows": null,
            "grid_column": null,
            "grid_gap": null,
            "grid_row": null,
            "grid_template_areas": null,
            "grid_template_columns": null,
            "grid_template_rows": null,
            "height": null,
            "justify_content": null,
            "justify_items": null,
            "left": null,
            "margin": null,
            "max_height": null,
            "max_width": null,
            "min_height": null,
            "min_width": null,
            "object_fit": null,
            "object_position": null,
            "order": null,
            "overflow": null,
            "overflow_x": null,
            "overflow_y": null,
            "padding": null,
            "right": null,
            "top": null,
            "visibility": null,
            "width": null
          }
        },
        "d913ba66694e451894b2d6a9a632a3dd": {
          "model_module": "@jupyter-widgets/base",
          "model_module_version": "1.2.0",
          "model_name": "LayoutModel",
          "state": {
            "_model_module": "@jupyter-widgets/base",
            "_model_module_version": "1.2.0",
            "_model_name": "LayoutModel",
            "_view_count": null,
            "_view_module": "@jupyter-widgets/base",
            "_view_module_version": "1.2.0",
            "_view_name": "LayoutView",
            "align_content": null,
            "align_items": null,
            "align_self": null,
            "border": null,
            "bottom": null,
            "display": null,
            "flex": null,
            "flex_flow": null,
            "grid_area": null,
            "grid_auto_columns": null,
            "grid_auto_flow": null,
            "grid_auto_rows": null,
            "grid_column": null,
            "grid_gap": null,
            "grid_row": null,
            "grid_template_areas": null,
            "grid_template_columns": null,
            "grid_template_rows": null,
            "height": null,
            "justify_content": null,
            "justify_items": null,
            "left": null,
            "margin": null,
            "max_height": null,
            "max_width": null,
            "min_height": null,
            "min_width": null,
            "object_fit": null,
            "object_position": null,
            "order": null,
            "overflow": null,
            "overflow_x": null,
            "overflow_y": null,
            "padding": null,
            "right": null,
            "top": null,
            "visibility": null,
            "width": null
          }
        },
        "e0159a469a3140abac87a91a03fb6cf3": {
          "model_module": "@jupyter-widgets/base",
          "model_module_version": "1.2.0",
          "model_name": "LayoutModel",
          "state": {
            "_model_module": "@jupyter-widgets/base",
            "_model_module_version": "1.2.0",
            "_model_name": "LayoutModel",
            "_view_count": null,
            "_view_module": "@jupyter-widgets/base",
            "_view_module_version": "1.2.0",
            "_view_name": "LayoutView",
            "align_content": null,
            "align_items": null,
            "align_self": null,
            "border": null,
            "bottom": null,
            "display": null,
            "flex": null,
            "flex_flow": null,
            "grid_area": null,
            "grid_auto_columns": null,
            "grid_auto_flow": null,
            "grid_auto_rows": null,
            "grid_column": null,
            "grid_gap": null,
            "grid_row": null,
            "grid_template_areas": null,
            "grid_template_columns": null,
            "grid_template_rows": null,
            "height": null,
            "justify_content": null,
            "justify_items": null,
            "left": null,
            "margin": null,
            "max_height": null,
            "max_width": null,
            "min_height": null,
            "min_width": null,
            "object_fit": null,
            "object_position": null,
            "order": null,
            "overflow": null,
            "overflow_x": null,
            "overflow_y": null,
            "padding": null,
            "right": null,
            "top": null,
            "visibility": null,
            "width": null
          }
        },
        "e1192b27c66c406dbd470db0bc9b95c9": {
          "model_module": "@jupyter-widgets/base",
          "model_module_version": "1.2.0",
          "model_name": "LayoutModel",
          "state": {
            "_model_module": "@jupyter-widgets/base",
            "_model_module_version": "1.2.0",
            "_model_name": "LayoutModel",
            "_view_count": null,
            "_view_module": "@jupyter-widgets/base",
            "_view_module_version": "1.2.0",
            "_view_name": "LayoutView",
            "align_content": null,
            "align_items": null,
            "align_self": null,
            "border": null,
            "bottom": null,
            "display": null,
            "flex": null,
            "flex_flow": null,
            "grid_area": null,
            "grid_auto_columns": null,
            "grid_auto_flow": null,
            "grid_auto_rows": null,
            "grid_column": null,
            "grid_gap": null,
            "grid_row": null,
            "grid_template_areas": null,
            "grid_template_columns": null,
            "grid_template_rows": null,
            "height": null,
            "justify_content": null,
            "justify_items": null,
            "left": null,
            "margin": null,
            "max_height": null,
            "max_width": null,
            "min_height": null,
            "min_width": null,
            "object_fit": null,
            "object_position": null,
            "order": null,
            "overflow": null,
            "overflow_x": null,
            "overflow_y": null,
            "padding": null,
            "right": null,
            "top": null,
            "visibility": null,
            "width": null
          }
        },
        "ed07d70fd8da4193bc0bb1d5f436dd00": {
          "model_module": "@jupyter-widgets/controls",
          "model_module_version": "1.5.0",
          "model_name": "HTMLModel",
          "state": {
            "_dom_classes": [],
            "_model_module": "@jupyter-widgets/controls",
            "_model_module_version": "1.5.0",
            "_model_name": "HTMLModel",
            "_view_count": null,
            "_view_module": "@jupyter-widgets/controls",
            "_view_module_version": "1.5.0",
            "_view_name": "HTMLView",
            "description": "",
            "description_tooltip": null,
            "layout": "IPY_MODEL_a6cf4bb4c16d4b039adc1c77e75b6de0",
            "placeholder": "​",
            "style": "IPY_MODEL_2ae3b595544c46abad9313f8e2bb4865",
            "value": "Map: 100%"
          }
        },
        "f182d9c4b04f40f682abac6ad7b1ec86": {
          "model_module": "@jupyter-widgets/controls",
          "model_module_version": "1.5.0",
          "model_name": "FloatProgressModel",
          "state": {
            "_dom_classes": [],
            "_model_module": "@jupyter-widgets/controls",
            "_model_module_version": "1.5.0",
            "_model_name": "FloatProgressModel",
            "_view_count": null,
            "_view_module": "@jupyter-widgets/controls",
            "_view_module_version": "1.5.0",
            "_view_name": "ProgressView",
            "bar_style": "success",
            "description": "",
            "description_tooltip": null,
            "layout": "IPY_MODEL_572b71b286a94ee08b52ce9c168e7f3a",
            "max": 11314,
            "min": 0,
            "orientation": "horizontal",
            "style": "IPY_MODEL_78a39604dda240fdb6933d59f1c23a2e",
            "value": 11314
          }
        },
        "f1942c2068ad495b87a478e424afa9f4": {
          "model_module": "@jupyter-widgets/controls",
          "model_module_version": "1.5.0",
          "model_name": "FloatProgressModel",
          "state": {
            "_dom_classes": [],
            "_model_module": "@jupyter-widgets/controls",
            "_model_module_version": "1.5.0",
            "_model_name": "FloatProgressModel",
            "_view_count": null,
            "_view_module": "@jupyter-widgets/controls",
            "_view_module_version": "1.5.0",
            "_view_name": "ProgressView",
            "bar_style": "success",
            "description": "",
            "description_tooltip": null,
            "layout": "IPY_MODEL_cb2606c94b4d4320b37c33474132a3b6",
            "max": 629,
            "min": 0,
            "orientation": "horizontal",
            "style": "IPY_MODEL_a522daeaa4d74141a8b0cc29c9412031",
            "value": 629
          }
        },
        "f1c0c62aea164e699329a6a0b1bb6d4f": {
          "model_module": "@jupyter-widgets/controls",
          "model_module_version": "1.5.0",
          "model_name": "HTMLModel",
          "state": {
            "_dom_classes": [],
            "_model_module": "@jupyter-widgets/controls",
            "_model_module_version": "1.5.0",
            "_model_name": "HTMLModel",
            "_view_count": null,
            "_view_module": "@jupyter-widgets/controls",
            "_view_module_version": "1.5.0",
            "_view_name": "HTMLView",
            "description": "",
            "description_tooltip": null,
            "layout": "IPY_MODEL_2254cb2faede4d8c8747b87712b68685",
            "placeholder": "​",
            "style": "IPY_MODEL_89519bcba5d9438ba5dbb99a0e2375a3",
            "value": " 48.0/48.0 [00:00&lt;00:00, 1.20kB/s]"
          }
        },
        "f3912f74e9fe46debcb8adeccf9fc9ac": {
          "model_module": "@jupyter-widgets/controls",
          "model_module_version": "1.5.0",
          "model_name": "DescriptionStyleModel",
          "state": {
            "_model_module": "@jupyter-widgets/controls",
            "_model_module_version": "1.5.0",
            "_model_name": "DescriptionStyleModel",
            "_view_count": null,
            "_view_module": "@jupyter-widgets/base",
            "_view_module_version": "1.2.0",
            "_view_name": "StyleView",
            "description_width": ""
          }
        },
        "fa1d6cbc95fa433b98841a4bbd64e7dd": {
          "model_module": "@jupyter-widgets/base",
          "model_module_version": "1.2.0",
          "model_name": "LayoutModel",
          "state": {
            "_model_module": "@jupyter-widgets/base",
            "_model_module_version": "1.2.0",
            "_model_name": "LayoutModel",
            "_view_count": null,
            "_view_module": "@jupyter-widgets/base",
            "_view_module_version": "1.2.0",
            "_view_name": "LayoutView",
            "align_content": null,
            "align_items": null,
            "align_self": null,
            "border": null,
            "bottom": null,
            "display": null,
            "flex": null,
            "flex_flow": null,
            "grid_area": null,
            "grid_auto_columns": null,
            "grid_auto_flow": null,
            "grid_auto_rows": null,
            "grid_column": null,
            "grid_gap": null,
            "grid_row": null,
            "grid_template_areas": null,
            "grid_template_columns": null,
            "grid_template_rows": null,
            "height": null,
            "justify_content": null,
            "justify_items": null,
            "left": null,
            "margin": null,
            "max_height": null,
            "max_width": null,
            "min_height": null,
            "min_width": null,
            "object_fit": null,
            "object_position": null,
            "order": null,
            "overflow": null,
            "overflow_x": null,
            "overflow_y": null,
            "padding": null,
            "right": null,
            "top": null,
            "visibility": null,
            "width": null
          }
        },
        "fcf770ddc7c749e6944c5707c8445a44": {
          "model_module": "@jupyter-widgets/controls",
          "model_module_version": "1.5.0",
          "model_name": "FloatProgressModel",
          "state": {
            "_dom_classes": [],
            "_model_module": "@jupyter-widgets/controls",
            "_model_module_version": "1.5.0",
            "_model_name": "FloatProgressModel",
            "_view_count": null,
            "_view_module": "@jupyter-widgets/controls",
            "_view_module_version": "1.5.0",
            "_view_name": "ProgressView",
            "bar_style": "success",
            "description": "",
            "description_tooltip": null,
            "layout": "IPY_MODEL_28daa3816b2e4be4852c91658e589043",
            "max": 3766,
            "min": 0,
            "orientation": "horizontal",
            "style": "IPY_MODEL_a337a094ab784bb5b94f388f27843189",
            "value": 3766
          }
        },
        "fe5d2a45e4ed40ab8718ce885a4a0f76": {
          "model_module": "@jupyter-widgets/controls",
          "model_module_version": "1.5.0",
          "model_name": "HTMLModel",
          "state": {
            "_dom_classes": [],
            "_model_module": "@jupyter-widgets/controls",
            "_model_module_version": "1.5.0",
            "_model_name": "HTMLModel",
            "_view_count": null,
            "_view_module": "@jupyter-widgets/controls",
            "_view_module_version": "1.5.0",
            "_view_name": "HTMLView",
            "description": "",
            "description_tooltip": null,
            "layout": "IPY_MODEL_808a76e986bc43c68bdacaa1e36626b5",
            "placeholder": "​",
            "style": "IPY_MODEL_d386fefea47f41efbc79c8d4c0ba49c1",
            "value": " 11314/11314 [01:20&lt;00:00, 149.58 examples/s]"
          }
        }
      }
    }
  },
  "nbformat": 4,
  "nbformat_minor": 0
}
